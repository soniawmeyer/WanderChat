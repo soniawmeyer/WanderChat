{
 "cells": [
  {
   "cell_type": "code",
   "execution_count": 2,
   "metadata": {},
   "outputs": [],
   "source": [
    "import pandas as pd\n",
    "import os"
   ]
  },
  {
   "cell_type": "code",
   "execution_count": 3,
   "metadata": {},
   "outputs": [],
   "source": [
    "chats_dir = \"/Users/christopherton/Desktop/SJSU_MSDA/WanderChat/app/chats\""
   ]
  },
  {
   "cell_type": "code",
   "execution_count": 4,
   "metadata": {},
   "outputs": [],
   "source": [
    "chats_log = os.listdir(chats_dir)"
   ]
  },
  {
   "cell_type": "code",
   "execution_count": 5,
   "metadata": {},
   "outputs": [],
   "source": [
    "def read_log_file(log_file):\n",
    "    log_filepath = os.path.join(chats_dir, log_file)\n",
    "\n",
    "    if not os.path.exists(log_filepath):\n",
    "        return f\"Log file '{log_file}' not found.\"\n",
    "\n",
    "    with open(log_filepath, 'r') as file:\n",
    "        content = file.read()\n",
    "        return content"
   ]
  },
  {
   "cell_type": "code",
   "execution_count": 8,
   "metadata": {},
   "outputs": [
    {
     "name": "stdout",
     "output_type": "stream",
     "text": [
      "Travel_experience_with_Air_Dolomiti_and_violin_cabinet_size_concerns.log\n",
      "Searching_for_a_place_with_warm_summer_ocean_80_degrees_and_autumn_fall_colors_reds_oranges_yellows.log\n",
      "Secluded_dating_destination_preference.log\n",
      "Longhaul_flight_inflatable_foot_rests_airline_policies_lieflat_beds_in_economy_class.log\n",
      "Sure_here_is_the_extracted_topic_Dinner_recommendations_in_San_Jose.log\n",
      "Spring_training_baseball_traveling_to_LA_two_travel_routes_considering_Salton_Sea_and_Slab_City.log\n",
      "Vacation_ideas_45_days_in_Punta_Cana_activities_food_sightseeing.log\n",
      "PhD_researcher_contemplating_move_from_Canada_to_UK_for_work_opportunities_and_lifestyle_preferences.log\n",
      "Traveler_seeking_advice_on_Sacred_Valley_itinerary_and_local_bus_transportation_in_Peru.log\n",
      "Mountains_with_excellent_hiking_trails_Topic_Suggesting_a_mountainous_destination_for_avid_hikers.log\n",
      "United_Airlines_Upgrading_Polaris_class_with_miles_or_points_on_TysIADAMS_trip.log\n",
      "Sure_here_is_the_extracted_topic_in_five_words_or_less_Upgrading_to_Polaris_on_United_flight_from_IAD_to_AMS.log\n",
      "Traveling_between_two_flights_with_a_short_layover_in_Dubai_airport.log\n",
      "United_Airlines_Upgrading_Polaris_class_with_miles_or_points.log\n",
      "Place_with_warm_summer_ocean_80_degrees_and_autumn_fall_colors_reds_oranges_yellows.log\n",
      "Award_travel_UR_points_Singapore_Airlines_Economy_vs_Business_Class_LAXBKKLAX_in_January_2024.log\n",
      "Traveling_to_Malaysia_considering_hostel_stay_in_KL_for_socializing_questioning_ideal_duration_and_vibe_and_transport_options_to_Langkawi.log\n"
     ]
    }
   ],
   "source": [
    "history = {'name':[],'question':[],'context':[],'response':[]}\n",
    "for c in chats_log:\n",
    "    print(c)\n",
    "    content = read_log_file(c).split('\\n')\n",
    "    content = [item for item in content if item != \"\"]\n",
    "    question_index = content.index('Question:')\n",
    "    context_index = content.index('Context:')\n",
    "    model_index = content.index('Answer:')\n",
    "    \n",
    "    question_list = ''.join(content[question_index:context_index]).replace('Question:','')\n",
    "    context_list  = ''.join(content[context_index:model_index]).replace('Context:','')\n",
    "    model_list = ''.join(content[model_index:]).replace('Answer:','')\n",
    "    \n",
    "    history['name'].append(c)\n",
    "    history['question'].append(question_list)\n",
    "    history['context'].append(context_list)\n",
    "    history['response'].append(model_list)\n",
    "    "
   ]
  },
  {
   "cell_type": "code",
   "execution_count": 9,
   "metadata": {},
   "outputs": [
    {
     "data": {
      "text/html": [
       "<div>\n",
       "<style scoped>\n",
       "    .dataframe tbody tr th:only-of-type {\n",
       "        vertical-align: middle;\n",
       "    }\n",
       "\n",
       "    .dataframe tbody tr th {\n",
       "        vertical-align: top;\n",
       "    }\n",
       "\n",
       "    .dataframe thead th {\n",
       "        text-align: right;\n",
       "    }\n",
       "</style>\n",
       "<table border=\"1\" class=\"dataframe\">\n",
       "  <thead>\n",
       "    <tr style=\"text-align: right;\">\n",
       "      <th></th>\n",
       "      <th>name</th>\n",
       "      <th>question</th>\n",
       "      <th>context</th>\n",
       "      <th>response</th>\n",
       "    </tr>\n",
       "  </thead>\n",
       "  <tbody>\n",
       "    <tr>\n",
       "      <th>0</th>\n",
       "      <td>Travel_experience_with_Air_Dolomiti_and_violin...</td>\n",
       "      <td>As the post I made before, I would like to kno...</td>\n",
       "      <td>Question: As the post I made before, I would l...</td>\n",
       "      <td>According to Air Dolomiti's website, musical ...</td>\n",
       "    </tr>\n",
       "    <tr>\n",
       "      <th>1</th>\n",
       "      <td>Searching_for_a_place_with_warm_summer_ocean_8...</td>\n",
       "      <td>I've been to 50 countries, 6 continents, and 4...</td>\n",
       "      <td>Question: Does anyone know of a place where th...</td>\n",
       "      <td>According to the context provided, there are ...</td>\n",
       "    </tr>\n",
       "    <tr>\n",
       "      <th>2</th>\n",
       "      <td>Secluded_dating_destination_preference.log</td>\n",
       "      <td>tell me where to go with my girlfriend and I h...</td>\n",
       "      <td>Question: than be in a super crowded area. So ...</td>\n",
       "      <td>Based on your statement that you hate traveli...</td>\n",
       "    </tr>\n",
       "    <tr>\n",
       "      <th>3</th>\n",
       "      <td>Longhaul_flight_inflatable_foot_rests_airline_...</td>\n",
       "      <td>\"My kid and I will have an 18+ hour flight ver...</td>\n",
       "      <td>Question: My kid and I will have an 18+ hour f...</td>\n",
       "      <td>Based on the context provided, it appears tha...</td>\n",
       "    </tr>\n",
       "    <tr>\n",
       "      <th>4</th>\n",
       "      <td>Sure_here_is_the_extracted_topic_Dinner_recomm...</td>\n",
       "      <td>dinner reocmmendations in san jose</td>\n",
       "      <td>Question: (think NY strip or prime rib, lobste...</td>\n",
       "      <td>This text is a draft and it needs more context...</td>\n",
       "    </tr>\n",
       "    <tr>\n",
       "      <th>5</th>\n",
       "      <td>Spring_training_baseball_traveling_to_LA_two_t...</td>\n",
       "      <td>In March after some spring training baseball g...</td>\n",
       "      <td>Question: In March after some spring training ...</td>\n",
       "      <td>Based on the context provided, the user is lo...</td>\n",
       "    </tr>\n",
       "    <tr>\n",
       "      <th>6</th>\n",
       "      <td>Vacation_ideas_45_days_in_Punta_Cana_activitie...</td>\n",
       "      <td>Give me an itinerary for things to do, eat, an...</td>\n",
       "      <td>Question: **DAYS 7-8: PUERTO ESCONDIDO (I stay...</td>\n",
       "      <td>Based on the provided context, it seems that ...</td>\n",
       "    </tr>\n",
       "    <tr>\n",
       "      <th>7</th>\n",
       "      <td>PhD_researcher_contemplating_move_from_Canada_...</td>\n",
       "      <td>Hello,  \\nI am currently doing a PhD in politi...</td>\n",
       "      <td>Question: Hello,  I am currently doing a PhD i...</td>\n",
       "      <td>Based on the context provided, it appears tha...</td>\n",
       "    </tr>\n",
       "    <tr>\n",
       "      <th>8</th>\n",
       "      <td>Traveler_seeking_advice_on_Sacred_Valley_itine...</td>\n",
       "      <td>Hi all! My husband and I are going to Peru thi...</td>\n",
       "      <td>Question: Hi all! My husband and I are going t...</td>\n",
       "      <td>Based on the context provided, it appears tha...</td>\n",
       "    </tr>\n",
       "    <tr>\n",
       "      <th>9</th>\n",
       "      <td>Mountains_with_excellent_hiking_trails_Topic_S...</td>\n",
       "      <td>Recommend a travel destination for someone who...</td>\n",
       "      <td>Question: I need suggestions to the best luxur...</td>\n",
       "      <td>Based on the context provided, there are seve...</td>\n",
       "    </tr>\n",
       "    <tr>\n",
       "      <th>10</th>\n",
       "      <td>United_Airlines_Upgrading_Polaris_class_with_m...</td>\n",
       "      <td>Hi I'm thinking of flying on Nov 18 from tys t...</td>\n",
       "      <td>Question: Hi I'm thinking of flying on Nov 18 ...</td>\n",
       "      <td>According to the responses from Reddit users,...</td>\n",
       "    </tr>\n",
       "    <tr>\n",
       "      <th>11</th>\n",
       "      <td>Sure_here_is_the_extracted_topic_in_five_words...</td>\n",
       "      <td>Hi I'm thinking of flying on Nov 18 from tys t...</td>\n",
       "      <td>Question: Hi I'm thinking of flying on Nov 18 ...</td>\n",
       "      <td>## AnswerThe text does not provide information...</td>\n",
       "    </tr>\n",
       "    <tr>\n",
       "      <th>12</th>\n",
       "      <td>Traveling_between_two_flights_with_a_short_lay...</td>\n",
       "      <td>Hello everyone, I got an itinerary in which th...</td>\n",
       "      <td>Question: Hello everyone, I got an itinerary i...</td>\n",
       "      <td>Based on the information provided in the cont...</td>\n",
       "    </tr>\n",
       "    <tr>\n",
       "      <th>13</th>\n",
       "      <td>United_Airlines_Upgrading_Polaris_class_with_m...</td>\n",
       "      <td>\"Hi I'm thinking of flying on Nov 18 from tys ...</td>\n",
       "      <td>Question: Hi I'm thinking of flying on Nov 18 ...</td>\n",
       "      <td>According to the information provided in the ...</td>\n",
       "    </tr>\n",
       "    <tr>\n",
       "      <th>14</th>\n",
       "      <td>Place_with_warm_summer_ocean_80_degrees_and_au...</td>\n",
       "      <td>I've been to 50 countries, 6 continents, and 4...</td>\n",
       "      <td>Question: Does anyone know of a place where th...</td>\n",
       "      <td>Based on the information provided in the cont...</td>\n",
       "    </tr>\n",
       "    <tr>\n",
       "      <th>15</th>\n",
       "      <td>Award_travel_UR_points_Singapore_Airlines_Econ...</td>\n",
       "      <td>Long time award travel lurker, first time post...</td>\n",
       "      <td>Question: Long time award travel lurker, first...</td>\n",
       "      <td>Based on the information provided in the ques...</td>\n",
       "    </tr>\n",
       "    <tr>\n",
       "      <th>16</th>\n",
       "      <td>Traveling_to_Malaysia_considering_hostel_stay_...</td>\n",
       "      <td>Hey I'm going to Malaysia in a couple of weeks...</td>\n",
       "      <td>Question: Would it be smart for me to book a h...</td>\n",
       "      <td>Based on the conversation, it appears that OP...</td>\n",
       "    </tr>\n",
       "  </tbody>\n",
       "</table>\n",
       "</div>"
      ],
      "text/plain": [
       "                                                 name  \\\n",
       "0   Travel_experience_with_Air_Dolomiti_and_violin...   \n",
       "1   Searching_for_a_place_with_warm_summer_ocean_8...   \n",
       "2          Secluded_dating_destination_preference.log   \n",
       "3   Longhaul_flight_inflatable_foot_rests_airline_...   \n",
       "4   Sure_here_is_the_extracted_topic_Dinner_recomm...   \n",
       "5   Spring_training_baseball_traveling_to_LA_two_t...   \n",
       "6   Vacation_ideas_45_days_in_Punta_Cana_activitie...   \n",
       "7   PhD_researcher_contemplating_move_from_Canada_...   \n",
       "8   Traveler_seeking_advice_on_Sacred_Valley_itine...   \n",
       "9   Mountains_with_excellent_hiking_trails_Topic_S...   \n",
       "10  United_Airlines_Upgrading_Polaris_class_with_m...   \n",
       "11  Sure_here_is_the_extracted_topic_in_five_words...   \n",
       "12  Traveling_between_two_flights_with_a_short_lay...   \n",
       "13  United_Airlines_Upgrading_Polaris_class_with_m...   \n",
       "14  Place_with_warm_summer_ocean_80_degrees_and_au...   \n",
       "15  Award_travel_UR_points_Singapore_Airlines_Econ...   \n",
       "16  Traveling_to_Malaysia_considering_hostel_stay_...   \n",
       "\n",
       "                                             question  \\\n",
       "0   As the post I made before, I would like to kno...   \n",
       "1   I've been to 50 countries, 6 continents, and 4...   \n",
       "2   tell me where to go with my girlfriend and I h...   \n",
       "3   \"My kid and I will have an 18+ hour flight ver...   \n",
       "4                  dinner reocmmendations in san jose   \n",
       "5   In March after some spring training baseball g...   \n",
       "6   Give me an itinerary for things to do, eat, an...   \n",
       "7   Hello,  \\nI am currently doing a PhD in politi...   \n",
       "8   Hi all! My husband and I are going to Peru thi...   \n",
       "9   Recommend a travel destination for someone who...   \n",
       "10  Hi I'm thinking of flying on Nov 18 from tys t...   \n",
       "11  Hi I'm thinking of flying on Nov 18 from tys t...   \n",
       "12  Hello everyone, I got an itinerary in which th...   \n",
       "13  \"Hi I'm thinking of flying on Nov 18 from tys ...   \n",
       "14  I've been to 50 countries, 6 continents, and 4...   \n",
       "15  Long time award travel lurker, first time post...   \n",
       "16  Hey I'm going to Malaysia in a couple of weeks...   \n",
       "\n",
       "                                              context  \\\n",
       "0   Question: As the post I made before, I would l...   \n",
       "1   Question: Does anyone know of a place where th...   \n",
       "2   Question: than be in a super crowded area. So ...   \n",
       "3   Question: My kid and I will have an 18+ hour f...   \n",
       "4   Question: (think NY strip or prime rib, lobste...   \n",
       "5   Question: In March after some spring training ...   \n",
       "6   Question: **DAYS 7-8: PUERTO ESCONDIDO (I stay...   \n",
       "7   Question: Hello,  I am currently doing a PhD i...   \n",
       "8   Question: Hi all! My husband and I are going t...   \n",
       "9   Question: I need suggestions to the best luxur...   \n",
       "10  Question: Hi I'm thinking of flying on Nov 18 ...   \n",
       "11  Question: Hi I'm thinking of flying on Nov 18 ...   \n",
       "12  Question: Hello everyone, I got an itinerary i...   \n",
       "13  Question: Hi I'm thinking of flying on Nov 18 ...   \n",
       "14  Question: Does anyone know of a place where th...   \n",
       "15  Question: Long time award travel lurker, first...   \n",
       "16  Question: Would it be smart for me to book a h...   \n",
       "\n",
       "                                             response  \n",
       "0    According to Air Dolomiti's website, musical ...  \n",
       "1    According to the context provided, there are ...  \n",
       "2    Based on your statement that you hate traveli...  \n",
       "3    Based on the context provided, it appears tha...  \n",
       "4   This text is a draft and it needs more context...  \n",
       "5    Based on the context provided, the user is lo...  \n",
       "6    Based on the provided context, it seems that ...  \n",
       "7    Based on the context provided, it appears tha...  \n",
       "8    Based on the context provided, it appears tha...  \n",
       "9    Based on the context provided, there are seve...  \n",
       "10   According to the responses from Reddit users,...  \n",
       "11  ## AnswerThe text does not provide information...  \n",
       "12   Based on the information provided in the cont...  \n",
       "13   According to the information provided in the ...  \n",
       "14   Based on the information provided in the cont...  \n",
       "15   Based on the information provided in the ques...  \n",
       "16   Based on the conversation, it appears that OP...  "
      ]
     },
     "execution_count": 9,
     "metadata": {},
     "output_type": "execute_result"
    }
   ],
   "source": [
    "history_df = pd.DataFrame(history)\n",
    "history_df"
   ]
  },
  {
   "cell_type": "code",
   "execution_count": 11,
   "metadata": {},
   "outputs": [
    {
     "name": "stderr",
     "output_type": "stream",
     "text": [
      "/Users/christopherton/Desktop/SJSU_MSDA/WanderChat/prot/lib/python3.11/site-packages/torch/_utils.py:831: UserWarning: TypedStorage is deprecated. It will be removed in the future and UntypedStorage will be the only storage class. This should only matter to you if you are using storages directly.  To access UntypedStorage directly, use tensor.untyped_storage() instead of tensor.storage()\n",
      "  return self.fget.__get__(instance, owner)()\n"
     ]
    }
   ],
   "source": [
    "from langchain.vectorstores import FAISS\n",
    "from langchain.embeddings.sentence_transformer import SentenceTransformerEmbeddings\n",
    "from langchain.document_loaders import DataFrameLoader\n",
    "from langchain.text_splitter import RecursiveCharacterTextSplitter\n",
    "embedding_function = SentenceTransformerEmbeddings(model_name=\"all-MiniLM-L6-v2\")\n"
   ]
  },
  {
   "cell_type": "code",
   "execution_count": 12,
   "metadata": {},
   "outputs": [],
   "source": [
    "question_loader = DataFrameLoader(history_df, page_content_column=\"question\")\n",
    "question_data = question_loader.load()\n",
    "\n",
    "splitter = RecursiveCharacterTextSplitter(chunk_size=400,\n",
    "                                          chunk_overlap=20)\n",
    "texts = splitter.split_documents(question_data)"
   ]
  },
  {
   "cell_type": "code",
   "execution_count": 13,
   "metadata": {},
   "outputs": [],
   "source": [
    "db = FAISS.from_documents(texts, embedding_function)\n",
    "\n",
    "db.save_local(\"chat_history_db\")"
   ]
  },
  {
   "cell_type": "code",
   "execution_count": 19,
   "metadata": {},
   "outputs": [],
   "source": [
    "\n",
    "db = FAISS.load_local(\"/Users/christopherton/Desktop/SJSU_MSDA/WanderChat/chat_history_db\", embedding_function)"
   ]
  },
  {
   "cell_type": "code",
   "execution_count": 18,
   "metadata": {},
   "outputs": [
    {
     "name": "stdout",
     "output_type": "stream",
     "text": [
      "Traveling_to_Malaysia_considering_hostel_stay_in_KL_for_socializing_questioning_ideal_duration_and_vibe_and_transport_options_to_Langkawi.log\n",
      "\n",
      "\n",
      "Traveling_to_Malaysia_considering_hostel_stay_in_KL_for_socializing_questioning_ideal_duration_and_vibe_and_transport_options_to_Langkawi.log\n",
      "\n",
      "\n",
      "Traveler_seeking_advice_on_Sacred_Valley_itinerary_and_local_bus_transportation_in_Peru.log\n",
      "\n",
      "\n",
      "Traveler_seeking_advice_on_Sacred_Valley_itinerary_and_local_bus_transportation_in_Peru.log\n",
      "\n",
      "\n",
      "Traveling_between_two_flights_with_a_short_layover_in_Dubai_airport.log\n",
      "\n",
      "\n"
     ]
    }
   ],
   "source": [
    "docs = db.similarity_search(\"travleing to malaysia\",k=5)\n",
    "for d in docs:\n",
    "  print(d.metadata['name'])\n",
    "  #print(d.metadata['response'])\n",
    "  #print(d.metadata[''])\n",
    "  print('\\n')"
   ]
  },
  {
   "cell_type": "code",
   "execution_count": 15,
   "metadata": {},
   "outputs": [
    {
     "data": {
      "text/plain": [
       "[Document(page_content=\"Hey I'm going to Malaysia in a couple of weeks. Been looking way to much at things to do, where to go and Im kinda getting overwhelmed. etc haha. For reference, I'm 31m from Australia\\\\n\\\\n  \\\\n**Accommodation & Hostels**\\\\n\\\\nI guess one question I have is I am looking at staying in KL for 5ish days. I would like to try and meet people, be sociable and get out of my comfort zone. I know one of the\", metadata={'name': 'Traveling_to_Malaysia_considering_hostel_stay_in_KL_for_socializing_questioning_ideal_duration_and_vibe_and_transport_options_to_Langkawi.log', 'context': 'Question: Would it be smart for me to book a hostel now or can I just get one when I get there? I have a hotel booked the first night I get there (as Im getting in late) then going to walk around the next day. I\\'m getting in on a Tuesday so I\\'m looking for a more chilled vibe for Wed/Thurs and probably more of a party vibe Fri/Sat then move to a hotel Sunday to rest and recharge. Would it be any benefit ofResponse: [\"It looks like you\\'re planning a trip around Southeast Asia. Check out solotravel\\'s [detailed guide to planning a solo Southeast Asian trip](https://www.reddit.com/r/solotravel/wiki/seasiatrip) for general planning advice plus useful tips and tricks for Southeast Asian travel!\\\\n\\\\n\\\\n*I am a bot, and this action was performed automatically. Please [contact the moderators of this subreddit](/message/compose/?to=/r/solotravel) if you have any questions or concerns.*\", \"If you want something interesting , you can take this VIP train to butterworth/penang, stop over in Penang, then it\\'s a 3 hour ferry ride to langkawi and cost about $20.\", \"5 days are too long for KL; 3 days are enough. I\\'d ditch the idea of a hostel for a hotel since they\\'re affordable by Australian standards.  Penang (via train) might be worth a stop on your way to Langkawi (ferry); if you take the train, bring a jumper since they like to keep the AC between 19-21° degrees.  Otherwise, I\\'d fly direct to Langkawi.  Bon Ton Resort/Restaurant is owned and operated by an Aussie, Narelle McMurtrie.  The resort appeals to the over 30 crowd, mostly non-Malaysians; the restaurant features a band from time to time.  Nearby is Temple Tree Resort, formerly owned by Narelle.  A few blocks down is Smiling Buffalo which appeals to the under 30 crowd.  At all three properties, you can stay in restored Malay wooded houses.  If you want to be near the beach, Pantai Tengha is where you want to be but it\\'s a built-up place.  A friend described Langkawi as what Bali used to be before it became popular.\", \\'I would recommend an overnight in Melaka.. you can take the bus from KL quite easy and cheap.  I second the idea of the train to Penang then hop over to Langkawi\\', \\'5 days does feel too long for KL. There’s not much to do there as a tourist, it’s just a big city.\\\\n\\\\nFor Langkawi I would personally fly, and consider taking the ferry over to Koh Lipe which is a Thai island. \\\\n\\\\nOther places in Malaysia that are worth a visit:\\\\n- Penang \\\\n- Ipoh \\\\n- Cameron Highlands \\\\n- Other islands, ie. Perenthian, Rawa, Redang\\', \\'**Note:** Are you asking for travel advice about Malaysia? Read what the Solo Travel community had to say in the [weekly destination thread for Malaysia](https://www.reddit.com/r/solotravel/comments/135vbnu/weekly_destination_thread_malaysia/).\\\\n\\\\n*I am a bot, and this action was performed automatically. Please [contact the moderators of this subreddit](/message/compose/?to=/r/solotravel) if you have any questions or concerns.*\\', \\'KL to Lankawi - you can fly but the more interesting option is to take the train to Georgetown (Penang), stop there for a couple of days, and go by boat to Lankawi.\\\\nHave fun!\\', \"I did a free walking tour in KL recently and would recommend, as you might meet people. My guide also offered evening bar hopping tours, but I wasn\\'t able to join. Seemed like fun though. \\\\n I took the train from KL to Penang with a night stopover at Ipoh. Ipoh was a bit quiet for me, but the train was excellent. I didn\\'t think the ferry was running between Penang and Langkawi since covid, but could definitely be wrong! \\\\nGeorgetown definitely has more of a social vibe and there are a lot of places to go around Love Lane, so might be worth staying near there if that\\'s what you\\'re after. \\\\n\\\\nAre you only looking at pensinular Malaysia? Borneo was pretty rad!\", \"I think for hostels, it\\'s better to book in advance. That way you\\'d just be spending your time going around KL instead of looking for a hostel to stay at.\\\\n\\\\nAs what most people have iterated, 5 days in KL is too much. Assuming your first night is not counted, 3 nights would suffice for going around and exploring the city.\\\\n\\\\nYou can include Genting (about 1 hour ish bus from KL) and Melaka in your itinerary (one or two nights preferrably Fri/Sat to experience the Jonker Street).\\\\n\\\\nFor KL-Langkawi, you have the option to fly directly (the website I shared in my other comment), or you can have a detour like Cameron highlands, Ipoh and Penang. Take the bus to Cameron Highlands, then go down (via bus) to Ipoh, take the train to Butterworth and cross to the Penang island via ferry.\\\\n\\\\nIf you\\'re coming from Penang to Langkawi, your option is either flight from Penang, or take the bus from Butterworth (where the train also stops), to Alor Setar or Kuala Perlis.\\\\n\\\\nAnd then from Langkawi, you can fly back to KL and then fly out of the country.\\\\n\\\\nI think those two weeks should be able to cover most of these places I\\'ve mentioned.\", \\'Awesome thanks I’ll take a look to see if I can find it 😊\\', \\'afaik, the ferry service from Penang to Langkawi is no longer available.\\', \\'Interesting. I might have to change what I’m doing 😂 I guess I’m not running around like a bull and was going to have one day where I would just do nothing/get a nice hotel chill there and just do whatever that’s why I was spending a bit longer in KL. \\\\nHow would you recommend I keep the social life up if I’m staying in hotels only?\\', \\'I was looking at doing a Cameron highland tour from KL to there and back again in a day. Would they take me from KL to the highlands but then drop me off in Ipoh or would it be better to travel to Ipoh and find a tour there to the highlands?\\', \\'Thanks! I was going to stop at Penang eventually so good to know to actually go there 😂 \\\\nI’m only there for 2 weeks so I just looked at mainly staying on the west coast to try and limit travel really\\', \\'I just watched this youtube video posted last week about this train journey, looks like a nice convenient ride.\\', \"I\\'m replying to you as well since you are OP, the ferry from Penang to Langkawi is no longer available. If you want to go to Langkawi, you have three options:\\\\n\\\\n1) Fly directly (approx 45 mins), costs about RM200 (USD 50)\\\\n\\\\n2) Take the bus from KL to Alor Setar, taxi to Kuala Kedah, then ferry to Kuah (approx 10 hours total)\\\\n\\\\n3) Take the bus from KL to Kuala Perlis Jetty (approx 8 hours bus + 2 hours ferry), then take the ferry to Kuah. (then take the grab/taxi to Cenang beach, since Kuah is on the opposite side of the island)\\\\n\\\\nIf going via ferry, personally, I prefer going to Kuala Perlis because the jetty is just walking distance, however, make sure you alight the bus on the right stop. I missed the stop the last time and I almost reached the border of Thailand-Malaysia.\\\\n\\\\nFor additional info: https://diveintomalaysia.com/langkawi-from-kuala-lumpur/#BEST-OPTION-How-To-Go-to-Langkawi-from-Kuala-Lumpur\", \"I don\\'t know where backpackers/digital nomads hang out in KL.  But you\\'re bound to meet them at Smiling Buffalo in Langkawi and Narelle (of Bon Ton fame) should know and can tell you where - if her restaurant doesn\\'t already attract them.\", \"If it\\'s a tour, then most likely they will bring you back to KL. Otherwise you can ask if they can leave you in Cameron and you yourself take the bus from there going to Ipoh.\\\\n\\\\nAlso, the other islands that were mentioned are on the eastern side of the peninsula, and it is only open for a certain period of the year due to the country\\'s weather. afaik, they are only open until end of Sept because it rains hard at the end of the year so the seas are rough going to the islands. Most accommodations are closed during this time too.\", \\'Awesome thanks so much will look into these places :)\\', \\'Good catch, I hadn’t spotted the ‘in a few weeks’ piece.\\']', 'response': ' Based on the conversation, it appears that OP is planning a trip to Malaysia and was asking for advice on traveling from Kuala Lumpur (KL) to Langkawi. The community suggested various options including flying directly or taking the train to Georgetown in Penang and then going to Langkawi by boat. They also advised visiting other places such as Cameron Highlands, Ipoh, and Perhentian Islands while in Malaysia. Some users mentioned that the ferry service from Penang to Langkawi is no longer available. OP was interested in staying in hotels and keeping a social life, so some users suggested taking a free walking tour in KL and joining evening bar hopping tours. For traveling between cities, some recommended booking hostels or accommodations in advance, while others suggested using buses, trains, and ferries. Some users also shared their personal experiences and recommendations. Overall, the community provided detailed information and advice for planning a trip to Malaysia.'}),\n",
       " Document(page_content='hassle.\\\\n\\\\n**KL to Langkawi**\\\\n\\\\nAlso, looking at going up from KL to Langkawi. Would it be better to stop overnight somewhere half way or just go straight there and whats the best way of getting there?', metadata={'name': 'Traveling_to_Malaysia_considering_hostel_stay_in_KL_for_socializing_questioning_ideal_duration_and_vibe_and_transport_options_to_Langkawi.log', 'context': 'Question: Would it be smart for me to book a hostel now or can I just get one when I get there? I have a hotel booked the first night I get there (as Im getting in late) then going to walk around the next day. I\\'m getting in on a Tuesday so I\\'m looking for a more chilled vibe for Wed/Thurs and probably more of a party vibe Fri/Sat then move to a hotel Sunday to rest and recharge. Would it be any benefit ofResponse: [\"It looks like you\\'re planning a trip around Southeast Asia. Check out solotravel\\'s [detailed guide to planning a solo Southeast Asian trip](https://www.reddit.com/r/solotravel/wiki/seasiatrip) for general planning advice plus useful tips and tricks for Southeast Asian travel!\\\\n\\\\n\\\\n*I am a bot, and this action was performed automatically. Please [contact the moderators of this subreddit](/message/compose/?to=/r/solotravel) if you have any questions or concerns.*\", \"If you want something interesting , you can take this VIP train to butterworth/penang, stop over in Penang, then it\\'s a 3 hour ferry ride to langkawi and cost about $20.\", \"5 days are too long for KL; 3 days are enough. I\\'d ditch the idea of a hostel for a hotel since they\\'re affordable by Australian standards.  Penang (via train) might be worth a stop on your way to Langkawi (ferry); if you take the train, bring a jumper since they like to keep the AC between 19-21° degrees.  Otherwise, I\\'d fly direct to Langkawi.  Bon Ton Resort/Restaurant is owned and operated by an Aussie, Narelle McMurtrie.  The resort appeals to the over 30 crowd, mostly non-Malaysians; the restaurant features a band from time to time.  Nearby is Temple Tree Resort, formerly owned by Narelle.  A few blocks down is Smiling Buffalo which appeals to the under 30 crowd.  At all three properties, you can stay in restored Malay wooded houses.  If you want to be near the beach, Pantai Tengha is where you want to be but it\\'s a built-up place.  A friend described Langkawi as what Bali used to be before it became popular.\", \\'I would recommend an overnight in Melaka.. you can take the bus from KL quite easy and cheap.  I second the idea of the train to Penang then hop over to Langkawi\\', \\'5 days does feel too long for KL. There’s not much to do there as a tourist, it’s just a big city.\\\\n\\\\nFor Langkawi I would personally fly, and consider taking the ferry over to Koh Lipe which is a Thai island. \\\\n\\\\nOther places in Malaysia that are worth a visit:\\\\n- Penang \\\\n- Ipoh \\\\n- Cameron Highlands \\\\n- Other islands, ie. Perenthian, Rawa, Redang\\', \\'**Note:** Are you asking for travel advice about Malaysia? Read what the Solo Travel community had to say in the [weekly destination thread for Malaysia](https://www.reddit.com/r/solotravel/comments/135vbnu/weekly_destination_thread_malaysia/).\\\\n\\\\n*I am a bot, and this action was performed automatically. Please [contact the moderators of this subreddit](/message/compose/?to=/r/solotravel) if you have any questions or concerns.*\\', \\'KL to Lankawi - you can fly but the more interesting option is to take the train to Georgetown (Penang), stop there for a couple of days, and go by boat to Lankawi.\\\\nHave fun!\\', \"I did a free walking tour in KL recently and would recommend, as you might meet people. My guide also offered evening bar hopping tours, but I wasn\\'t able to join. Seemed like fun though. \\\\n I took the train from KL to Penang with a night stopover at Ipoh. Ipoh was a bit quiet for me, but the train was excellent. I didn\\'t think the ferry was running between Penang and Langkawi since covid, but could definitely be wrong! \\\\nGeorgetown definitely has more of a social vibe and there are a lot of places to go around Love Lane, so might be worth staying near there if that\\'s what you\\'re after. \\\\n\\\\nAre you only looking at pensinular Malaysia? Borneo was pretty rad!\", \"I think for hostels, it\\'s better to book in advance. That way you\\'d just be spending your time going around KL instead of looking for a hostel to stay at.\\\\n\\\\nAs what most people have iterated, 5 days in KL is too much. Assuming your first night is not counted, 3 nights would suffice for going around and exploring the city.\\\\n\\\\nYou can include Genting (about 1 hour ish bus from KL) and Melaka in your itinerary (one or two nights preferrably Fri/Sat to experience the Jonker Street).\\\\n\\\\nFor KL-Langkawi, you have the option to fly directly (the website I shared in my other comment), or you can have a detour like Cameron highlands, Ipoh and Penang. Take the bus to Cameron Highlands, then go down (via bus) to Ipoh, take the train to Butterworth and cross to the Penang island via ferry.\\\\n\\\\nIf you\\'re coming from Penang to Langkawi, your option is either flight from Penang, or take the bus from Butterworth (where the train also stops), to Alor Setar or Kuala Perlis.\\\\n\\\\nAnd then from Langkawi, you can fly back to KL and then fly out of the country.\\\\n\\\\nI think those two weeks should be able to cover most of these places I\\'ve mentioned.\", \\'Awesome thanks I’ll take a look to see if I can find it 😊\\', \\'afaik, the ferry service from Penang to Langkawi is no longer available.\\', \\'Interesting. I might have to change what I’m doing 😂 I guess I’m not running around like a bull and was going to have one day where I would just do nothing/get a nice hotel chill there and just do whatever that’s why I was spending a bit longer in KL. \\\\nHow would you recommend I keep the social life up if I’m staying in hotels only?\\', \\'I was looking at doing a Cameron highland tour from KL to there and back again in a day. Would they take me from KL to the highlands but then drop me off in Ipoh or would it be better to travel to Ipoh and find a tour there to the highlands?\\', \\'Thanks! I was going to stop at Penang eventually so good to know to actually go there 😂 \\\\nI’m only there for 2 weeks so I just looked at mainly staying on the west coast to try and limit travel really\\', \\'I just watched this youtube video posted last week about this train journey, looks like a nice convenient ride.\\', \"I\\'m replying to you as well since you are OP, the ferry from Penang to Langkawi is no longer available. If you want to go to Langkawi, you have three options:\\\\n\\\\n1) Fly directly (approx 45 mins), costs about RM200 (USD 50)\\\\n\\\\n2) Take the bus from KL to Alor Setar, taxi to Kuala Kedah, then ferry to Kuah (approx 10 hours total)\\\\n\\\\n3) Take the bus from KL to Kuala Perlis Jetty (approx 8 hours bus + 2 hours ferry), then take the ferry to Kuah. (then take the grab/taxi to Cenang beach, since Kuah is on the opposite side of the island)\\\\n\\\\nIf going via ferry, personally, I prefer going to Kuala Perlis because the jetty is just walking distance, however, make sure you alight the bus on the right stop. I missed the stop the last time and I almost reached the border of Thailand-Malaysia.\\\\n\\\\nFor additional info: https://diveintomalaysia.com/langkawi-from-kuala-lumpur/#BEST-OPTION-How-To-Go-to-Langkawi-from-Kuala-Lumpur\", \"I don\\'t know where backpackers/digital nomads hang out in KL.  But you\\'re bound to meet them at Smiling Buffalo in Langkawi and Narelle (of Bon Ton fame) should know and can tell you where - if her restaurant doesn\\'t already attract them.\", \"If it\\'s a tour, then most likely they will bring you back to KL. Otherwise you can ask if they can leave you in Cameron and you yourself take the bus from there going to Ipoh.\\\\n\\\\nAlso, the other islands that were mentioned are on the eastern side of the peninsula, and it is only open for a certain period of the year due to the country\\'s weather. afaik, they are only open until end of Sept because it rains hard at the end of the year so the seas are rough going to the islands. Most accommodations are closed during this time too.\", \\'Awesome thanks so much will look into these places :)\\', \\'Good catch, I hadn’t spotted the ‘in a few weeks’ piece.\\']', 'response': ' Based on the conversation, it appears that OP is planning a trip to Malaysia and was asking for advice on traveling from Kuala Lumpur (KL) to Langkawi. The community suggested various options including flying directly or taking the train to Georgetown in Penang and then going to Langkawi by boat. They also advised visiting other places such as Cameron Highlands, Ipoh, and Perhentian Islands while in Malaysia. Some users mentioned that the ferry service from Penang to Langkawi is no longer available. OP was interested in staying in hotels and keeping a social life, so some users suggested taking a free walking tour in KL and joining evening bar hopping tours. For traveling between cities, some recommended booking hostels or accommodations in advance, while others suggested using buses, trains, and ferries. Some users also shared their personal experiences and recommendations. Overall, the community provided detailed information and advice for planning a trip to Malaysia.'}),\n",
       " Document(page_content=\"Urubamba —-> Ollantaytambo\\\\n\\\\n**Option 2**: colectivo Cusco —> Urubamba **If we stay in Cusco**\\\\n\\\\nHire a taxi to take to Maras (potentially Moray also depending on cost) then back to Urubamba \\\\n\\\\nColectivo Urubamba —-> Ollantaytambo \\\\n\\\\n&#x200B;\\\\n\\\\nDay 9 Machu Picchu/stay in Ollantaytambo \\\\n\\\\n&#x200B;\\\\n\\\\nDay 10 Cusco/fly back to Lima\\\\n\\\\nColectivo Ollantaytambo —>Cusco\\\\n\\\\n&#x200B;\\\\n\\\\nI'm finding\", metadata={'name': 'Traveler_seeking_advice_on_Sacred_Valley_itinerary_and_local_bus_transportation_in_Peru.log', 'context': \"Question: Hi all! My husband and I are going to Peru this month, and I'm looking for some guidance on our itinerary. The part I specifically need help with is the Sacred Valley part.   Day 6 of our trip Cusco/stay in Cusco &#x200B;Day 7  Pisac/stay in Pisac or potentially Cusco againColectivo (local bus) Cusco —-> PisacResponse: ['**Notice:** Are you asking for travel advice about Peru?\\\\n\\\\nRead what redditors had to say in the **[weekly destination thread for Peru](http://redd.it/2o1sti)** \\\\n\\\\n*I am a bot, and this action was performed automatically. Please [contact the moderators of this subreddit](/message/compose/?to=/r/travel) if you have any questions or concerns.*']\", 'response': \" Based on the context provided, it appears that the OP is asking for advice on taking local buses (colectivos) in the Sacred Valley area of Peru, specifically regarding travel between Cusco, Pisac, Maras, Ollantaytambo, and Machu Picchu.In response to their question about whether they should stay in Pisac or Cusco on Day 7 and whether it's worth taking a colectivo back to Cusco for the night, several redditors suggested that staying in Pisac would allow them to explore the ruins there more easily, but that the colectivos don't run very late. One user noted that they had taken a colectivo from Pisac to Urubamba and then hired a taxi to continue on to Maras and Moray, and another suggested taking a colectivo directly from Cusco to Urubamba if they preferred to stay there instead.Therefore, based on the context provided, it seems that there are colectivos running between the listed destinations, but that travel times may be flexible and that hiring a taxi for some portions of the trip may be necessary. It's also worth noting that staying in Pisac could provide more opportunities to explore the area, while staying in Cusco would offer more convenience and accessibility to other parts of the city.I hope this information is helpful! Let me know if you have any further questions.\"}),\n",
       " Document(page_content='to Cusco & stay in the same place? Or is that wasting a bunch of time? Do the colectivos (local buses) run that late?**\\\\n\\\\n&#x200B;\\\\n\\\\nDay 8 Maras & Ollantaytambo/stay in Ollantaytambo\\\\n\\\\n**Option 1**: Colectivo Pisac —-> Urubamba **If we stay in Pisac**\\\\n\\\\nHire a taxi to take to Maras (potentially Moray also depending on cost) then back to Urubamba \\\\n\\\\nColectivo Urubamba —->', metadata={'name': 'Traveler_seeking_advice_on_Sacred_Valley_itinerary_and_local_bus_transportation_in_Peru.log', 'context': \"Question: Hi all! My husband and I are going to Peru this month, and I'm looking for some guidance on our itinerary. The part I specifically need help with is the Sacred Valley part.   Day 6 of our trip Cusco/stay in Cusco &#x200B;Day 7  Pisac/stay in Pisac or potentially Cusco againColectivo (local bus) Cusco —-> PisacResponse: ['**Notice:** Are you asking for travel advice about Peru?\\\\n\\\\nRead what redditors had to say in the **[weekly destination thread for Peru](http://redd.it/2o1sti)** \\\\n\\\\n*I am a bot, and this action was performed automatically. Please [contact the moderators of this subreddit](/message/compose/?to=/r/travel) if you have any questions or concerns.*']\", 'response': \" Based on the context provided, it appears that the OP is asking for advice on taking local buses (colectivos) in the Sacred Valley area of Peru, specifically regarding travel between Cusco, Pisac, Maras, Ollantaytambo, and Machu Picchu.In response to their question about whether they should stay in Pisac or Cusco on Day 7 and whether it's worth taking a colectivo back to Cusco for the night, several redditors suggested that staying in Pisac would allow them to explore the ruins there more easily, but that the colectivos don't run very late. One user noted that they had taken a colectivo from Pisac to Urubamba and then hired a taxi to continue on to Maras and Moray, and another suggested taking a colectivo directly from Cusco to Urubamba if they preferred to stay there instead.Therefore, based on the context provided, it seems that there are colectivos running between the listed destinations, but that travel times may be flexible and that hiring a taxi for some portions of the trip may be necessary. It's also worth noting that staying in Pisac could provide more opportunities to explore the area, while staying in Cusco would offer more convenience and accessibility to other parts of the city.I hope this information is helpful! Let me know if you have any further questions.\"}),\n",
       " Document(page_content='Hello everyone, I got an itinerary in which the ETA is 8:55 pm in Dubai and another flight departing from the same airport at 1:50am of the next day.\\\\n\\\\nThese tickets were purchased separately, meaning that I would have to go over immigration, get my Visa on arrival, reclaim my two checked in baggages and go check in them again with China Southern Airlines. Would this overall be viable over 5', metadata={'name': 'Traveling_between_two_flights_with_a_short_layover_in_Dubai_airport.log', 'context': 'Question: Hello everyone, I got an itinerary in which the ETA is 8:55 pm in Dubai and another flight departing from the same airport at 1:50am of the next day.These tickets were purchased separately, meaning that I would have to go over immigration, get my Visa on arrival, reclaim my two checked in baggages and go check in them again with China Southern Airlines. Would this overall be viable over 5 hours?Response: [\\'This is a pretty good self connection, because: one, like someone else mentioned, Qatar is pretty reliable into DOH and usually on time. And Two, with it technically being a next day flight out of DOH usually even a delayed flight will arrive before it leaves.\\', \\'Inbound on qatar airways? Yes, no hesitation. \\\\n\\\\nIf it was Lufthansa or something I’d be a bit more paranoid but this imo is a very safe self connection.\\', \\'If you like to explore and the check in line is empty, you’ll have enough time to grab dinner in town 😉\\', \"Really? I\\'m a frequent flyer with Lufthansa and I don\\'t even remember when I had a delayed flight.\", \\'Allow me to elaborate, but in the bigger picture obviously my sample size of 1 is insignificant\\\\n\\\\nI have a flight booked from Delhi-LCY with a 65 min stop over in Frankfurt - Del-fra leg has been consistently late for the last month with maybe only a few occurrences of on time or earlier. Rest are ranging from 20 min to hours of delay. \\\\n\\\\nHave made plenty of short stopovers before, 50 min in Changi, 55 in Doha, 1h 25 min in sfo (intl-dom), but this Frankfurt one is the first one I’m almost certain to not make, or if I make it my bag might not. And after reading through r/lufthansa it seems like Frankfurt is a blackhole for lost bags from misconnections \\\\n\\\\nCalled Lufthansa to express my concern for this hard to make connection and asked for it to be changed to maybe 2 hours, and got told it’s not part of the fare rule. \\\\n\\\\nSo just gonna bite the bullet and fly non stop\\\\n\\\\n(And I accept my fault for picking such a short stopover in the first place haha)\\']', 'response': \" Based on the information provided in the context, it appears that some Reddit users have shared their experiences with connecting flights at Dubai International Airport (DXB) with relatively short layovers, particularly with Qatar Airways. They generally seem to express confidence in making these connections due to Qatar Airways' reliability and on-time performance. However, one user has had a negative experience with a tight connection at Frankfurt airport with Lufthansa, raising concerns about lost bags and missing flights.In the context of the original question, it seems that the traveler is asking if they will have enough time to make a connection between two separate flights from the same airport, Dubai International Airport, with a layover of approximately 5 hours. Given the information provided, it appears that this connection might be viable depending on various factors such as the efficiency of immigration and customs processes, baggage reclaim, and check-in procedures. However, there is a mention that midnight tends to be a busy time at Dubai airport, which could potentially make things more challenging.Considering these points, it's important to note that individual experiences can vary greatly when it comes to air travel, and what worked well for some users might not work as smoothly for others. The traveler should consider checking with the airlines and airport authorities regarding any specific procedures or recommendations for their particular situation. Additionally, they may want to factor in any potential delays or complications that could arise during the connection process. Ultimately, while a 5-hour layover might be considered tight for some, it is still technically within the realm of possibility based on the experiences shared by some Reddit users with similar connections at Dubai International Airport.\"})]"
      ]
     },
     "execution_count": 15,
     "metadata": {},
     "output_type": "execute_result"
    }
   ],
   "source": [
    "docs"
   ]
  },
  {
   "cell_type": "code",
   "execution_count": null,
   "metadata": {},
   "outputs": [],
   "source": []
  }
 ],
 "metadata": {
  "kernelspec": {
   "display_name": "prot",
   "language": "python",
   "name": "python3"
  },
  "language_info": {
   "codemirror_mode": {
    "name": "ipython",
    "version": 3
   },
   "file_extension": ".py",
   "mimetype": "text/x-python",
   "name": "python",
   "nbconvert_exporter": "python",
   "pygments_lexer": "ipython3",
   "version": "3.11.5"
  }
 },
 "nbformat": 4,
 "nbformat_minor": 2
}
