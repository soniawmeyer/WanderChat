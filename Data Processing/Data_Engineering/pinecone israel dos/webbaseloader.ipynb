{
 "cells": [
  {
   "cell_type": "code",
   "execution_count": 1,
   "metadata": {},
   "outputs": [
    {
     "name": "stderr",
     "output_type": "stream",
     "text": [
      "/Users/Sonia/Development/SF_WanderChat/venv/lib/python3.11/site-packages/pinecone/data/index.py:1: TqdmWarning: IProgress not found. Please update jupyter and ipywidgets. See https://ipywidgets.readthedocs.io/en/stable/user_install.html\n",
      "  from tqdm.autonotebook import tqdm\n"
     ]
    },
    {
     "data": {
      "text/plain": [
       "True"
      ]
     },
     "execution_count": 1,
     "metadata": {},
     "output_type": "execute_result"
    }
   ],
   "source": [
    "from langchain_community.llms import Ollama\n",
    "from langchain_community.document_loaders import WebBaseLoader\n",
    "from langchain.chains import ConversationalRetrievalChain\n",
    "from langchain.embeddings import HuggingFaceEmbeddings\n",
    "from langchain_community.embeddings import HuggingFaceEmbeddings # import hf embedding\n",
    "from langchain_community.vectorstores import FAISS\n",
    "from langchain.text_splitter import RecursiveCharacterTextSplitter, CharacterTextSplitter\n",
    "import re\n",
    "import pandas as pd\n",
    "from datetime import date, timedelta\n",
    "import datetime\n",
    "import os\n",
    "from pinecone import Pinecone\n",
    "import time\n",
    "import dotenv\n",
    "from langchain.embeddings.openai import OpenAIEmbeddings\n",
    "import uuid\n",
    "dotenv.load_dotenv()"
   ]
  },
  {
   "cell_type": "code",
   "execution_count": 2,
   "metadata": {},
   "outputs": [
    {
     "name": "stderr",
     "output_type": "stream",
     "text": [
      "/Users/Sonia/Development/SF_WanderChat/venv/lib/python3.11/site-packages/huggingface_hub/file_download.py:1132: FutureWarning: `resume_download` is deprecated and will be removed in version 1.0.0. Downloads always resume when possible. If you want to force a new download, use `force_download=True`.\n",
      "  warnings.warn(\n",
      "/Users/Sonia/Development/SF_WanderChat/venv/lib/python3.11/site-packages/huggingface_hub/file_download.py:1132: FutureWarning: `resume_download` is deprecated and will be removed in version 1.0.0. Downloads always resume when possible. If you want to force a new download, use `force_download=True`.\n",
      "  warnings.warn(\n",
      "/Users/Sonia/Development/SF_WanderChat/venv/lib/python3.11/site-packages/langchain_core/_api/deprecation.py:119: LangChainDeprecationWarning: The class `OpenAIEmbeddings` was deprecated in LangChain 0.0.9 and will be removed in 0.2.0. An updated version of the class exists in the langchain-openai package and should be used instead. To use it run `pip install -U langchain-openai` and import as `from langchain_openai import OpenAIEmbeddings`.\n",
      "  warn_deprecated(\n"
     ]
    }
   ],
   "source": [
    "embeddings = HuggingFaceEmbeddings(\n",
    "    model_name=\"sentence-transformers/all-MiniLM-L6-v2\")\n",
    "\n",
    "OAI_embed_model = OpenAIEmbeddings(model=\"text-embedding-ada-002\")"
   ]
  },
  {
   "cell_type": "code",
   "execution_count": 4,
   "metadata": {},
   "outputs": [
    {
     "data": {
      "text/plain": [
       "10714"
      ]
     },
     "execution_count": 4,
     "metadata": {},
     "output_type": "execute_result"
    }
   ],
   "source": [
    "loader = WebBaseLoader(\"https://travel.state.gov/content/travel/en/traveladvisories/traveladvisories/israel-west-bank-and-gaza-travel-advisory.html\")\n",
    "data = loader.load()\n",
    "len(data[0].page_content)"
   ]
  },
  {
   "cell_type": "code",
   "execution_count": 5,
   "metadata": {},
   "outputs": [
    {
     "data": {
      "text/plain": [
       "[Document(page_content='\\n\\n\\n\\n\\n\\n\\nIsrael, the West Bank and Gaza Travel Advisory \\n\\n\\n\\n\\n\\n\\n\\n\\n\\n\\n\\n\\n\\n\\n\\n\\n\\n\\n\\n\\n\\n\\n\\n\\n\\n\\n\\n\\n\\n\\n\\n\\n\\n\\n\\n\\n\\n\\n\\n\\n\\n\\n\\n\\n\\n\\n\\n\\n\\n\\n\\n\\n\\n\\n\\n\\n\\n\\n\\n\\n\\n\\n\\n\\n\\n\\n\\n\\n\\n\\n\\n\\n\\n\\n\\n\\n\\n\\n\\n\\n\\n\\n\\n\\n\\n\\n\\n\\n\\n\\n\\n\\n\\n\\n\\n\\n\\n\\n\\n\\n\\n\\n\\n\\n\\n\\n\\n\\n\\n\\n\\n\\n\\n\\n\\n\\n\\n\\n\\n\\n\\n\\n\\n\\n\\n\\n\\n\\n\\n\\n\\n\\n\\n\\n\\n\\n\\n\\n\\n\\n\\n\\n\\n\\n\\n\\n\\n\\n\\n\\n\\n\\n\\n\\n\\n\\n\\n\\n\\n\\n\\n\\n\\n\\n\\n\\n\\nUpdate\\nApril 12, 2024\\n\\nInformation for U.S. Citizens in the Middle East\\n\\n\\n\\n\\n\\n\\nSkip to main content\\n \\n\\n\\n\\n\\n\\n\\n\\n\\n\\n\\n\\n\\nHome|\\nTravel Advisories |\\nNewsroom|\\nAbout Us|\\nContact Us |\\nCareers|\\n MyTravelGov|\\n\\n \\n\\nFind U.S. Embassies & Consulates\\n\\n\\n\\n\\n\\n\\n\\n\\n\\n \\n\\n\\nTravel.State.Gov\\n\\nTravel.State.Gov\\nCongressional Liaison\\nSpecial Issuance Agency\\nU.S. Passports\\nInternational Travel\\nU.S. Visas\\nIntercountry Adoption\\nInternational Parental Child Abduction\\nRecords and Authentications\\n\\nPopular Links\\n\\nHome\\nTravel Advisories\\n Newsroom\\n  About Us\\n Contact Us\\n Careers\\n MyTravelGov\\n Find U.S. Embassies & Consulates\\n\\n\\n\\nStay Connected\\n\\n\\n\\n\\n\\n\\n\\n\\n\\n\\n\\n\\n\\nLegal Resources\\n\\nLegal Information\\nInfo for U.S. Law Enforcement\\n\\n\\n\\n\\n\\n\\n\\n\\n\\n\\n\\n\\n\\n\\n\\nTravel.State.Gov \\n U.S. DEPARTMENT of STATE — BUREAU of CONSULAR AFFAIRS\\n\\n\\n\\n\\n\\n\\n\\n\\n\\n\\n\\n\\n\\n\\n\\n \\n\\n\\n Travel.State.Gov  > \\r\\n\\r\\nTravel Advisories\\xa0>\\xa0Israel, the West Bank and Gaza Travel Advisory \\n\\n\\n\\n\\n\\n\\n\\n\\n\\n\\n\\n\\n\\n\\n\\n\\nCongressional Liaison\\n\\n\\n\\nSpecial Issuance Agency\\n\\n\\n\\nLegal Resources\\n\\n\\n\\nU.S. Passports\\n\\n\\n\\nInternational Travel\\n\\n\\n\\nU.S. Visas\\n\\n\\n\\nIntercountry Adoption\\n\\n\\n\\nInternational Parental Child Abduction\\n\\n\\n\\nReplace or Certify Documents\\n\\n\\n\\n\\n\\n\\n\\n\\n\\nTravel Advisories\\n\\nEnglish\\n\\n\\n\\n\\n\\n\\n\\n\\n\\n\\n\\n\\n\\n\\n\\nTravel Advisories\\n\\n\\n\\n\\n\\n\\n\\n Travel.State.Gov  > \\r\\n\\r\\nTravel Advisories\\xa0>\\xa0Israel, the West Bank and Gaza Travel Advisory \\n\\n\\n\\nShare this page:\\n\\n\\n\\n\\n Print\\n\\n\\nEmail\\n\\n\\n\\n\\n\\r\\n                                Facebook\\r\\n                            \\n\\n\\n\\n\\nTwitter\\r\\n                            \\n\\n\\n\\n\\n\\n\\n\\n\\n\\n\\n\\n\\nA\\nB\\nC\\nD\\nE\\nF\\n\\n\\n\\n\\nG\\nH\\nI\\nJ\\nK\\nL\\n\\n\\n\\n\\nM\\nN\\nO\\nP\\nQ\\nR\\n\\n\\n\\n\\nS\\nT\\nU\\nV\\nW\\nX\\n\\n\\n\\n\\nY\\nZ\\nAll\\n\\n\\n Filter Countries \\n\\n\\n\\n\\n\\n\\n\\n\\n\\n\\n\\n\\n\\n\\n\\n\\nIsrael, the West Bank and Gaza Travel Advisory \\n\\n\\n\\n\\n\\nTravel AdvisoryApril 11, 2024\\n\\nSee Individual Summaries\\n\\nO\\nD\\nK\\nE\\nN\\nH\\nU\\nT\\nC\\n\\n\\nUpdated with information on travel restrictions for U.S. government employees under Chief of Mission security responsibility.\\xa0\\nDo Not Travel To:\\n\\nGaza due to\\xa0terrorism and\\xa0armed conflict\\n\\nReconsider Travel To:\\n\\nIsrael due to\\xa0terrorism\\xa0and\\xa0civil unrest\\nWest Bank due to\\xa0terrorism\\xa0and\\xa0civil unrest\\n\\nCountry Summary:\\xa0Terrorist groups, lone-actor terrorists and other violent extremists continue plotting possible attacks in Israel, the West Bank, and Gaza. Terrorists and violent extremists may attack with little or no warning, targeting tourist locations, transportation hubs, markets/shopping malls, and local government facilities. Violence can occur in Israel, the West Bank, and Gaza without warning.\\nSome areas have increased risk. Read the\\xa0country information page\\xa0for additional information on travel to Israel and the West Bank, and Gaza.\\xa0\\nVisit the CDC page for the latest\\xa0Travel Health Information\\xa0related to your travel.\\nIf you decide to travel to Israel, the West Bank, and Gaza.\\n\\nVisit our website for Travel to High-Risk Areas.\\nCheck the most recent Alerts at the\\u202fEmbassy\\u202fwebsite for the latest information on travel in all of these areas.\\u202f\\xa0\\nMaintain a high degree of situational awareness and exercise caution at all times, especially at checkpoints and other areas with a significant presence of security forces.\\xa0\\nAvoid demonstrations and crowds.\\xa0\\nFollow the instructions of security and emergency response officials.\\xa0\\nBeware of and report suspicious activities, including unattended items, to local police.\\xa0\\nLearn the location of the nearest bomb shelter or other hardened shelter. Download the Home Front Command Red Alert application for mobile devices\\xa0(available on devices within Israel) to receive real time alerts for rocket attacks.\\xa0\\nObtain comprehensive travel medical insurance that includes medical evacuation prior to travel. Most travel insurance packages do not cover mental health related illnesses/care.\\u202f\\xa0\\nEnroll in the\\u202fSmart Traveler Enrollment Program (STEP)\\u202fto receive Alerts and make it easier to locate you in an emergency.\\xa0\\nFollow the Department of State on\\xa0Facebook\\u202fand\\u202fTwitter.\\xa0\\nReview the\\xa0Country Security Report\\xa0for Israel, the West Bank, and Gaza.\\xa0\\xa0\\nPrepare a contingency plan for emergency situations. Review the\\xa0Traveler’s Checklist.\\n\\nGaza – Do Not Travel\\nDo not travel due to\\xa0terrorism and\\xa0armed conflict.\\nThe U.S. government is unable to provide routine or emergency consular services to U.S. citizens in Gaza as U.S. government employees are prohibited from traveling there. The Israel Defense Forces (IDF) are conducting large-scale military operations in Gaza against Hamas, a U.S. government-designated foreign terrorist organization, which was responsible for the October 7 attack on Israel. As a result of the armed conflict, the security environment within Gaza and on its borders is extremely dangerous and volatile. The pedestrian crossing between Gaza and Israel was damaged on October 7 and remains closed, and the pedestrian crossing between Egypt and Gaza may close without advance notice depending on the security situation. There are sporadic telecommunication and internet outages within Gaza further inhibiting the ability of residents to obtain information.\\xa0\\nVisit our website for\\xa0Travel to High Risk Areas.\\xa0\\xa0\\nIf you decide to travel to Gaza:\\n\\nBe prepared for an indefinite stay as the crossings between Gaza with Israel and Egypt can close without advance notice and for long periods during times of unrest and armed conflict.\\nHave a plan for entering and departing Gaza that does not rely on U.S. government assistance.\\nHouseholds with infants and young children should plan for food and supplies, such as diapers and wipes, formula or baby food, and a change of clothing.\\nIf you take medication, make sure to have at least five days’ worth at any given time – if you can, we encourage enough for two weeks beyond your scheduled trip and have a copy of your prescriptions handy.\\nIf you use assistive or medical devices that require a power supply, be sure to find backup power or other ways that will sustain your device or equipment during a power outage.\\nDraft a will and designate appropriate insurance beneficiaries and/or power of attorney.\\nDiscuss a plan with loved ones regarding care/custody of children, pets, property, belongings, non-liquid assets (collections, artwork, etc.), funeral wishes, etc.\\nLeave DNA samples with your medical provider in case it is necessary for your family to access them.\\n\\nPlease be sure to visit our website for How to Prepare for a Crisis for information that may be helpful.\\xa0\\nIsrael – Reconsider Travel\\nReconsider travel due to\\xa0terrorism and civil unrest.\\nThe security situation remains unpredictable, and U.S. citizens are reminded to remain vigilant and take appropriate steps to increase their security awareness as security incidents, including mortar and rocket fire, often take place without warning.\\nU.S. government employees in Israel under Chief of Mission security responsibility are currently restricted from personal travel to the following locations:\\n\\nWithin seven miles of the Gaza demarcation line, as well as the cities of Ashdod and Ashkelon;\\nWithin 2.5 miles of the Lebanese and Syrian borders; and\\nWithin 1.5 miles of the Israel-Egypt border.\\n\\nAdditional travel restrictions may be imposed on U.S. government employees under Chief of Mission security responsibility, with little to no notice due to increased security issues or threats.\\nWest Bank – Reconsider Travel\\nReconsider travel due to\\xa0terrorism and civil unrest.\\nU.S. government employees in Israel under Chief of Mission security responsibility\\u202fare currently restricted from all personal travel to the West Bank, except:\\n\\nU.S. government employees can use Routes 1, 90, and 443 at any time.\\u202f\\nU.S. government employees are permitted personal travel to Jericho.\\u202f\\nU.S. government employees are permitted daylight travel to: Inn of the Good Samaritan, An-Nabi Musa, Wadi Qelt Nature Preserve, and St. George’s Monastery along Route 1; and Qumran, Kalia Beach, St. Gerasimos/Khogla Monastery, Al Auju, and Qasr al-Yaud baptismal site along Route 90.\\u202f\\n\\nOver the past few months, there has been an increase in settler violence, Israeli military operations, and terrorist attacks.\\nAdditional travel restrictions may be imposed on U.S. government employees under Chief of Mission security responsibility with little to no notice due to increased security issues or threats.\\nVisit our website for\\xa0Travel to High Risk Areas.\\n\\n\\n\\n\\n\\n\\n\\n\\nTravel Advisory Levels\\n\\n\\n\\n\\n\\n\\n\\n\\n\\n\\n\\n\\nAssistance for U.S. Citizens\\n\\nU.S. Embassy Jerusalem \\n14 David Flusser StreetJerusalem 93392For Embassy Branch Office Tel Aviv, e-mail TelAvivACS@state.gov. For additional contact information for the Embassy Branch Office, see the Embassies and Consulates section on this page.\\n\\n\\n\\n Telephone\\n+ (972) (2) 630-4000\\n\\n\\n Emergency\\n+ (972) (3) 519-7551\\n\\n\\n Fax\\n+ (972) (2) 630-4070\\n\\n\\n Email\\n JerusalemACS@state.gov\\n\\n\\n Website\\n https://il.usembassy.gov/\\n\\n\\n\\n\\n\\n Israel, the West Bank and Gaza Map\\n\\n\\n\\n\\n\\nView Larger Map\\n\\n\\n\\n\\n\\n\\n\\n\\n\\nSearch for Travel Advisories\\n\\n\\n\\n\\n\\n\\n\\n\\n\\n\\n\\n\\n\\n\\n\\n\\n\\n\\n\\n\\n\\n\\n\\n\\n\\n\\n\\n\\n\\n\\n\\n\\n\\n\\n\\n\\n\\n\\n\\n\\n\\n\\n×\\nExternal Link\\nYou are about to leave travel.state.gov for an external website that is not maintained by the U.S. Department of State.\\nLinks to external websites are provided as a convenience and should not be construed as an endorsement by the U.S. Department of State of the views or products contained therein. If you wish to remain on travel.state.gov, click the \"cancel\" message.\\nYou are about to visit:\\n\\n\\n\\n\\n\\nCancel\\nGO\\n\\n\\n\\n\\n\\n\\n\\n\\n\\n\\nTravel.State.Gov\\n\\nTravel.State.Gov\\nCongressional Liaison\\nSpecial Issuance Agency\\nU.S. Passports\\nInternational Travel\\nU.S. Visas\\nIntercountry Adoption\\nInternational Parental Child Abduction\\nRecords and Authentications\\n\\n\\n\\nPopular Links\\n\\nHome\\nTravel Advisories\\nNewsroom\\n About Us\\nContact Us\\nCareers\\n MyTravelGov\\nFind U.S. Embassies & Consulates\\n\\n\\n\\n\\nStay Connected\\n\\n\\n\\n\\n\\n\\n\\n\\n\\n\\n\\nLegal Resources\\n\\nLegal Information\\nInfo for U.S. Law Enforcement\\n\\n\\n\\n\\n\\n\\n\\n\\n\\n\\nPrivacy |\\n\\n                Copyright & Disclaimer |\\n\\n                FOIA |\\n\\n                No FEAR Act Data |\\n\\n                Office of the Inspector General |\\n\\n                USA.gov |\\n\\n                USA.gov/espanol |\\n                This site is managed by the U.S. Department of State. External links to other Internet sites and listings of private entities on this page are provided as a convenience and should not be construed as the U.S. Department of State or U.S. government endorsement of the entity, its views, the products or services it provides, or the accuracy of information contained therein. The order in which names appear has no significance, and the listings or links may be removed at any time at the discretion of the Department.\\n            \\n\\n\\n\\n\\n\\n\\n', metadata={'source': 'https://travel.state.gov/content/travel/en/traveladvisories/traveladvisories/israel-west-bank-and-gaza-travel-advisory.html', 'title': 'Israel, the West Bank and Gaza Travel Advisory '})]"
      ]
     },
     "execution_count": 5,
     "metadata": {},
     "output_type": "execute_result"
    }
   ],
   "source": [
    "data"
   ]
  },
  {
   "cell_type": "code",
   "execution_count": 6,
   "metadata": {},
   "outputs": [
    {
     "data": {
      "text/plain": [
       "' restrictions for U.S. government employees under Chief of Mission security responsibility. Do Not Travel To: Gaza due to terrorism and armed conflict Reconsider Travel To: Israel due to terrorism and civil unrest West Bank due to terrorism and civil unrest Country Summary: Terrorist groups, loneactor terrorists and other violent extremists continue plotting possible attacks in Israel, the West Bank, and Gaza. Terrorists and violent extremists may attack with little or no warning, targeting tourist locations, transportation hubs, markets/shopping malls, and local government facilities. Violence can occur in Israel, the West Bank, and Gaza without warning. Some areas have increased risk. Read the country information page for additional information on travel to Israel and the West Bank, and Gaza. Visit the CDC page for the latest Travel Health Information related to your travel. If you decide to travel to Israel, the West Bank, and Gaza. Visit our website for Travel to HighRisk Areas. Check the most recent Alerts at the Embassy website for the latest information on travel in all of these areas.  Maintain a high degree of situational awareness and exercise caution at all times, especially at checkpoints and other areas with a significant presence of security forces. Avoid demonstrations and crowds. Follow the instructions of security and emergency response officials. Beware of and report suspicious activities, including unattended items, to local police. Learn the location of the nearest bomb shelter or other hardened shelter. Download the Home Front Command Red Alert application for mobile devices (available on devices within Israel) to receive real time alerts for rocket attacks. Obtain comprehensive travel medical insurance that includes medical evacuation prior to travel. Most travel insurance packages do not cover mental health related illnesses/care.  Enroll in the Smart Traveler Enrollment Program (STEP) to receive Alerts and make it easier to locate you in an emergency. Follow the Department of State on Facebook and Twitter. Review the Country Security Report for Israel, the West Bank, and Gaza.  Prepare a contingency plan for emergency situations. Review the Traveler’s Checklist. GazaDo Not Travel Do not travel due to terrorism and armed conflict. The U.S. government is unable to provide routine or emergency consular services to U.S. citizens in Gaza as U.S. government employees are prohibited from traveling there. The Israel Defense Forces (IDF) are conducting largescale military operations in Gaza against Hamas, a U.S. governmentdesignated foreign terrorist organization, which was responsible for the October 7 attack on Israel. As a result of the armed conflict, the security environment within Gaza and on its borders is extremely dangerous and volatile. The pedestrian crossing between Gaza and Israel was damaged on October 7 and remains closed, and the pedestrian crossing between Egypt and Gaza may close without advance notice depending on the security situation. There are sporadic telecommunication and internet outages within Gaza further inhibiting the ability of residents to obtain information. Visit our website for Travel to High Risk Areas.  If you decide to travel to Gaza: Be prepared for an indefinite stay as the crossings between Gaza with Israel and Egypt can close without advance notice and for long periods during times of unrest and armed conflict. Have a plan for entering and departing Gaza that does not rely on U.S. government assistance. Households with infants and young children should plan for food and supplies, such as diapers and wipes, formula or baby food, and a change of clothing. If you take medication, make sure to have at least five days’ worth at any given timeif you can, we encourage enough for two weeks beyond your scheduled trip and have a copy of your prescriptions handy. If you use assistive or medical devices that require a power supply, be sure to find backup power or other ways that will sustain your device or equipment during a power outage. Draft a will and designate appropriate insurance beneficiaries and/or power of attorney. Discuss a plan with loved ones regarding care/custody of children, pets, property, belongings, nonliquid assets (collections, artwork, etc.), funeral wishes, etc. Leave DNA samples with your medical provider in case it is necessary for your family to access them. Please be sure to visit our website for How to Prepare for a Crisis for information that may be helpful. IsraelReconsider Travel Reconsider travel due to terrorism and civil unrest. The security situation remains unpredictable, and U.S. citizens are reminded to remain vigilant and take appropriate steps to increase their security awareness as security incidents, including mortar and rocket fire, often take place without warning. U.S. government employees in Israel under Chief of Mission security responsibility are currently restricted from personal travel to the following locations: Within seven miles of the Gaza demarcation line, as well as the cities of Ashdod and Ashkelon; Within 2.5 miles of the Lebanese and Syrian borders; and Within 1.5 miles of the IsraelEgypt border. Additional travel restrictions may be imposed on U.S. government employees under Chief of Mission security responsibility, with little to no notice due to increased security issues or threats. West BankReconsider Travel Reconsider travel due to terrorism and civil unrest. U.S. government employees in Israel under Chief of Mission security responsibility are currently restricted from all personal travel to the West Bank, except: U.S. government employees can use Routes 1, 90, and 443 at any time. U.S. government employees are permitted personal travel to Jericho. U.S. government employees are permitted daylight travel to: Inn of the Good Samaritan, AnNabi Musa, Wadi Qelt Nature Preserve, and St. George’s Monastery along Route 1; and Qumran, Kalia Beach, St. Gerasimos/Khogla Monastery, Al Auju, and Qasr alYaud baptismal site along Route 90.  Over the past few months, there has been an increase in settler violence, Israeli military operations, and terrorist attacks. Additional travel restrictions may be imposed on U.S. government employees under Chief of Mission security responsibility with little to no notice due to increased security issues or threats. Visit our website for Travel to High Risk Areas.     Travel Advisory Levels       Assistance for U.S. Citizens U.S. Embassy Jerusalem 14 David Flusser StreetJerusalem 93392For Embassy Branch Office Tel Aviv, email TelAvivACS@state.gov. For additional contact information for the Embassy Branch Office, see the Embassies and Consulates section on this page.   Telephone + (972) (2) 6304000  Emergency + (972) (3) 5197551  Fax + (972) (2) 6304070  Email JerusalemACS@state.gov  Website https://il.usembassy.gov/    Israel, the West Bank and Gaza Map   View Larger Map     Search for Travel Advisories                      '"
      ]
     },
     "execution_count": 6,
     "metadata": {},
     "output_type": "execute_result"
    }
   ],
   "source": [
    "text = data[0].page_content\\\n",
    "    .replace('-','')\\\n",
    "    .replace(' – ','')\\\n",
    "    .replace('-','')\\\n",
    "    .replace('\\n',' ')\\\n",
    "    .replace('\\xa0',' ')\\\n",
    "    .replace('\\u202f',' ')\\\n",
    "    .replace('  ',' ')\\\n",
    "    .replace('Log in','')\\\n",
    "    .replace('Do Not Sell My Personal Information','')\\\n",
    "    .replace('Subscribe','')\\\n",
    "    .replace('Follow Us','')\\\n",
    "    .strip().split('Updated with information on travel')[1]\\\n",
    "    .split('× External Link You are')[0]\n",
    "text"
   ]
  },
  {
   "cell_type": "code",
   "execution_count": 7,
   "metadata": {},
   "outputs": [],
   "source": [
    "r_splitter = RecursiveCharacterTextSplitter(\n",
    "    chunk_size=650,\n",
    "    chunk_overlap=35, \n",
    "    length_function = len,\n",
    "    separators=[\"\\n\\n\",\"\\n\\t\\t\\n\\n*\",\"\\n\",\" \"]\n",
    ")"
   ]
  },
  {
   "cell_type": "code",
   "execution_count": 8,
   "metadata": {},
   "outputs": [
    {
     "data": {
      "text/plain": [
       "12"
      ]
     },
     "execution_count": 8,
     "metadata": {},
     "output_type": "execute_result"
    }
   ],
   "source": [
    "all_splits = r_splitter.split_text(text)\n",
    "len(all_splits)"
   ]
  },
  {
   "cell_type": "code",
   "execution_count": 12,
   "metadata": {},
   "outputs": [],
   "source": [
    "import itertools\n",
    "combined_splits = list(itertools.chain.from_iterable(all_splits))"
   ]
  },
  {
   "cell_type": "code",
   "execution_count": 13,
   "metadata": {},
   "outputs": [
    {
     "data": {
      "text/plain": [
       "(12, 7299)"
      ]
     },
     "execution_count": 13,
     "metadata": {},
     "output_type": "execute_result"
    }
   ],
   "source": [
    "len(all_splits),len(combined_splits)"
   ]
  },
  {
   "cell_type": "markdown",
   "metadata": {},
   "source": [
    "# FAISS"
   ]
  },
  {
   "cell_type": "code",
   "execution_count": 14,
   "metadata": {},
   "outputs": [],
   "source": [
    "db = FAISS.from_documents(data, embeddings)\n",
    "db.save_local(f\"israel_dos_db\")"
   ]
  },
  {
   "cell_type": "code",
   "execution_count": 19,
   "metadata": {},
   "outputs": [],
   "source": [
    "# llm = Ollama(model='mistral')\n",
    "# chain = ConversationalRetrievalChain.from_llm(llm=llm, retriever=db.as_retriever(),return_source_documents=True,\n",
    "#                                               rephrase_question=True)"
   ]
  },
  {
   "cell_type": "code",
   "execution_count": 37,
   "metadata": {},
   "outputs": [],
   "source": [
    "# query=\"\"\"is it safe to visit israel?\"\"\"\n",
    "# result = chain({\"question\": query,\"chat_history\": []})\n",
    "# result"
   ]
  },
  {
   "cell_type": "markdown",
   "metadata": {},
   "source": [
    "# Pinecone"
   ]
  },
  {
   "cell_type": "code",
   "execution_count": 21,
   "metadata": {},
   "outputs": [],
   "source": [
    "pc = Pinecone(api_key=os.getenv(\"PINECONE_API_KEY\") )"
   ]
  },
  {
   "cell_type": "code",
   "execution_count": 23,
   "metadata": {},
   "outputs": [],
   "source": [
    "from pinecone import ServerlessSpec\n",
    "\n",
    "spec = ServerlessSpec(\n",
    "    cloud=\"aws\", region=\"us-east-1\"\n",
    ")"
   ]
  },
  {
   "cell_type": "code",
   "execution_count": 24,
   "metadata": {},
   "outputs": [
    {
     "data": {
      "text/plain": [
       "{'dimension': 1536,\n",
       " 'index_fullness': 0.0,\n",
       " 'namespaces': {},\n",
       " 'total_vector_count': 0}"
      ]
     },
     "execution_count": 24,
     "metadata": {},
     "output_type": "execute_result"
    }
   ],
   "source": [
    "index_name = 'wanderchat-israel-rag'\n",
    "existing_indexes = [\n",
    "    index_info[\"name\"] for index_info in pc.list_indexes()\n",
    "]\n",
    "\n",
    "# check if index already exists (it shouldn't if this is first time)\n",
    "if index_name not in existing_indexes:\n",
    "    # if does not exist, create index\n",
    "    pc.create_index(\n",
    "        index_name,\n",
    "        dimension=1536,  # dimensionality of ada 002\n",
    "        metric='dotproduct',\n",
    "        spec=spec\n",
    "    )\n",
    "    # wait for index to be initialized\n",
    "    while not pc.describe_index(index_name).status['ready']:\n",
    "        time.sleep(1)\n",
    "\n",
    "# connect to index\n",
    "index = pc.Index(index_name)\n",
    "time.sleep(1)\n",
    "# view index stats\n",
    "index.describe_index_stats()"
   ]
  },
  {
   "cell_type": "code",
   "execution_count": 29,
   "metadata": {},
   "outputs": [],
   "source": [
    "for i, text in enumerate(all_splits):\n",
    "    embeds = OAI_embed_model.embed_documents(text)\n",
    "    metadata = {'text':text,\n",
    "                'source': 'https://travel.state.gov/content/travel/en/traveladvisories/traveladvisories/israel-west-bank-and-gaza-travel-advisory.html',\n",
    "                'date': datetime.datetime.now().date()}\n",
    "    index.upsert(vectors=[(str(i), embeds[0], metadata)])"
   ]
  },
  {
   "cell_type": "code",
   "execution_count": 31,
   "metadata": {},
   "outputs": [
    {
     "data": {
      "text/plain": [
       "{'dimension': 1536,\n",
       " 'index_fullness': 0.0,\n",
       " 'namespaces': {'': {'vector_count': 12}},\n",
       " 'total_vector_count': 12}"
      ]
     },
     "execution_count": 31,
     "metadata": {},
     "output_type": "execute_result"
    }
   ],
   "source": [
    "index.describe_index_stats()"
   ]
  },
  {
   "cell_type": "code",
   "execution_count": 32,
   "metadata": {},
   "outputs": [
    {
     "name": "stderr",
     "output_type": "stream",
     "text": [
      "/Users/Sonia/Development/SF_WanderChat/venv/lib/python3.11/site-packages/langchain_core/_api/deprecation.py:119: LangChainDeprecationWarning: The class `Pinecone` was deprecated in LangChain 0.0.18 and will be removed in 0.2.0. An updated version of the class exists in the langchain-pinecone package and should be used instead. To use it run `pip install -U langchain-pinecone` and import as `from langchain_pinecone import Pinecone`.\n",
      "  warn_deprecated(\n",
      "/Users/Sonia/Development/SF_WanderChat/venv/lib/python3.11/site-packages/langchain_community/vectorstores/pinecone.py:68: UserWarning: Passing in `embedding` as a Callable is deprecated. Please pass in an Embeddings object instead.\n",
      "  warnings.warn(\n"
     ]
    }
   ],
   "source": [
    "from langchain.vectorstores import Pinecone\n",
    "\n",
    "text_field = \"text\"  # the metadata field that contains our text\n",
    "\n",
    "# initialize the vector store object\n",
    "vectorstore = Pinecone(\n",
    "    index, OAI_embed_model.embed_query, text_field\n",
    ")"
   ]
  },
  {
   "cell_type": "code",
   "execution_count": 33,
   "metadata": {},
   "outputs": [
    {
     "data": {
      "text/plain": [
       "[Document(page_content='and terrorist attacks. Additional travel restrictions may be imposed on U.S. government employees under Chief of Mission security responsibility with little to no notice due to increased security issues or threats. Visit our website for Travel to High Risk Areas.     Travel Advisory Levels       Assistance for U.S. Citizens U.S. Embassy Jerusalem 14 David Flusser StreetJerusalem 93392For Embassy Branch Office Tel Aviv, email TelAvivACS@state.gov. For additional contact information for the Embassy Branch Office, see the Embassies and Consulates section on this page.   Telephone + (972) (2) 6304000  Emergency + (972) (3) 5197551  Fax + (972)', metadata={'date': '2024-05-05', 'source': 'https://travel.state.gov/content/travel/en/traveladvisories/traveladvisories/israel-west-bank-and-gaza-travel-advisory.html'}),\n",
       " Document(page_content='are currently restricted from personal travel to the following locations: Within seven miles of the Gaza demarcation line, as well as the cities of Ashdod and Ashkelon; Within 2.5 miles of the Lebanese and Syrian borders; and Within 1.5 miles of the IsraelEgypt border. Additional travel restrictions may be imposed on U.S. government employees under Chief of Mission security responsibility, with little to no notice due to increased security issues or threats. West BankReconsider Travel Reconsider travel due to terrorism and civil unrest. U.S. government employees in Israel under Chief of Mission security responsibility are currently', metadata={'date': '2024-05-05', 'source': 'https://travel.state.gov/content/travel/en/traveladvisories/traveladvisories/israel-west-bank-and-gaza-travel-advisory.html'}),\n",
       " Document(page_content='and other areas with a significant presence of security forces. Avoid demonstrations and crowds. Follow the instructions of security and emergency response officials. Beware of and report suspicious activities, including unattended items, to local police. Learn the location of the nearest bomb shelter or other hardened shelter. Download the Home Front Command Red Alert application for mobile devices (available on devices within Israel) to receive real time alerts for rocket attacks. Obtain comprehensive travel medical insurance that includes medical evacuation prior to travel. Most travel insurance packages do not cover mental health related', metadata={'date': '2024-05-05', 'source': 'https://travel.state.gov/content/travel/en/traveladvisories/traveladvisories/israel-west-bank-and-gaza-travel-advisory.html'})]"
      ]
     },
     "execution_count": 33,
     "metadata": {},
     "output_type": "execute_result"
    }
   ],
   "source": [
    "query = \"is israel safe to visit?\"\n",
    "\n",
    "vectorstore.similarity_search(query, k=3)"
   ]
  },
  {
   "cell_type": "code",
   "execution_count": 41,
   "metadata": {},
   "outputs": [
    {
     "data": {
      "text/plain": [
       "[Document(page_content='there. The Israel Defense Forces (IDF) are conducting largescale military operations in Gaza against Hamas, a U.S. governmentdesignated foreign terrorist organization, which was responsible for the October 7 attack on Israel. As a result of the armed conflict, the security environment within Gaza and on its borders is extremely dangerous and volatile. The pedestrian crossing between Gaza and Israel was damaged on October 7 and remains closed, and the pedestrian crossing between Egypt and Gaza may close without advance notice depending on the security situation. There are sporadic telecommunication and internet outages within Gaza further', metadata={'date': '2024-05-05', 'source': 'https://travel.state.gov/content/travel/en/traveladvisories/traveladvisories/israel-west-bank-and-gaza-travel-advisory.html'}),\n",
       " Document(page_content='do not cover mental health related illnesses/care.  Enroll in the Smart Traveler Enrollment Program (STEP) to receive Alerts and make it easier to locate you in an emergency. Follow the Department of State on Facebook and Twitter. Review the Country Security Report for Israel, the West Bank, and Gaza.  Prepare a contingency plan for emergency situations. Review the Traveler’s Checklist. GazaDo Not Travel Do not travel due to terrorism and armed conflict. The U.S. government is unable to provide routine or emergency consular services to U.S. citizens in Gaza as U.S. government employees are prohibited from traveling there. The Israel Defense', metadata={'date': '2024-05-05', 'source': 'https://travel.state.gov/content/travel/en/traveladvisories/traveladvisories/israel-west-bank-and-gaza-travel-advisory.html'}),\n",
       " Document(page_content='are currently restricted from personal travel to the following locations: Within seven miles of the Gaza demarcation line, as well as the cities of Ashdod and Ashkelon; Within 2.5 miles of the Lebanese and Syrian borders; and Within 1.5 miles of the IsraelEgypt border. Additional travel restrictions may be imposed on U.S. government employees under Chief of Mission security responsibility, with little to no notice due to increased security issues or threats. West BankReconsider Travel Reconsider travel due to terrorism and civil unrest. U.S. government employees in Israel under Chief of Mission security responsibility are currently', metadata={'date': '2024-05-05', 'source': 'https://travel.state.gov/content/travel/en/traveladvisories/traveladvisories/israel-west-bank-and-gaza-travel-advisory.html'})]"
      ]
     },
     "execution_count": 41,
     "metadata": {},
     "output_type": "execute_result"
    }
   ],
   "source": [
    "query = \"what is the best time to visit thailand??\"\n",
    "\n",
    "vectorstore.similarity_search(query, k=3)"
   ]
  },
  {
   "cell_type": "code",
   "execution_count": 34,
   "metadata": {},
   "outputs": [],
   "source": [
    "def augment_prompt(query: str):\n",
    "    # get top 3 results from knowledge base\n",
    "    results = vectorstore.similarity_search(query, k=3)\n",
    "    # get the text from the results\n",
    "    source_knowledge = \"\\n\".join([x.page_content for x in results])\n",
    "    # feed into an augmented prompt\n",
    "    augmented_prompt = f\"\"\"Using the contexts below, answer the query.\n",
    "\n",
    "    Contexts:\n",
    "    {source_knowledge}\n",
    "\n",
    "    Query: {query}\"\"\"\n",
    "    #print(augmented_prompt)\n",
    "    return augmented_prompt"
   ]
  },
  {
   "cell_type": "code",
   "execution_count": 35,
   "metadata": {},
   "outputs": [
    {
     "data": {
      "text/plain": [
       "'Using the contexts below, answer the query.\\n\\n    Contexts:\\n    and terrorist attacks. Additional travel restrictions may be imposed on U.S. government employees under Chief of Mission security responsibility with little to no notice due to increased security issues or threats. Visit our website for Travel to High Risk Areas.     Travel Advisory Levels       Assistance for U.S. Citizens U.S. Embassy Jerusalem 14 David Flusser StreetJerusalem 93392For Embassy Branch Office Tel Aviv, email TelAvivACS@state.gov. For additional contact information for the Embassy Branch Office, see the Embassies and Consulates section on this page.   Telephone + (972) (2) 6304000  Emergency + (972) (3) 5197551  Fax + (972)\\nare currently restricted from personal travel to the following locations: Within seven miles of the Gaza demarcation line, as well as the cities of Ashdod and Ashkelon; Within 2.5 miles of the Lebanese and Syrian borders; and Within 1.5 miles of the IsraelEgypt border. Additional travel restrictions may be imposed on U.S. government employees under Chief of Mission security responsibility, with little to no notice due to increased security issues or threats. West BankReconsider Travel Reconsider travel due to terrorism and civil unrest. U.S. government employees in Israel under Chief of Mission security responsibility are currently\\nand other areas with a significant presence of security forces. Avoid demonstrations and crowds. Follow the instructions of security and emergency response officials. Beware of and report suspicious activities, including unattended items, to local police. Learn the location of the nearest bomb shelter or other hardened shelter. Download the Home Front Command Red Alert application for mobile devices (available on devices within Israel) to receive real time alerts for rocket attacks. Obtain comprehensive travel medical insurance that includes medical evacuation prior to travel. Most travel insurance packages do not cover mental health related\\n\\n    Query: is israel safe to visit?'"
      ]
     },
     "execution_count": 35,
     "metadata": {},
     "output_type": "execute_result"
    }
   ],
   "source": [
    "p = augment_prompt(query)\n",
    "p"
   ]
  },
  {
   "cell_type": "code",
   "execution_count": 38,
   "metadata": {},
   "outputs": [],
   "source": [
    "# llm.invoke(augment_prompt(query))"
   ]
  },
  {
   "cell_type": "code",
   "execution_count": 40,
   "metadata": {},
   "outputs": [],
   "source": [
    "# llm.invoke(sample_questions[0])"
   ]
  },
  {
   "cell_type": "code",
   "execution_count": null,
   "metadata": {},
   "outputs": [],
   "source": []
  }
 ],
 "metadata": {
  "kernelspec": {
   "display_name": "venv",
   "language": "python",
   "name": "python3"
  },
  "language_info": {
   "codemirror_mode": {
    "name": "ipython",
    "version": 3
   },
   "file_extension": ".py",
   "mimetype": "text/x-python",
   "name": "python",
   "nbconvert_exporter": "python",
   "pygments_lexer": "ipython3",
   "version": "3.11.5"
  }
 },
 "nbformat": 4,
 "nbformat_minor": 2
}
