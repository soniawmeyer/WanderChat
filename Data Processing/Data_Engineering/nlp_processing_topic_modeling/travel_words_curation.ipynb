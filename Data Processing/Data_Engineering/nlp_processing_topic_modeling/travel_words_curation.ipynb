{
  "nbformat": 4,
  "nbformat_minor": 0,
  "metadata": {
    "colab": {
      "provenance": []
    },
    "kernelspec": {
      "name": "python3",
      "display_name": "Python 3"
    },
    "language_info": {
      "name": "python"
    }
  },
  "cells": [
    {
      "cell_type": "code",
      "source": [
        "import pandas as pd\n",
        "import numpy as np\n",
        "import os\n",
        "import re"
      ],
      "metadata": {
        "id": "YcJ6Bu3LPjQ7"
      },
      "execution_count": null,
      "outputs": []
    },
    {
      "cell_type": "code",
      "source": [
        "!python -m spacy download en_core_web_lg\n",
        "import spacy\n",
        "from tqdm import tqdm\n",
        "# from tqdm.notebook import tqdm_notebook"
      ],
      "metadata": {
        "colab": {
          "base_uri": "https://localhost:8080/"
        },
        "id": "H3N5WUyILIiT",
        "outputId": "4d333a8e-9340-46c2-d4f4-71e2d3d54da4"
      },
      "execution_count": null,
      "outputs": [
        {
          "output_type": "stream",
          "name": "stdout",
          "text": [
            "2023-11-04 23:07:09.501234: E tensorflow/compiler/xla/stream_executor/cuda/cuda_dnn.cc:9342] Unable to register cuDNN factory: Attempting to register factory for plugin cuDNN when one has already been registered\n",
            "2023-11-04 23:07:09.501323: E tensorflow/compiler/xla/stream_executor/cuda/cuda_fft.cc:609] Unable to register cuFFT factory: Attempting to register factory for plugin cuFFT when one has already been registered\n",
            "2023-11-04 23:07:09.501364: E tensorflow/compiler/xla/stream_executor/cuda/cuda_blas.cc:1518] Unable to register cuBLAS factory: Attempting to register factory for plugin cuBLAS when one has already been registered\n",
            "2023-11-04 23:07:09.516011: I tensorflow/core/platform/cpu_feature_guard.cc:182] This TensorFlow binary is optimized to use available CPU instructions in performance-critical operations.\n",
            "To enable the following instructions: AVX2 FMA, in other operations, rebuild TensorFlow with the appropriate compiler flags.\n",
            "2023-11-04 23:07:12.954835: W tensorflow/compiler/tf2tensorrt/utils/py_utils.cc:38] TF-TRT Warning: Could not find TensorRT\n",
            "Collecting en-core-web-lg==3.6.0\n",
            "  Downloading https://github.com/explosion/spacy-models/releases/download/en_core_web_lg-3.6.0/en_core_web_lg-3.6.0-py3-none-any.whl (587.7 MB)\n",
            "\u001b[2K     \u001b[90m━━━━━━━━━━━━━━━━━━━━━━━━━━━━━━━━━━━━━━━━\u001b[0m \u001b[32m587.7/587.7 MB\u001b[0m \u001b[31m1.6 MB/s\u001b[0m eta \u001b[36m0:00:00\u001b[0m\n",
            "\u001b[?25hRequirement already satisfied: spacy<3.7.0,>=3.6.0 in /usr/local/lib/python3.10/dist-packages (from en-core-web-lg==3.6.0) (3.6.1)\n",
            "Requirement already satisfied: spacy-legacy<3.1.0,>=3.0.11 in /usr/local/lib/python3.10/dist-packages (from spacy<3.7.0,>=3.6.0->en-core-web-lg==3.6.0) (3.0.12)\n",
            "Requirement already satisfied: spacy-loggers<2.0.0,>=1.0.0 in /usr/local/lib/python3.10/dist-packages (from spacy<3.7.0,>=3.6.0->en-core-web-lg==3.6.0) (1.0.5)\n",
            "Requirement already satisfied: murmurhash<1.1.0,>=0.28.0 in /usr/local/lib/python3.10/dist-packages (from spacy<3.7.0,>=3.6.0->en-core-web-lg==3.6.0) (1.0.10)\n",
            "Requirement already satisfied: cymem<2.1.0,>=2.0.2 in /usr/local/lib/python3.10/dist-packages (from spacy<3.7.0,>=3.6.0->en-core-web-lg==3.6.0) (2.0.8)\n",
            "Requirement already satisfied: preshed<3.1.0,>=3.0.2 in /usr/local/lib/python3.10/dist-packages (from spacy<3.7.0,>=3.6.0->en-core-web-lg==3.6.0) (3.0.9)\n",
            "Requirement already satisfied: thinc<8.2.0,>=8.1.8 in /usr/local/lib/python3.10/dist-packages (from spacy<3.7.0,>=3.6.0->en-core-web-lg==3.6.0) (8.1.12)\n",
            "Requirement already satisfied: wasabi<1.2.0,>=0.9.1 in /usr/local/lib/python3.10/dist-packages (from spacy<3.7.0,>=3.6.0->en-core-web-lg==3.6.0) (1.1.2)\n",
            "Requirement already satisfied: srsly<3.0.0,>=2.4.3 in /usr/local/lib/python3.10/dist-packages (from spacy<3.7.0,>=3.6.0->en-core-web-lg==3.6.0) (2.4.8)\n",
            "Requirement already satisfied: catalogue<2.1.0,>=2.0.6 in /usr/local/lib/python3.10/dist-packages (from spacy<3.7.0,>=3.6.0->en-core-web-lg==3.6.0) (2.0.10)\n",
            "Requirement already satisfied: typer<0.10.0,>=0.3.0 in /usr/local/lib/python3.10/dist-packages (from spacy<3.7.0,>=3.6.0->en-core-web-lg==3.6.0) (0.9.0)\n",
            "Requirement already satisfied: pathy>=0.10.0 in /usr/local/lib/python3.10/dist-packages (from spacy<3.7.0,>=3.6.0->en-core-web-lg==3.6.0) (0.10.3)\n",
            "Requirement already satisfied: smart-open<7.0.0,>=5.2.1 in /usr/local/lib/python3.10/dist-packages (from spacy<3.7.0,>=3.6.0->en-core-web-lg==3.6.0) (6.4.0)\n",
            "Requirement already satisfied: tqdm<5.0.0,>=4.38.0 in /usr/local/lib/python3.10/dist-packages (from spacy<3.7.0,>=3.6.0->en-core-web-lg==3.6.0) (4.66.1)\n",
            "Requirement already satisfied: numpy>=1.15.0 in /usr/local/lib/python3.10/dist-packages (from spacy<3.7.0,>=3.6.0->en-core-web-lg==3.6.0) (1.23.5)\n",
            "Requirement already satisfied: requests<3.0.0,>=2.13.0 in /usr/local/lib/python3.10/dist-packages (from spacy<3.7.0,>=3.6.0->en-core-web-lg==3.6.0) (2.31.0)\n",
            "Requirement already satisfied: pydantic!=1.8,!=1.8.1,<3.0.0,>=1.7.4 in /usr/local/lib/python3.10/dist-packages (from spacy<3.7.0,>=3.6.0->en-core-web-lg==3.6.0) (1.10.13)\n",
            "Requirement already satisfied: jinja2 in /usr/local/lib/python3.10/dist-packages (from spacy<3.7.0,>=3.6.0->en-core-web-lg==3.6.0) (3.1.2)\n",
            "Requirement already satisfied: setuptools in /usr/local/lib/python3.10/dist-packages (from spacy<3.7.0,>=3.6.0->en-core-web-lg==3.6.0) (67.7.2)\n",
            "Requirement already satisfied: packaging>=20.0 in /usr/local/lib/python3.10/dist-packages (from spacy<3.7.0,>=3.6.0->en-core-web-lg==3.6.0) (23.2)\n",
            "Requirement already satisfied: langcodes<4.0.0,>=3.2.0 in /usr/local/lib/python3.10/dist-packages (from spacy<3.7.0,>=3.6.0->en-core-web-lg==3.6.0) (3.3.0)\n",
            "Requirement already satisfied: typing-extensions>=4.2.0 in /usr/local/lib/python3.10/dist-packages (from pydantic!=1.8,!=1.8.1,<3.0.0,>=1.7.4->spacy<3.7.0,>=3.6.0->en-core-web-lg==3.6.0) (4.5.0)\n",
            "Requirement already satisfied: charset-normalizer<4,>=2 in /usr/local/lib/python3.10/dist-packages (from requests<3.0.0,>=2.13.0->spacy<3.7.0,>=3.6.0->en-core-web-lg==3.6.0) (3.3.1)\n",
            "Requirement already satisfied: idna<4,>=2.5 in /usr/local/lib/python3.10/dist-packages (from requests<3.0.0,>=2.13.0->spacy<3.7.0,>=3.6.0->en-core-web-lg==3.6.0) (3.4)\n",
            "Requirement already satisfied: urllib3<3,>=1.21.1 in /usr/local/lib/python3.10/dist-packages (from requests<3.0.0,>=2.13.0->spacy<3.7.0,>=3.6.0->en-core-web-lg==3.6.0) (2.0.7)\n",
            "Requirement already satisfied: certifi>=2017.4.17 in /usr/local/lib/python3.10/dist-packages (from requests<3.0.0,>=2.13.0->spacy<3.7.0,>=3.6.0->en-core-web-lg==3.6.0) (2023.7.22)\n",
            "Requirement already satisfied: blis<0.8.0,>=0.7.8 in /usr/local/lib/python3.10/dist-packages (from thinc<8.2.0,>=8.1.8->spacy<3.7.0,>=3.6.0->en-core-web-lg==3.6.0) (0.7.11)\n",
            "Requirement already satisfied: confection<1.0.0,>=0.0.1 in /usr/local/lib/python3.10/dist-packages (from thinc<8.2.0,>=8.1.8->spacy<3.7.0,>=3.6.0->en-core-web-lg==3.6.0) (0.1.3)\n",
            "Requirement already satisfied: click<9.0.0,>=7.1.1 in /usr/local/lib/python3.10/dist-packages (from typer<0.10.0,>=0.3.0->spacy<3.7.0,>=3.6.0->en-core-web-lg==3.6.0) (8.1.7)\n",
            "Requirement already satisfied: MarkupSafe>=2.0 in /usr/local/lib/python3.10/dist-packages (from jinja2->spacy<3.7.0,>=3.6.0->en-core-web-lg==3.6.0) (2.1.3)\n",
            "\u001b[38;5;2m✔ Download and installation successful\u001b[0m\n",
            "You can now load the package via spacy.load('en_core_web_lg')\n"
          ]
        }
      ]
    },
    {
      "cell_type": "code",
      "source": [
        "import warnings\n",
        "\n",
        "# Use the \"filterwarnings\" function to suppress specific warnings\n",
        "warnings.filterwarnings(\"ignore\", category=UserWarning)"
      ],
      "metadata": {
        "id": "IbVBGL6uNx6E"
      },
      "execution_count": null,
      "outputs": []
    },
    {
      "cell_type": "markdown",
      "metadata": {
        "id": "JjZiupOUwju-"
      },
      "source": [
        "# Google Drive"
      ]
    },
    {
      "cell_type": "code",
      "execution_count": null,
      "metadata": {
        "colab": {
          "base_uri": "https://localhost:8080/"
        },
        "id": "S3LhFBs5d5wC",
        "outputId": "8911d6b4-6b7b-4c37-e9fc-a827a5cfd469"
      },
      "outputs": [
        {
          "output_type": "stream",
          "name": "stdout",
          "text": [
            "Drive already mounted at drive; to attempt to forcibly remount, call drive.mount(\"drive\", force_remount=True).\n"
          ]
        }
      ],
      "source": [
        "from google.colab import drive\n",
        "drive.mount('drive')"
      ]
    },
    {
      "cell_type": "code",
      "execution_count": null,
      "metadata": {
        "colab": {
          "base_uri": "https://localhost:8080/"
        },
        "id": "XC8T-UJHKsE8",
        "outputId": "807deb67-ed7f-43b6-e7c9-ca9bf2475698"
      },
      "outputs": [
        {
          "output_type": "stream",
          "name": "stdout",
          "text": [
            "/content/drive/My Drive/SJSU Classes/*2023 Fall DATA298A/BERT data\n",
            "298_compiled_travel_keywords.csv  processed_data.csv\t    train_3.jsonl     travel_words.csv\n",
            "bertopic_model.pkl\t\t  processed_with_topic.csv  train_4.jsonl     worldcities.csv\n",
            "bertopic_test.pkl\t\t  train_0.jsonl\t\t    train_5.jsonl\n",
            "CallReddit.ipynb\t\t  train_1.jsonl\t\t    travel_df.csv\n",
            "databricks-dolly-15k_travel.pkl   train_2.jsonl\t\t    travel_regex.txt\n"
          ]
        }
      ],
      "source": [
        "%cd /content/drive/My Drive/'SJSU Classes'/'*2023 Fall DATA298A'/'BERT data'\n",
        "!ls"
      ]
    },
    {
      "cell_type": "code",
      "execution_count": null,
      "metadata": {
        "id": "uvtviwyVLezW"
      },
      "outputs": [],
      "source": [
        "# Define the folder containing the JSONL files\n",
        "cwd = os.getcwd()"
      ]
    },
    {
      "cell_type": "markdown",
      "source": [
        "# Get Data"
      ],
      "metadata": {
        "id": "XJlSqtzLj84G"
      }
    },
    {
      "cell_type": "code",
      "source": [
        "cities = pd.read_csv('worldcities.csv')['city'].to_list()\n",
        "travel_words = pd.read_csv('travel_words.csv', header=None)[0].to_list()\n",
        "cities_set = set(cities)\n",
        "travel_words_set = set(travel_words)\n",
        "\n",
        "print(len(cities))\n",
        "print(len(cities_set))\n",
        "print(len(travel_words))\n",
        "print(len(travel_words_set))"
      ],
      "metadata": {
        "id": "3Sm6_1ZyYQF5",
        "colab": {
          "base_uri": "https://localhost:8080/"
        },
        "outputId": "4977a9e7-be45-429d-fd42-e29108315f8d"
      },
      "execution_count": null,
      "outputs": [
        {
          "output_type": "stream",
          "name": "stdout",
          "text": [
            "44691\n",
            "41343\n",
            "315\n",
            "134\n"
          ]
        }
      ]
    },
    {
      "cell_type": "code",
      "source": [
        "check_for_words = '''airbnb tent camping staycation explore temple tourism bites attraction sites bus shoestring\n",
        "wanderlust backpacking hiking van road trip vagabond travel remote rural scenic landscape village map nomad flight\n",
        "couchsurf cruise journey'''"
      ],
      "metadata": {
        "id": "Rsw13JbfeoZP"
      },
      "execution_count": null,
      "outputs": []
    },
    {
      "cell_type": "code",
      "source": [
        "check_for_words = check_for_words.split()\n",
        "check_for_words = set(check_for_words)\n",
        "check_for_words"
      ],
      "metadata": {
        "colab": {
          "base_uri": "https://localhost:8080/"
        },
        "id": "AMrCgq6pv3KH",
        "outputId": "70d4364d-0511-412f-fcbd-d8bb7eeea18f"
      },
      "execution_count": null,
      "outputs": [
        {
          "output_type": "execute_result",
          "data": {
            "text/plain": [
              "{'airbnb',\n",
              " 'attraction',\n",
              " 'backpacking',\n",
              " 'bites',\n",
              " 'bus',\n",
              " 'camping',\n",
              " 'couchsurf',\n",
              " 'cruise',\n",
              " 'explore',\n",
              " 'flight',\n",
              " 'hiking',\n",
              " 'journey',\n",
              " 'landscape',\n",
              " 'map',\n",
              " 'nomad',\n",
              " 'remote',\n",
              " 'road',\n",
              " 'rural',\n",
              " 'scenic',\n",
              " 'shoestring',\n",
              " 'sites',\n",
              " 'staycation',\n",
              " 'temple',\n",
              " 'tent',\n",
              " 'tourism',\n",
              " 'travel',\n",
              " 'trip',\n",
              " 'vagabond',\n",
              " 'van',\n",
              " 'village',\n",
              " 'wanderlust'}"
            ]
          },
          "metadata": {},
          "execution_count": 129
        }
      ]
    },
    {
      "cell_type": "markdown",
      "source": [
        "# Manually Check and Add Words"
      ],
      "metadata": {
        "id": "Fw6KyJIBJJRZ"
      }
    },
    {
      "cell_type": "code",
      "source": [
        "difference = check_for_words - travel_words_set\n",
        "difference"
      ],
      "metadata": {
        "colab": {
          "base_uri": "https://localhost:8080/"
        },
        "id": "jxZvaqHXxcyU",
        "outputId": "ce447c58-4a99-4837-fcb6-150292a4694f"
      },
      "execution_count": null,
      "outputs": [
        {
          "output_type": "execute_result",
          "data": {
            "text/plain": [
              "{'airbnb',\n",
              " 'attraction',\n",
              " 'backpacking',\n",
              " 'bites',\n",
              " 'couchsurf',\n",
              " 'explore',\n",
              " 'landscape',\n",
              " 'map',\n",
              " 'remote',\n",
              " 'rural',\n",
              " 'shoestring',\n",
              " 'sites',\n",
              " 'staycation',\n",
              " 'temple',\n",
              " 'vagabond',\n",
              " 'van',\n",
              " 'village',\n",
              " 'wanderlust'}"
            ]
          },
          "metadata": {},
          "execution_count": 130
        }
      ]
    },
    {
      "cell_type": "code",
      "source": [
        "len(difference)"
      ],
      "metadata": {
        "colab": {
          "base_uri": "https://localhost:8080/"
        },
        "id": "zC8p97vMxkNI",
        "outputId": "51415fbb-a2c3-4636-bca1-128165a54d6e"
      },
      "execution_count": null,
      "outputs": [
        {
          "output_type": "execute_result",
          "data": {
            "text/plain": [
              "18"
            ]
          },
          "metadata": {},
          "execution_count": 131
        }
      ]
    },
    {
      "cell_type": "code",
      "source": [
        "travel_words_set = travel_words_set.union(check_for_words)"
      ],
      "metadata": {
        "id": "rYrpOas6xMS1"
      },
      "execution_count": null,
      "outputs": []
    },
    {
      "cell_type": "code",
      "source": [
        "len(travel_words_set)"
      ],
      "metadata": {
        "colab": {
          "base_uri": "https://localhost:8080/"
        },
        "id": "F0XJNu3Rwvfs",
        "outputId": "ed224686-3701-41d9-a131-6140fd67002b"
      },
      "execution_count": null,
      "outputs": [
        {
          "output_type": "execute_result",
          "data": {
            "text/plain": [
              "152"
            ]
          },
          "metadata": {},
          "execution_count": 133
        }
      ]
    },
    {
      "cell_type": "markdown",
      "source": [
        "# Similar Word Vectors"
      ],
      "metadata": {
        "id": "xxRx8ANwLNvq"
      }
    },
    {
      "cell_type": "code",
      "source": [
        "similarity_threshold = 0.3"
      ],
      "metadata": {
        "id": "FdHiw6c_gEyc"
      },
      "execution_count": null,
      "outputs": []
    },
    {
      "cell_type": "code",
      "source": [
        "# Load spaCy with the medium English model (which includes word vectors)\n",
        "nlp = spacy.load(\"en_core_web_lg\")\n",
        "\n",
        "# Dictionary to store unique similar words and their highest similarity score\n",
        "unique_similar_words = {}\n",
        "\n",
        "seed_words = travel_words_set\n",
        "\n",
        "with tqdm(total=len(seed_words), unit=\"row\", desc=\"Processing\", dynamic_ncols=True) as pbar: #pbar.update(1) ###\n",
        "\n",
        "  # Find similar words\n",
        "  for word in seed_words:\n",
        "      # Get the token for the seed word\n",
        "      seed_token = nlp(word)\n",
        "\n",
        "      # Find similar words using spaCy's word vectors\n",
        "      similar_tokens = [token for token in nlp.vocab if not token.is_stop and token.is_alpha and\n",
        "                        token.text.lower() != word and seed_token.similarity(token) > similarity_threshold]\n",
        "\n",
        "      # Update the dictionary with unique similar words and their highest similarity score\n",
        "      for token in similar_tokens:\n",
        "          token_text = token.text.lower()\n",
        "          similarity = seed_token.similarity(token)\n",
        "          if token_text not in unique_similar_words or similarity > unique_similar_words[token_text]:\n",
        "              unique_similar_words[token_text] = similarity\n",
        "\n",
        "      pbar.update(1) ###\n",
        "\n",
        "# Update task with timing information\n",
        "task = f'finding similar word embeddings for {df.shape[0]} travel keywords'\n",
        "print(f\"\\nElapsed time for {task}: {pbar.format_interval(pbar.last_print_t - pbar.start_t)}\")\n",
        "\n",
        "# Sort the unique similar words by their highest similarity score\n",
        "sorted_similar_words = sorted(unique_similar_words.items(), key=lambda x: x[1], reverse=True)"
      ],
      "metadata": {
        "colab": {
          "base_uri": "https://localhost:8080/"
        },
        "id": "InCHBfV2C9tm",
        "outputId": "23f1b2f0-4e2b-4a11-ace0-4995165a1812"
      },
      "execution_count": null,
      "outputs": [
        {
          "output_type": "stream",
          "name": "stderr",
          "text": [
            "Processing: 100%|██████████| 152/152 [00:02<00:00, 74.86row/s]"
          ]
        },
        {
          "output_type": "stream",
          "name": "stdout",
          "text": [
            "\n",
            "Elapsed time for finding similar word embeddings for 330 travel keywords: 00:01\n"
          ]
        },
        {
          "output_type": "stream",
          "name": "stderr",
          "text": [
            "\n"
          ]
        }
      ]
    },
    {
      "cell_type": "code",
      "source": [
        "len(sorted_similar_words)"
      ],
      "metadata": {
        "colab": {
          "base_uri": "https://localhost:8080/"
        },
        "id": "ffB0Lth0gKH2",
        "outputId": "14f8b2b3-8279-44ab-c017-4ccfde6b364a"
      },
      "execution_count": null,
      "outputs": [
        {
          "output_type": "execute_result",
          "data": {
            "text/plain": [
              "159"
            ]
          },
          "metadata": {},
          "execution_count": 136
        }
      ]
    },
    {
      "cell_type": "code",
      "source": [
        "# Print the top N similar words with their highest similarity scores\n",
        "for word, score in sorted_similar_words[:10]:\n",
        "    print(f\"{word}: {score}\")"
      ],
      "metadata": {
        "colab": {
          "base_uri": "https://localhost:8080/"
        },
        "id": "ZvdJofmlID2d",
        "outputId": "64c60e5b-85a8-4aa0-b68e-c2ca9355842e"
      },
      "execution_count": null,
      "outputs": [
        {
          "output_type": "stream",
          "name": "stdout",
          "text": [
            "park: 0.9425949131853893\n",
            "tourist: 0.9073365769160389\n",
            "car: 0.9062630961539234\n",
            "sunset: 0.9046526279910705\n",
            "staycation: 0.8668222753211425\n",
            "baggage: 0.8622013385733944\n",
            "map: 0.8615537332241894\n",
            "jet: 0.8438389933465902\n",
            "road: 0.8273038487152198\n",
            "ski: 0.8223414724963717\n"
          ]
        }
      ]
    },
    {
      "cell_type": "code",
      "source": [
        "# Print the top N similar words with their highest similarity scores\n",
        "for word, score in sorted_similar_words[-10:]:\n",
        "    print(f\"{word}: {score}\")"
      ],
      "metadata": {
        "colab": {
          "base_uri": "https://localhost:8080/"
        },
        "id": "D3IDpNpYLZNF",
        "outputId": "5bdef6b8-9ca2-464a-bf9a-611a2029c2b8"
      },
      "execution_count": null,
      "outputs": [
        {
          "output_type": "stream",
          "name": "stdout",
          "text": [
            "globetrotter: 0.36223951288819944\n",
            "calif: 0.36085339021724194\n",
            "escapade: 0.353956946465806\n",
            "ticket: 0.3487050972892803\n",
            "mass: 0.3293919704648471\n",
            "lovin: 0.3264586177555681\n",
            "corp: 0.31782919824646644\n",
            "colo: 0.3172704884769808\n",
            "culture: 0.31120919383067125\n",
            "jan: 0.30039504960907565\n"
          ]
        }
      ]
    },
    {
      "cell_type": "code",
      "source": [
        "similar_words = [t[0] for t in sorted_similar_words]\n",
        "similar_words"
      ],
      "metadata": {
        "colab": {
          "base_uri": "https://localhost:8080/"
        },
        "id": "QXLprHKMyAC2",
        "outputId": "d105312c-dcf5-4e34-d905-38e9a320df67"
      },
      "execution_count": null,
      "outputs": [
        {
          "output_type": "execute_result",
          "data": {
            "text/plain": [
              "['park',\n",
              " 'tourist',\n",
              " 'car',\n",
              " 'sunset',\n",
              " 'staycation',\n",
              " 'baggage',\n",
              " 'map',\n",
              " 'jet',\n",
              " 'road',\n",
              " 'ski',\n",
              " 'trip',\n",
              " 'backpack',\n",
              " 'camping',\n",
              " 'zip',\n",
              " 'fishing',\n",
              " 'backpacking',\n",
              " 'adventurous',\n",
              " 'wanderer',\n",
              " 'diving',\n",
              " 'attraction',\n",
              " 'navigation',\n",
              " 'lag',\n",
              " 'vacation',\n",
              " 'reservation',\n",
              " 'travel',\n",
              " 'destination',\n",
              " 'line',\n",
              " 'cancellation',\n",
              " 'touristy',\n",
              " 'taxi',\n",
              " 'boating',\n",
              " 'exploration',\n",
              " 'wandering',\n",
              " 'discovery',\n",
              " 'arrival',\n",
              " 'visa',\n",
              " 'sailing',\n",
              " 'arrive',\n",
              " 'resort',\n",
              " 'expedition',\n",
              " 'swimming',\n",
              " 'snorkeling',\n",
              " 'waterfall',\n",
              " 'wanderlust',\n",
              " 'amusement',\n",
              " 'train',\n",
              " 'route',\n",
              " 'hiking',\n",
              " 'rental',\n",
              " 'airline',\n",
              " 'scenic',\n",
              " 'aircraft',\n",
              " 'trail',\n",
              " 'inclusive',\n",
              " 'detour',\n",
              " 'outdoor',\n",
              " 'foreign',\n",
              " 'excursion',\n",
              " 'surfing',\n",
              " 'airport',\n",
              " 'sightseeing',\n",
              " 'boarding',\n",
              " 'adventure',\n",
              " 'frontier',\n",
              " 'ferry',\n",
              " 'bicycle',\n",
              " 'tent',\n",
              " 'hotel',\n",
              " 'driving',\n",
              " 'lodge',\n",
              " 'pilgrimage',\n",
              " 'getaway',\n",
              " 'explore',\n",
              " 'backpacker',\n",
              " 'skiing',\n",
              " 'fare',\n",
              " 'landscape',\n",
              " 'yacht',\n",
              " 'kayak',\n",
              " 'beach',\n",
              " 'mountains',\n",
              " 'volcano',\n",
              " 'economy',\n",
              " 'campground',\n",
              " 'airfare',\n",
              " 'alight',\n",
              " 'experience',\n",
              " 'ocean',\n",
              " 'voyage',\n",
              " 'booking',\n",
              " 'transportation',\n",
              " 'tourism',\n",
              " 'spa',\n",
              " 'restroom',\n",
              " 'space',\n",
              " 'sites',\n",
              " 'museum',\n",
              " 'flight',\n",
              " 'rural',\n",
              " 'tour',\n",
              " 'camp',\n",
              " 'guidebook',\n",
              " 'bus',\n",
              " 'zoo',\n",
              " 'hike',\n",
              " 'safari',\n",
              " 'package',\n",
              " 'agency',\n",
              " 'temple',\n",
              " 'airbnb',\n",
              " 'wildlife',\n",
              " 'traveler',\n",
              " 'remote',\n",
              " 'breathtaking',\n",
              " 'cabin',\n",
              " 'journey',\n",
              " 'village',\n",
              " 'border',\n",
              " 'currency',\n",
              " 'passport',\n",
              " 'photography',\n",
              " 'embark',\n",
              " 'festival',\n",
              " 'cruise',\n",
              " 'abroad',\n",
              " 'itinerary',\n",
              " 'somethin',\n",
              " 'air',\n",
              " 'luggage',\n",
              " 'landmark',\n",
              " 'journal',\n",
              " 'cause',\n",
              " 'hostel',\n",
              " 'mt',\n",
              " 'budget',\n",
              " 'shoestring',\n",
              " 'mont',\n",
              " 'neb',\n",
              " 'need',\n",
              " 'ol',\n",
              " 'nomad',\n",
              " 'vagabond',\n",
              " 'ought',\n",
              " 'souvenir',\n",
              " 'holiday',\n",
              " 'maps',\n",
              " 'wander',\n",
              " 'explorer',\n",
              " 'van',\n",
              " 'globetrotter',\n",
              " 'calif',\n",
              " 'escapade',\n",
              " 'ticket',\n",
              " 'mass',\n",
              " 'lovin',\n",
              " 'corp',\n",
              " 'colo',\n",
              " 'culture',\n",
              " 'jan']"
            ]
          },
          "metadata": {},
          "execution_count": 139
        }
      ]
    },
    {
      "cell_type": "code",
      "source": [
        "travel_words_set = travel_words_set.union(similar_words)\n",
        "len(travel_words_set)"
      ],
      "metadata": {
        "colab": {
          "base_uri": "https://localhost:8080/"
        },
        "id": "aFUqUj0eynxH",
        "outputId": "f835d69d-e75d-47a7-90be-e6a20987426a"
      },
      "execution_count": null,
      "outputs": [
        {
          "output_type": "execute_result",
          "data": {
            "text/plain": [
              "173"
            ]
          },
          "metadata": {},
          "execution_count": 140
        }
      ]
    },
    {
      "cell_type": "markdown",
      "source": [
        "# Add Cities ????"
      ],
      "metadata": {
        "id": "oDx2AjbBebIB"
      }
    },
    {
      "cell_type": "code",
      "source": [
        "len(cities)"
      ],
      "metadata": {
        "colab": {
          "base_uri": "https://localhost:8080/"
        },
        "id": "jznTETtz_qbW",
        "outputId": "34f3a715-0260-4b57-ae44-79d3e0fa192c"
      },
      "execution_count": null,
      "outputs": [
        {
          "output_type": "execute_result",
          "data": {
            "text/plain": [
              "44691"
            ]
          },
          "metadata": {},
          "execution_count": 105
        }
      ]
    },
    {
      "cell_type": "code",
      "source": [
        "cities = pd.DataFrame({'Travel Keywords': cities})\n",
        "df_cities = pd.concat([df, cities], ignore_index=True)"
      ],
      "metadata": {
        "id": "N4G1PDat_fJF"
      },
      "execution_count": null,
      "outputs": []
    },
    {
      "cell_type": "code",
      "source": [
        "df_cities.size"
      ],
      "metadata": {
        "colab": {
          "base_uri": "https://localhost:8080/"
        },
        "id": "PzqLSkRuLZFo",
        "outputId": "d551f404-39ab-4791-cf24-737cba7cf57f"
      },
      "execution_count": null,
      "outputs": [
        {
          "output_type": "execute_result",
          "data": {
            "text/plain": [
              "45178"
            ]
          },
          "metadata": {},
          "execution_count": 110
        }
      ]
    },
    {
      "cell_type": "code",
      "source": [],
      "metadata": {
        "id": "VD7uXy4loWGx"
      },
      "execution_count": null,
      "outputs": []
    },
    {
      "cell_type": "code",
      "source": [
        "df"
      ],
      "metadata": {
        "colab": {
          "base_uri": "https://localhost:8080/",
          "height": 423
        },
        "id": "2s2kpsjkJZjQ",
        "outputId": "da4febad-e743-432c-bcb0-453a440e3ac1"
      },
      "execution_count": null,
      "outputs": [
        {
          "output_type": "execute_result",
          "data": {
            "text/plain": [
              "    Travel Keywords\n",
              "0            abroad\n",
              "1         adventure\n",
              "2       adventurous\n",
              "3            agency\n",
              "4           airfare\n",
              "..              ...\n",
              "310     sightseeing\n",
              "311          skiing\n",
              "312      snorkeling\n",
              "313        souvenir\n",
              "314             spa\n",
              "\n",
              "[315 rows x 1 columns]"
            ],
            "text/html": [
              "\n",
              "  <div id=\"df-833fce22-ef85-4832-bef1-6bf5b6fa7cbd\" class=\"colab-df-container\">\n",
              "    <div>\n",
              "<style scoped>\n",
              "    .dataframe tbody tr th:only-of-type {\n",
              "        vertical-align: middle;\n",
              "    }\n",
              "\n",
              "    .dataframe tbody tr th {\n",
              "        vertical-align: top;\n",
              "    }\n",
              "\n",
              "    .dataframe thead th {\n",
              "        text-align: right;\n",
              "    }\n",
              "</style>\n",
              "<table border=\"1\" class=\"dataframe\">\n",
              "  <thead>\n",
              "    <tr style=\"text-align: right;\">\n",
              "      <th></th>\n",
              "      <th>Travel Keywords</th>\n",
              "    </tr>\n",
              "  </thead>\n",
              "  <tbody>\n",
              "    <tr>\n",
              "      <th>0</th>\n",
              "      <td>abroad</td>\n",
              "    </tr>\n",
              "    <tr>\n",
              "      <th>1</th>\n",
              "      <td>adventure</td>\n",
              "    </tr>\n",
              "    <tr>\n",
              "      <th>2</th>\n",
              "      <td>adventurous</td>\n",
              "    </tr>\n",
              "    <tr>\n",
              "      <th>3</th>\n",
              "      <td>agency</td>\n",
              "    </tr>\n",
              "    <tr>\n",
              "      <th>4</th>\n",
              "      <td>airfare</td>\n",
              "    </tr>\n",
              "    <tr>\n",
              "      <th>...</th>\n",
              "      <td>...</td>\n",
              "    </tr>\n",
              "    <tr>\n",
              "      <th>310</th>\n",
              "      <td>sightseeing</td>\n",
              "    </tr>\n",
              "    <tr>\n",
              "      <th>311</th>\n",
              "      <td>skiing</td>\n",
              "    </tr>\n",
              "    <tr>\n",
              "      <th>312</th>\n",
              "      <td>snorkeling</td>\n",
              "    </tr>\n",
              "    <tr>\n",
              "      <th>313</th>\n",
              "      <td>souvenir</td>\n",
              "    </tr>\n",
              "    <tr>\n",
              "      <th>314</th>\n",
              "      <td>spa</td>\n",
              "    </tr>\n",
              "  </tbody>\n",
              "</table>\n",
              "<p>315 rows × 1 columns</p>\n",
              "</div>\n",
              "    <div class=\"colab-df-buttons\">\n",
              "\n",
              "  <div class=\"colab-df-container\">\n",
              "    <button class=\"colab-df-convert\" onclick=\"convertToInteractive('df-833fce22-ef85-4832-bef1-6bf5b6fa7cbd')\"\n",
              "            title=\"Convert this dataframe to an interactive table.\"\n",
              "            style=\"display:none;\">\n",
              "\n",
              "  <svg xmlns=\"http://www.w3.org/2000/svg\" height=\"24px\" viewBox=\"0 -960 960 960\">\n",
              "    <path d=\"M120-120v-720h720v720H120Zm60-500h600v-160H180v160Zm220 220h160v-160H400v160Zm0 220h160v-160H400v160ZM180-400h160v-160H180v160Zm440 0h160v-160H620v160ZM180-180h160v-160H180v160Zm440 0h160v-160H620v160Z\"/>\n",
              "  </svg>\n",
              "    </button>\n",
              "\n",
              "  <style>\n",
              "    .colab-df-container {\n",
              "      display:flex;\n",
              "      gap: 12px;\n",
              "    }\n",
              "\n",
              "    .colab-df-convert {\n",
              "      background-color: #E8F0FE;\n",
              "      border: none;\n",
              "      border-radius: 50%;\n",
              "      cursor: pointer;\n",
              "      display: none;\n",
              "      fill: #1967D2;\n",
              "      height: 32px;\n",
              "      padding: 0 0 0 0;\n",
              "      width: 32px;\n",
              "    }\n",
              "\n",
              "    .colab-df-convert:hover {\n",
              "      background-color: #E2EBFA;\n",
              "      box-shadow: 0px 1px 2px rgba(60, 64, 67, 0.3), 0px 1px 3px 1px rgba(60, 64, 67, 0.15);\n",
              "      fill: #174EA6;\n",
              "    }\n",
              "\n",
              "    .colab-df-buttons div {\n",
              "      margin-bottom: 4px;\n",
              "    }\n",
              "\n",
              "    [theme=dark] .colab-df-convert {\n",
              "      background-color: #3B4455;\n",
              "      fill: #D2E3FC;\n",
              "    }\n",
              "\n",
              "    [theme=dark] .colab-df-convert:hover {\n",
              "      background-color: #434B5C;\n",
              "      box-shadow: 0px 1px 3px 1px rgba(0, 0, 0, 0.15);\n",
              "      filter: drop-shadow(0px 1px 2px rgba(0, 0, 0, 0.3));\n",
              "      fill: #FFFFFF;\n",
              "    }\n",
              "  </style>\n",
              "\n",
              "    <script>\n",
              "      const buttonEl =\n",
              "        document.querySelector('#df-833fce22-ef85-4832-bef1-6bf5b6fa7cbd button.colab-df-convert');\n",
              "      buttonEl.style.display =\n",
              "        google.colab.kernel.accessAllowed ? 'block' : 'none';\n",
              "\n",
              "      async function convertToInteractive(key) {\n",
              "        const element = document.querySelector('#df-833fce22-ef85-4832-bef1-6bf5b6fa7cbd');\n",
              "        const dataTable =\n",
              "          await google.colab.kernel.invokeFunction('convertToInteractive',\n",
              "                                                    [key], {});\n",
              "        if (!dataTable) return;\n",
              "\n",
              "        const docLinkHtml = 'Like what you see? Visit the ' +\n",
              "          '<a target=\"_blank\" href=https://colab.research.google.com/notebooks/data_table.ipynb>data table notebook</a>'\n",
              "          + ' to learn more about interactive tables.';\n",
              "        element.innerHTML = '';\n",
              "        dataTable['output_type'] = 'display_data';\n",
              "        await google.colab.output.renderOutput(dataTable, element);\n",
              "        const docLink = document.createElement('div');\n",
              "        docLink.innerHTML = docLinkHtml;\n",
              "        element.appendChild(docLink);\n",
              "      }\n",
              "    </script>\n",
              "  </div>\n",
              "\n",
              "\n",
              "<div id=\"df-6d4f3838-3520-477b-a660-53461e1e9020\">\n",
              "  <button class=\"colab-df-quickchart\" onclick=\"quickchart('df-6d4f3838-3520-477b-a660-53461e1e9020')\"\n",
              "            title=\"Suggest charts.\"\n",
              "            style=\"display:none;\">\n",
              "\n",
              "<svg xmlns=\"http://www.w3.org/2000/svg\" height=\"24px\"viewBox=\"0 0 24 24\"\n",
              "     width=\"24px\">\n",
              "    <g>\n",
              "        <path d=\"M19 3H5c-1.1 0-2 .9-2 2v14c0 1.1.9 2 2 2h14c1.1 0 2-.9 2-2V5c0-1.1-.9-2-2-2zM9 17H7v-7h2v7zm4 0h-2V7h2v10zm4 0h-2v-4h2v4z\"/>\n",
              "    </g>\n",
              "</svg>\n",
              "  </button>\n",
              "\n",
              "<style>\n",
              "  .colab-df-quickchart {\n",
              "      --bg-color: #E8F0FE;\n",
              "      --fill-color: #1967D2;\n",
              "      --hover-bg-color: #E2EBFA;\n",
              "      --hover-fill-color: #174EA6;\n",
              "      --disabled-fill-color: #AAA;\n",
              "      --disabled-bg-color: #DDD;\n",
              "  }\n",
              "\n",
              "  [theme=dark] .colab-df-quickchart {\n",
              "      --bg-color: #3B4455;\n",
              "      --fill-color: #D2E3FC;\n",
              "      --hover-bg-color: #434B5C;\n",
              "      --hover-fill-color: #FFFFFF;\n",
              "      --disabled-bg-color: #3B4455;\n",
              "      --disabled-fill-color: #666;\n",
              "  }\n",
              "\n",
              "  .colab-df-quickchart {\n",
              "    background-color: var(--bg-color);\n",
              "    border: none;\n",
              "    border-radius: 50%;\n",
              "    cursor: pointer;\n",
              "    display: none;\n",
              "    fill: var(--fill-color);\n",
              "    height: 32px;\n",
              "    padding: 0;\n",
              "    width: 32px;\n",
              "  }\n",
              "\n",
              "  .colab-df-quickchart:hover {\n",
              "    background-color: var(--hover-bg-color);\n",
              "    box-shadow: 0 1px 2px rgba(60, 64, 67, 0.3), 0 1px 3px 1px rgba(60, 64, 67, 0.15);\n",
              "    fill: var(--button-hover-fill-color);\n",
              "  }\n",
              "\n",
              "  .colab-df-quickchart-complete:disabled,\n",
              "  .colab-df-quickchart-complete:disabled:hover {\n",
              "    background-color: var(--disabled-bg-color);\n",
              "    fill: var(--disabled-fill-color);\n",
              "    box-shadow: none;\n",
              "  }\n",
              "\n",
              "  .colab-df-spinner {\n",
              "    border: 2px solid var(--fill-color);\n",
              "    border-color: transparent;\n",
              "    border-bottom-color: var(--fill-color);\n",
              "    animation:\n",
              "      spin 1s steps(1) infinite;\n",
              "  }\n",
              "\n",
              "  @keyframes spin {\n",
              "    0% {\n",
              "      border-color: transparent;\n",
              "      border-bottom-color: var(--fill-color);\n",
              "      border-left-color: var(--fill-color);\n",
              "    }\n",
              "    20% {\n",
              "      border-color: transparent;\n",
              "      border-left-color: var(--fill-color);\n",
              "      border-top-color: var(--fill-color);\n",
              "    }\n",
              "    30% {\n",
              "      border-color: transparent;\n",
              "      border-left-color: var(--fill-color);\n",
              "      border-top-color: var(--fill-color);\n",
              "      border-right-color: var(--fill-color);\n",
              "    }\n",
              "    40% {\n",
              "      border-color: transparent;\n",
              "      border-right-color: var(--fill-color);\n",
              "      border-top-color: var(--fill-color);\n",
              "    }\n",
              "    60% {\n",
              "      border-color: transparent;\n",
              "      border-right-color: var(--fill-color);\n",
              "    }\n",
              "    80% {\n",
              "      border-color: transparent;\n",
              "      border-right-color: var(--fill-color);\n",
              "      border-bottom-color: var(--fill-color);\n",
              "    }\n",
              "    90% {\n",
              "      border-color: transparent;\n",
              "      border-bottom-color: var(--fill-color);\n",
              "    }\n",
              "  }\n",
              "</style>\n",
              "\n",
              "  <script>\n",
              "    async function quickchart(key) {\n",
              "      const quickchartButtonEl =\n",
              "        document.querySelector('#' + key + ' button');\n",
              "      quickchartButtonEl.disabled = true;  // To prevent multiple clicks.\n",
              "      quickchartButtonEl.classList.add('colab-df-spinner');\n",
              "      try {\n",
              "        const charts = await google.colab.kernel.invokeFunction(\n",
              "            'suggestCharts', [key], {});\n",
              "      } catch (error) {\n",
              "        console.error('Error during call to suggestCharts:', error);\n",
              "      }\n",
              "      quickchartButtonEl.classList.remove('colab-df-spinner');\n",
              "      quickchartButtonEl.classList.add('colab-df-quickchart-complete');\n",
              "    }\n",
              "    (() => {\n",
              "      let quickchartButtonEl =\n",
              "        document.querySelector('#df-6d4f3838-3520-477b-a660-53461e1e9020 button');\n",
              "      quickchartButtonEl.style.display =\n",
              "        google.colab.kernel.accessAllowed ? 'block' : 'none';\n",
              "    })();\n",
              "  </script>\n",
              "</div>\n",
              "    </div>\n",
              "  </div>\n"
            ]
          },
          "metadata": {},
          "execution_count": 11
        }
      ]
    },
    {
      "cell_type": "markdown",
      "source": [
        "# Save as .csv"
      ],
      "metadata": {
        "id": "NotN8Q3fRneZ"
      }
    },
    {
      "cell_type": "code",
      "source": [
        "df = pd.DataFrame({'Travel Keywords': travel_words}).assign(**{'Travel Keywords': lambda x: x['Travel Keywords'].str.lower()})"
      ],
      "metadata": {
        "id": "mLNTLL68_6k9"
      },
      "execution_count": null,
      "outputs": []
    },
    {
      "cell_type": "code",
      "source": [
        "df"
      ],
      "metadata": {
        "colab": {
          "base_uri": "https://localhost:8080/",
          "height": 423
        },
        "id": "yu_1i46ZkyCo",
        "outputId": "1854741e-f486-477e-ce77-86e2c975e2ff"
      },
      "execution_count": null,
      "outputs": [
        {
          "output_type": "execute_result",
          "data": {
            "text/plain": [
              "    Travel Keywords\n",
              "0            abroad\n",
              "1         adventure\n",
              "2       adventurous\n",
              "3            agency\n",
              "4           airfare\n",
              "..              ...\n",
              "310     sightseeing\n",
              "311          skiing\n",
              "312      snorkeling\n",
              "313        souvenir\n",
              "314             spa\n",
              "\n",
              "[315 rows x 1 columns]"
            ],
            "text/html": [
              "\n",
              "  <div id=\"df-e784ac0e-8b21-49f0-9c63-80d1158ae876\" class=\"colab-df-container\">\n",
              "    <div>\n",
              "<style scoped>\n",
              "    .dataframe tbody tr th:only-of-type {\n",
              "        vertical-align: middle;\n",
              "    }\n",
              "\n",
              "    .dataframe tbody tr th {\n",
              "        vertical-align: top;\n",
              "    }\n",
              "\n",
              "    .dataframe thead th {\n",
              "        text-align: right;\n",
              "    }\n",
              "</style>\n",
              "<table border=\"1\" class=\"dataframe\">\n",
              "  <thead>\n",
              "    <tr style=\"text-align: right;\">\n",
              "      <th></th>\n",
              "      <th>Travel Keywords</th>\n",
              "    </tr>\n",
              "  </thead>\n",
              "  <tbody>\n",
              "    <tr>\n",
              "      <th>0</th>\n",
              "      <td>abroad</td>\n",
              "    </tr>\n",
              "    <tr>\n",
              "      <th>1</th>\n",
              "      <td>adventure</td>\n",
              "    </tr>\n",
              "    <tr>\n",
              "      <th>2</th>\n",
              "      <td>adventurous</td>\n",
              "    </tr>\n",
              "    <tr>\n",
              "      <th>3</th>\n",
              "      <td>agency</td>\n",
              "    </tr>\n",
              "    <tr>\n",
              "      <th>4</th>\n",
              "      <td>airfare</td>\n",
              "    </tr>\n",
              "    <tr>\n",
              "      <th>...</th>\n",
              "      <td>...</td>\n",
              "    </tr>\n",
              "    <tr>\n",
              "      <th>310</th>\n",
              "      <td>sightseeing</td>\n",
              "    </tr>\n",
              "    <tr>\n",
              "      <th>311</th>\n",
              "      <td>skiing</td>\n",
              "    </tr>\n",
              "    <tr>\n",
              "      <th>312</th>\n",
              "      <td>snorkeling</td>\n",
              "    </tr>\n",
              "    <tr>\n",
              "      <th>313</th>\n",
              "      <td>souvenir</td>\n",
              "    </tr>\n",
              "    <tr>\n",
              "      <th>314</th>\n",
              "      <td>spa</td>\n",
              "    </tr>\n",
              "  </tbody>\n",
              "</table>\n",
              "<p>315 rows × 1 columns</p>\n",
              "</div>\n",
              "    <div class=\"colab-df-buttons\">\n",
              "\n",
              "  <div class=\"colab-df-container\">\n",
              "    <button class=\"colab-df-convert\" onclick=\"convertToInteractive('df-e784ac0e-8b21-49f0-9c63-80d1158ae876')\"\n",
              "            title=\"Convert this dataframe to an interactive table.\"\n",
              "            style=\"display:none;\">\n",
              "\n",
              "  <svg xmlns=\"http://www.w3.org/2000/svg\" height=\"24px\" viewBox=\"0 -960 960 960\">\n",
              "    <path d=\"M120-120v-720h720v720H120Zm60-500h600v-160H180v160Zm220 220h160v-160H400v160Zm0 220h160v-160H400v160ZM180-400h160v-160H180v160Zm440 0h160v-160H620v160ZM180-180h160v-160H180v160Zm440 0h160v-160H620v160Z\"/>\n",
              "  </svg>\n",
              "    </button>\n",
              "\n",
              "  <style>\n",
              "    .colab-df-container {\n",
              "      display:flex;\n",
              "      gap: 12px;\n",
              "    }\n",
              "\n",
              "    .colab-df-convert {\n",
              "      background-color: #E8F0FE;\n",
              "      border: none;\n",
              "      border-radius: 50%;\n",
              "      cursor: pointer;\n",
              "      display: none;\n",
              "      fill: #1967D2;\n",
              "      height: 32px;\n",
              "      padding: 0 0 0 0;\n",
              "      width: 32px;\n",
              "    }\n",
              "\n",
              "    .colab-df-convert:hover {\n",
              "      background-color: #E2EBFA;\n",
              "      box-shadow: 0px 1px 2px rgba(60, 64, 67, 0.3), 0px 1px 3px 1px rgba(60, 64, 67, 0.15);\n",
              "      fill: #174EA6;\n",
              "    }\n",
              "\n",
              "    .colab-df-buttons div {\n",
              "      margin-bottom: 4px;\n",
              "    }\n",
              "\n",
              "    [theme=dark] .colab-df-convert {\n",
              "      background-color: #3B4455;\n",
              "      fill: #D2E3FC;\n",
              "    }\n",
              "\n",
              "    [theme=dark] .colab-df-convert:hover {\n",
              "      background-color: #434B5C;\n",
              "      box-shadow: 0px 1px 3px 1px rgba(0, 0, 0, 0.15);\n",
              "      filter: drop-shadow(0px 1px 2px rgba(0, 0, 0, 0.3));\n",
              "      fill: #FFFFFF;\n",
              "    }\n",
              "  </style>\n",
              "\n",
              "    <script>\n",
              "      const buttonEl =\n",
              "        document.querySelector('#df-e784ac0e-8b21-49f0-9c63-80d1158ae876 button.colab-df-convert');\n",
              "      buttonEl.style.display =\n",
              "        google.colab.kernel.accessAllowed ? 'block' : 'none';\n",
              "\n",
              "      async function convertToInteractive(key) {\n",
              "        const element = document.querySelector('#df-e784ac0e-8b21-49f0-9c63-80d1158ae876');\n",
              "        const dataTable =\n",
              "          await google.colab.kernel.invokeFunction('convertToInteractive',\n",
              "                                                    [key], {});\n",
              "        if (!dataTable) return;\n",
              "\n",
              "        const docLinkHtml = 'Like what you see? Visit the ' +\n",
              "          '<a target=\"_blank\" href=https://colab.research.google.com/notebooks/data_table.ipynb>data table notebook</a>'\n",
              "          + ' to learn more about interactive tables.';\n",
              "        element.innerHTML = '';\n",
              "        dataTable['output_type'] = 'display_data';\n",
              "        await google.colab.output.renderOutput(dataTable, element);\n",
              "        const docLink = document.createElement('div');\n",
              "        docLink.innerHTML = docLinkHtml;\n",
              "        element.appendChild(docLink);\n",
              "      }\n",
              "    </script>\n",
              "  </div>\n",
              "\n",
              "\n",
              "<div id=\"df-78757380-7440-432a-b603-57c95ff0f959\">\n",
              "  <button class=\"colab-df-quickchart\" onclick=\"quickchart('df-78757380-7440-432a-b603-57c95ff0f959')\"\n",
              "            title=\"Suggest charts.\"\n",
              "            style=\"display:none;\">\n",
              "\n",
              "<svg xmlns=\"http://www.w3.org/2000/svg\" height=\"24px\"viewBox=\"0 0 24 24\"\n",
              "     width=\"24px\">\n",
              "    <g>\n",
              "        <path d=\"M19 3H5c-1.1 0-2 .9-2 2v14c0 1.1.9 2 2 2h14c1.1 0 2-.9 2-2V5c0-1.1-.9-2-2-2zM9 17H7v-7h2v7zm4 0h-2V7h2v10zm4 0h-2v-4h2v4z\"/>\n",
              "    </g>\n",
              "</svg>\n",
              "  </button>\n",
              "\n",
              "<style>\n",
              "  .colab-df-quickchart {\n",
              "      --bg-color: #E8F0FE;\n",
              "      --fill-color: #1967D2;\n",
              "      --hover-bg-color: #E2EBFA;\n",
              "      --hover-fill-color: #174EA6;\n",
              "      --disabled-fill-color: #AAA;\n",
              "      --disabled-bg-color: #DDD;\n",
              "  }\n",
              "\n",
              "  [theme=dark] .colab-df-quickchart {\n",
              "      --bg-color: #3B4455;\n",
              "      --fill-color: #D2E3FC;\n",
              "      --hover-bg-color: #434B5C;\n",
              "      --hover-fill-color: #FFFFFF;\n",
              "      --disabled-bg-color: #3B4455;\n",
              "      --disabled-fill-color: #666;\n",
              "  }\n",
              "\n",
              "  .colab-df-quickchart {\n",
              "    background-color: var(--bg-color);\n",
              "    border: none;\n",
              "    border-radius: 50%;\n",
              "    cursor: pointer;\n",
              "    display: none;\n",
              "    fill: var(--fill-color);\n",
              "    height: 32px;\n",
              "    padding: 0;\n",
              "    width: 32px;\n",
              "  }\n",
              "\n",
              "  .colab-df-quickchart:hover {\n",
              "    background-color: var(--hover-bg-color);\n",
              "    box-shadow: 0 1px 2px rgba(60, 64, 67, 0.3), 0 1px 3px 1px rgba(60, 64, 67, 0.15);\n",
              "    fill: var(--button-hover-fill-color);\n",
              "  }\n",
              "\n",
              "  .colab-df-quickchart-complete:disabled,\n",
              "  .colab-df-quickchart-complete:disabled:hover {\n",
              "    background-color: var(--disabled-bg-color);\n",
              "    fill: var(--disabled-fill-color);\n",
              "    box-shadow: none;\n",
              "  }\n",
              "\n",
              "  .colab-df-spinner {\n",
              "    border: 2px solid var(--fill-color);\n",
              "    border-color: transparent;\n",
              "    border-bottom-color: var(--fill-color);\n",
              "    animation:\n",
              "      spin 1s steps(1) infinite;\n",
              "  }\n",
              "\n",
              "  @keyframes spin {\n",
              "    0% {\n",
              "      border-color: transparent;\n",
              "      border-bottom-color: var(--fill-color);\n",
              "      border-left-color: var(--fill-color);\n",
              "    }\n",
              "    20% {\n",
              "      border-color: transparent;\n",
              "      border-left-color: var(--fill-color);\n",
              "      border-top-color: var(--fill-color);\n",
              "    }\n",
              "    30% {\n",
              "      border-color: transparent;\n",
              "      border-left-color: var(--fill-color);\n",
              "      border-top-color: var(--fill-color);\n",
              "      border-right-color: var(--fill-color);\n",
              "    }\n",
              "    40% {\n",
              "      border-color: transparent;\n",
              "      border-right-color: var(--fill-color);\n",
              "      border-top-color: var(--fill-color);\n",
              "    }\n",
              "    60% {\n",
              "      border-color: transparent;\n",
              "      border-right-color: var(--fill-color);\n",
              "    }\n",
              "    80% {\n",
              "      border-color: transparent;\n",
              "      border-right-color: var(--fill-color);\n",
              "      border-bottom-color: var(--fill-color);\n",
              "    }\n",
              "    90% {\n",
              "      border-color: transparent;\n",
              "      border-bottom-color: var(--fill-color);\n",
              "    }\n",
              "  }\n",
              "</style>\n",
              "\n",
              "  <script>\n",
              "    async function quickchart(key) {\n",
              "      const quickchartButtonEl =\n",
              "        document.querySelector('#' + key + ' button');\n",
              "      quickchartButtonEl.disabled = true;  // To prevent multiple clicks.\n",
              "      quickchartButtonEl.classList.add('colab-df-spinner');\n",
              "      try {\n",
              "        const charts = await google.colab.kernel.invokeFunction(\n",
              "            'suggestCharts', [key], {});\n",
              "      } catch (error) {\n",
              "        console.error('Error during call to suggestCharts:', error);\n",
              "      }\n",
              "      quickchartButtonEl.classList.remove('colab-df-spinner');\n",
              "      quickchartButtonEl.classList.add('colab-df-quickchart-complete');\n",
              "    }\n",
              "    (() => {\n",
              "      let quickchartButtonEl =\n",
              "        document.querySelector('#df-78757380-7440-432a-b603-57c95ff0f959 button');\n",
              "      quickchartButtonEl.style.display =\n",
              "        google.colab.kernel.accessAllowed ? 'block' : 'none';\n",
              "    })();\n",
              "  </script>\n",
              "</div>\n",
              "    </div>\n",
              "  </div>\n"
            ]
          },
          "metadata": {},
          "execution_count": 142
        }
      ]
    },
    {
      "cell_type": "code",
      "source": [
        "df.to_csv('298_compiled_travel_keywords.csv', index=False)"
      ],
      "metadata": {
        "id": "EdPNC10zIkxZ"
      },
      "execution_count": null,
      "outputs": []
    },
    {
      "cell_type": "markdown",
      "source": [
        "# Save as Text File"
      ],
      "metadata": {
        "id": "9Y7hA_tUwYOx"
      }
    },
    {
      "cell_type": "code",
      "source": [
        "pattern = '|'.join(df['Travel Keywords'])\n",
        "pattern"
      ],
      "metadata": {
        "colab": {
          "base_uri": "https://localhost:8080/",
          "height": 191
        },
        "id": "03m9M6wMLWXx",
        "outputId": "f4409525-307d-497d-a891-71f441b3c6df"
      },
      "execution_count": null,
      "outputs": [
        {
          "output_type": "execute_result",
          "data": {
            "text/plain": [
              "'abroad|adventure|adventurous|agency|airfare|aircraft|airline|airport|aisle|all-inclusive|amusement park|arrival|backpack|backpacker|baggage|beach|bicycle|booking|border|breathtaking|budget|bus|cabin|campground|camping|cancellation|car rental|cruise|culture|currency|departure|destination|detour|discovery|diving|driving|economy|embark|escapade|excursion|expedition|experience|exploration|explorer|festival|ferry|foreign|frontier|getaway|globetrotter|guidebook|hiking|holiday|hostel|hotel|insurance|itinerary|jet lag|journey|journal|kayak|landmark|luggage|maps|mountains|museum|navigation|nomad|ocean|outdoor|package|passport|photography|pilgrimage|reservation|resort|restroom|road trip|route|safari|sailing|scenic|sightseeing|skiing|snorkeling|souvenir|spa|sunset|sunrise|surfing|swimming|taxi|tent|ticket|tour|tourism|tourist|touristy|trail|train|transportation|travel|traveler|trip|vacation|visa|volcano|voyage|wander|wanderer|wandering|waterfall|wildlife|yacht|zip line|zoo|adventure|aerial|agency|air|airfare|airport|aisle|alight|amusement|arrival|arrive|backpack|baggage|beach|bicycle|boarding|boating|booking|border|budget|bus|cabin|camp|campground|camping|caravan|cancellation|car|cruise|culture|departure|destination|detour|diving|economy|embark|excursion|expedition|experience|exploration|explorer|fare|festival|fishing|flight|foreign|frontier|getaway|guidebook|hike|holiday|hostel|hotel|insurance|itinerary|jet|journey|journal|kayak|landmark|lodge|luggage|maps|mountains|museum|navigation|nomad|ocean|outdoor|package|passport|pilgrimage|reservation|resort|restroom|road|route|safari|sailing|scenic|sightseeing|ski|snorkeling|souvenir|spa|sunset|sunrise|surfing|swimming|taxi|tent|ticket|tour|tourism|tourist|trail|train|transportation|travel|traveler|trip|vacation|visa|volcano|voyage|wander|wanderer|wandering|waterfall|wildlife|yacht|zip line|zoo|abroad|adventure|adventurous|agency|airfare|airline|airport|aisle|all-inclusive|amusement park|arrival|backpack|backpacker|baggage|beach|bicycle|booking|border|breathtaking|budget|bus|cabin|campground|camping|cancellation|car rental|cruise|culture|currency|departure|destination|detour|discovery|diving|driving|economy|embark|escapade|excursion|expedition|experience|exploration|explorer|festival|ferry|foreign|frontier|getaway|globetrotter|guidebook|hiking|holiday|hostel|hotel|insurance|itinerary|jet lag|journey|journal|kayak|landmark|luggage|maps|mountains|museum|navigation|nomad|ocean|outdoor|package|passport|photography|pilgrimage|reservation|resort|restroom|road trip|route|safari|sailing|scenic|sightseeing|skiing|snorkeling|souvenir|spa'"
            ],
            "application/vnd.google.colaboratory.intrinsic+json": {
              "type": "string"
            }
          },
          "metadata": {},
          "execution_count": 144
        }
      ]
    },
    {
      "cell_type": "code",
      "source": [
        "# Saving the string to a file\n",
        "with open('travel_regex.txt', 'w') as file:\n",
        "    file.write(pattern)\n",
        "\n",
        "# # Reading the string from the file\n",
        "# with open('travel_regex.txt', 'r') as file:\n",
        "#     my_string = file.read()"
      ],
      "metadata": {
        "id": "RJ_zZBjZueQu"
      },
      "execution_count": null,
      "outputs": []
    },
    {
      "cell_type": "code",
      "source": [],
      "metadata": {
        "id": "7Uyrzhu9zOkb"
      },
      "execution_count": null,
      "outputs": []
    }
  ]
}