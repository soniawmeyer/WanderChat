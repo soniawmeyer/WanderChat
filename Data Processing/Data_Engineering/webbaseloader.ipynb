{
 "cells": [
  {
   "cell_type": "code",
   "execution_count": 16,
   "metadata": {},
   "outputs": [
    {
     "data": {
      "text/plain": [
       "True"
      ]
     },
     "execution_count": 16,
     "metadata": {},
     "output_type": "execute_result"
    }
   ],
   "source": [
    "from langchain_community.llms import Ollama\n",
    "from langchain_community.document_loaders import WebBaseLoader\n",
    "from langchain.chains import ConversationalRetrievalChain\n",
    "from langchain.embeddings import HuggingFaceEmbeddings\n",
    "from langchain_community.embeddings import HuggingFaceEmbeddings # import hf embedding\n",
    "from langchain_community.vectorstores import FAISS\n",
    "from langchain.text_splitter import RecursiveCharacterTextSplitter, CharacterTextSplitter\n",
    "import re\n",
    "import pandas as pd\n",
    "from datetime import date, timedelta\n",
    "import datetime\n",
    "import os\n",
    "from pinecone import Pinecone\n",
    "import time\n",
    "import dotenv\n",
    "from langchain.embeddings.openai import OpenAIEmbeddings\n",
    "import uuid\n",
    "from tqdm import tqdm\n",
    "dotenv.load_dotenv()"
   ]
  },
  {
   "cell_type": "code",
   "execution_count": 233,
   "metadata": {},
   "outputs": [],
   "source": [
    "embeddings = HuggingFaceEmbeddings(\n",
    "    model_name=\"sentence-transformers/all-MiniLM-L6-v2\")\n",
    "\n",
    "OAI_embed_model = OpenAIEmbeddings(model=\"text-embedding-ada-002\")"
   ]
  },
  {
   "cell_type": "code",
   "execution_count": 234,
   "metadata": {},
   "outputs": [
    {
     "data": {
      "text/plain": [
       "151"
      ]
     },
     "execution_count": 234,
     "metadata": {},
     "output_type": "execute_result"
    }
   ],
   "source": [
    "\n",
    "start_date = date.today()\n",
    "#start_date = datetime.datetime(2024, 7, 31)\n",
    "\n",
    "end_date = start_date + timedelta(days=150)  # For example, 30 days from today\n",
    "\n",
    "# List to hold all dates between start and end dates\n",
    "date_list = []\n",
    "\n",
    "# Generate the list of dates\n",
    "current_date = start_date\n",
    "while current_date <= end_date:\n",
    "    date_list.append(current_date)\n",
    "    current_date += timedelta(days=1)\n",
    "\n",
    "# Optionally, print the dates with year, month, and day\n",
    "# for date in date_list:\n",
    "#     print(date.year, date.month, date.day)\n",
    "\n",
    "len(date_list)\n"
   ]
  },
  {
   "cell_type": "code",
   "execution_count": 236,
   "metadata": {},
   "outputs": [
    {
     "data": {
      "text/plain": [
       "3835"
      ]
     },
     "execution_count": 236,
     "metadata": {},
     "output_type": "execute_result"
    }
   ],
   "source": [
    "loader = WebBaseLoader(\"https://sf.funcheap.com/2024/05/03/\")\n",
    "data = loader.load()\n",
    "len(data[0].page_content)"
   ]
  },
  {
   "cell_type": "code",
   "execution_count": 237,
   "metadata": {},
   "outputs": [
    {
     "data": {
      "text/plain": [
       "\"SF’s May Festivals & Fairs\\n\\n\\nSF’s New 5Acre Waterfront Park Opens\\n\\n\\nRoller Skate Rentals Return to GG Park \\n\\n\\nSF’s Japantown is Getting a Huge Makeover\\n\\n\\nFree Museum Days\\n\\n\\nThis Weekend’s Events (May 35)\\n\\n\\n\\n \\n\\n\\n\\n\\nToday\\nWeekend\\nSelect Date\\nTop Picks\\n\\n\\n\\n\\n\\n\\t\\t\\t\\t\\tEvents for May 03, 2024\\t\\t\\t\\t\\n\\n\\n< Thu. May 2\\nSat. May 4 >\\n\\n\\nMost Popular Events\\nSan Leandro’s 1st Annual “MexiPino Fiesta” (2024)“The Fillmore Eclipse” SF’s New Immersive Theater Experience (April 26May 12)North Beach First Fridays Art Crawl (SF)Japanese Tea Garden’s Free Admission Hour (Golden Gate Park)“Star Wars: The Empire Strikes Back” Film w/ Live Orchestra (May 24)Friday, May 3> See all\\n\\n\\n\\n\\n“Crazy Funny Asians” Friday Night Comedy Show (SF) Every FridaySponsored  7:00 pm  Ends at 10:30 pm\\nFREE*\\nBayview / Hunters Point, San Francisco\\n\\n\\n\\n\\n\\n\\n\\nSF’s New Star Wars Bar Hosts PopUp Comedy (May 25) Sponsored  7:00 pm  Ends at 10:30 pm\\nFREE*\\nPolk Gulch, Tenderloin, San Francisco\\n\\n\\n\\n\\n\\n\\nDon't Miss Another Bay Area Festival\\nBe first to hear about SF's newest fairs & festivals, weekend events, new and exclusive freebies, deals & promo codes.\\n\\n\\n\\n\\n\\n\\n\\n\\n\\n\\n\\nSan Francisco POC Comedy Night (Fridays & Saturdays) Every SaturdaySponsored  7:00 pm  Ends at 10:30 pm\\nFREE*\\nPolk Gulch, Tenderloin, San Francisco\\n\\n\\n\\n\\n\\n\\n\\n\\n\\n\\n\\n\\nFREE: Oakland’s HellaSecret Comedy & Cocktail Night 2024 (7p + 9p Shows) Sponsored  7:00 pm  Ends at 11:00 pm\\nFREE*\\nOakland, East Bay\\n\\n\\n\\n\\n\\n\\n\\nSF’s Winter Beer & Comedy Festival 2024 (Speakeasy Brewery) Every FridaySponsored  7:00 pm  Ends at 10:30 pm\\nFREE*\\nBayview / Hunters Point, San Francisco\\n\\n\\n\\n\\n\\n\\n\\nLaugh GPT: SF’s First AIPowered Standup Comedy Show (2024) Every SaturdaySponsored  7:00 pm  Ends at 10:30 pm\\nFREE*\\nPolk Gulch, Tenderloin, San Francisco\\n\\n\\n\\n\\n\\n\\n\\n“Star Wars: The Empire Strikes Back” Film w/ Live Orchestra (May 24) Sponsored  7:30 pm  Ends at 9:30 pm\\n$89\\nCivic Center, San Francisco\\n\\n\\n\\n\\n\\n\\n\\n“The Fillmore Eclipse” SF’s New Immersive Theater Experience (April 26May 12) Sponsored  7:30 pm  Ends at 9:30 pm\\n$50*\\n\\n\\n\\n\\n\\n\\n\\n\\n“The Stoner Comedy Jam” Friday Nights (SF) Every FridaySponsored  8:00 pm  Ends at 9:30 pm\\nFREE*\\n\\n\\n\\n\\n\\n\\n\\n\\n\\n\\n\\n\\n\\n\\n40% Off Tix to Provocative New Play “The Tutor” in SF (Apr. 5May. 12) Sponsored  8:00 pm  Ends at 10:00 pm\\n$24.70*\\nCivic Center, San Francisco\\n\\n\\n\\n\\n\\n\\n\\nHistory Museum: Free First Fridays (Redwood City) Monthly  All Day\\nFREE\\nRedwood City, Peninsula\\n\\n\\n\\n\\n\\n\\n\\nBay Area Dance Week 2024 w/ 150+ Free Events (April 26May 5) Top Pick  All Day\\nFREE\\n\\n\\n\\n\\n\\n\\n\\n\\nBair Island Walking Tour (Redwood City) Top Pick  10:00 am  Ends at 12:00 am\\nFREE\\n\\n\\n\\n\\n\\n\\n\\n\\nContemporary Jewish Museum Free Admission Day (First Fridays) MonthlyTop Pick  11:00 am  Ends at 5:00 pm\\nFREE\\nSoMa, San Francisco\\n\\n\\n\\n\\n\\n\\n\\n“PayWhatYouCan” Taco Day at SF’s Tato (Every Friday) Every FridayTop Pick  11:00 am  Ends at 5:00 pm\\nFREE*\\n\\n\\n\\n\\nLoad More\\n\\n< Thu. May 2\\nSat. May 4 >\\n\\n\\n\\n\\n\\nFree & Cheap Things to Do in San Francisco and Nearby\\n\\n\\n\\n\\n\\nCategories \\nArt & Museums\\n\\nCharity & Volunteering\\n\\nClub / DJ\\n\\nComedy\\n\\nEating & Drinking\\n\\nFairs & Festivals\\n\\nFree Stuff\\n\\nFun & Games\\n\\nGeek Event\\n\\nKids & Families\\n\\nLectures & Workshops\\n\\nLiterature\\n\\nLive Music\\n\\nMovies\\n\\nShopping & Fashion\\n\\nSports & Fitness\\n\\nTheater & Performance\\n\\n\\n Locations \\nEast Bay\\n\\nNorth Bay\\n\\nPeninsula\\n\\nSan Francisco\\n\\nSouth Bay\\n\\n\\n \\n  \\n\\n \\n\\n\\n\\n\""
      ]
     },
     "execution_count": 237,
     "metadata": {},
     "output_type": "execute_result"
    }
   ],
   "source": [
    "data[0].page_content\\\n",
    "    .replace('-','')\\\n",
    "    .replace(' – ','')\\\n",
    "    .replace('-','')\\\n",
    "    .replace('Log in','')\\\n",
    "    .replace('Do Not Sell My Personal Information','')\\\n",
    "    .replace('Subscribe','')\\\n",
    "    .replace('Follow Us','')\\\n",
    "    .split('Search for:')[-1]\\\n",
    "    .strip().split('Proudly powered by WordPress')[0]"
   ]
  },
  {
   "cell_type": "markdown",
   "metadata": {},
   "source": [
    "## pull from single date"
   ]
  },
  {
   "cell_type": "code",
   "execution_count": 37,
   "metadata": {},
   "outputs": [],
   "source": [
    "r_splitter = RecursiveCharacterTextSplitter(\n",
    "    chunk_size=650,\n",
    "    chunk_overlap=35, \n",
    "    length_function = len,\n",
    "    separators=[\"\\n\\n\",\"\\n\\t\\t\\n\\n*\",\"\\n\",\" \"]\n",
    ")"
   ]
  },
  {
   "cell_type": "code",
   "execution_count": 172,
   "metadata": {},
   "outputs": [
    {
     "name": "stdout",
     "output_type": "stream",
     "text": [
      "finished scraping 2024-05-01: 20\n",
      "finished scraping 2024-05-02: 39\n",
      "finished scraping 2024-05-03: 72\n",
      "finished scraping 2024-05-04: 106\n",
      "finished scraping 2024-05-05: 140\n",
      "finished scraping 2024-05-06: 150\n",
      "finished scraping 2024-05-07: 166\n",
      "finished scraping 2024-05-08: 182\n",
      "finished scraping 2024-05-09: 197\n",
      "finished scraping 2024-05-10: 219\n",
      "finished scraping 2024-05-11: 247\n",
      "finished scraping 2024-05-12: 272\n",
      "finished scraping 2024-05-13: 281\n",
      "finished scraping 2024-05-14: 293\n",
      "finished scraping 2024-05-15: 308\n",
      "finished scraping 2024-05-16: 321\n",
      "finished scraping 2024-05-17: 342\n",
      "finished scraping 2024-05-18: 370\n",
      "finished scraping 2024-05-19: 390\n",
      "finished scraping 2024-05-20: 399\n",
      "finished scraping 2024-05-21: 409\n",
      "finished scraping 2024-05-22: 427\n",
      "finished scraping 2024-05-23: 441\n",
      "finished scraping 2024-05-24: 458\n",
      "finished scraping 2024-05-25: 482\n",
      "finished scraping 2024-05-26: 500\n",
      "finished scraping 2024-05-27: 509\n",
      "finished scraping 2024-05-28: 519\n",
      "finished scraping 2024-05-29: 532\n",
      "finished scraping 2024-05-30: 542\n",
      "finished scraping 2024-05-31: 557\n",
      "finished scraping 2024-06-01: 580\n",
      "finished scraping 2024-06-02: 598\n",
      "finished scraping 2024-06-03: 606\n",
      "finished scraping 2024-06-04: 621\n",
      "finished scraping 2024-06-05: 636\n",
      "finished scraping 2024-06-06: 648\n",
      "finished scraping 2024-06-07: 671\n",
      "finished scraping 2024-06-08: 692\n",
      "finished scraping 2024-06-09: 706\n",
      "finished scraping 2024-06-10: 714\n",
      "finished scraping 2024-06-11: 724\n",
      "finished scraping 2024-06-12: 735\n",
      "finished scraping 2024-06-13: 746\n",
      "finished scraping 2024-06-14: 760\n",
      "finished scraping 2024-06-15: 777\n",
      "finished scraping 2024-06-16: 790\n",
      "finished scraping 2024-06-17: 798\n",
      "finished scraping 2024-06-18: 808\n",
      "finished scraping 2024-06-19: 818\n",
      "finished scraping 2024-06-20: 829\n",
      "finished scraping 2024-06-21: 840\n",
      "finished scraping 2024-06-22: 854\n",
      "finished scraping 2024-06-23: 866\n",
      "finished scraping 2024-06-24: 873\n",
      "finished scraping 2024-06-25: 881\n",
      "finished scraping 2024-06-26: 890\n",
      "finished scraping 2024-06-27: 900\n",
      "finished scraping 2024-06-28: 912\n",
      "finished scraping 2024-06-29: 924\n",
      "finished scraping 2024-06-30: 934\n",
      "finished scraping 2024-07-01: 941\n",
      "finished scraping 2024-07-02: 952\n",
      "finished scraping 2024-07-03: 961\n",
      "finished scraping 2024-07-04: 970\n",
      "finished scraping 2024-07-05: 983\n",
      "finished scraping 2024-07-06: 991\n",
      "finished scraping 2024-07-07: 1004\n",
      "finished scraping 2024-07-08: 1011\n",
      "finished scraping 2024-07-09: 1019\n",
      "finished scraping 2024-07-10: 1026\n",
      "finished scraping 2024-07-11: 1033\n",
      "finished scraping 2024-07-12: 1044\n",
      "finished scraping 2024-07-13: 1052\n",
      "finished scraping 2024-07-14: 1061\n",
      "finished scraping 2024-07-15: 1068\n",
      "finished scraping 2024-07-16: 1075\n",
      "finished scraping 2024-07-17: 1082\n",
      "finished scraping 2024-07-18: 1090\n",
      "finished scraping 2024-07-19: 1098\n",
      "finished scraping 2024-07-20: 1105\n",
      "finished scraping 2024-07-21: 1114\n",
      "finished scraping 2024-07-22: 1121\n",
      "finished scraping 2024-07-23: 1128\n",
      "finished scraping 2024-07-24: 1136\n",
      "finished scraping 2024-07-25: 1143\n",
      "finished scraping 2024-07-26: 1152\n",
      "finished scraping 2024-07-27: 1162\n",
      "finished scraping 2024-07-28: 1172\n",
      "finished scraping 2024-07-29: 1180\n",
      "finished scraping 2024-07-30: 1187\n",
      "finished scraping 2024-07-31: 1194\n",
      "finished scraping 2024-08-01: 1203\n",
      "finished scraping 2024-08-02: 1213\n",
      "finished scraping 2024-08-03: 1222\n",
      "finished scraping 2024-08-04: 1234\n",
      "finished scraping 2024-08-05: 1241\n",
      "finished scraping 2024-08-06: 1252\n",
      "finished scraping 2024-08-07: 1260\n",
      "finished scraping 2024-08-08: 1267\n",
      "finished scraping 2024-08-09: 1275\n",
      "finished scraping 2024-08-10: 1283\n",
      "finished scraping 2024-08-11: 1292\n",
      "finished scraping 2024-08-12: 1300\n",
      "finished scraping 2024-08-13: 1308\n",
      "finished scraping 2024-08-14: 1315\n",
      "finished scraping 2024-08-15: 1322\n",
      "finished scraping 2024-08-16: 1330\n",
      "finished scraping 2024-08-17: 1340\n",
      "finished scraping 2024-08-18: 1348\n",
      "finished scraping 2024-08-19: 1356\n",
      "finished scraping 2024-08-20: 1363\n",
      "finished scraping 2024-08-21: 1370\n",
      "finished scraping 2024-08-22: 1377\n",
      "finished scraping 2024-08-23: 1385\n",
      "finished scraping 2024-08-24: 1393\n",
      "finished scraping 2024-08-25: 1404\n",
      "finished scraping 2024-08-26: 1411\n",
      "finished scraping 2024-08-27: 1418\n",
      "finished scraping 2024-08-28: 1425\n",
      "finished scraping 2024-08-29: 1432\n",
      "finished scraping 2024-08-30: 1440\n",
      "finished scraping 2024-08-31: 1447\n",
      "finished scraping 2024-09-01: 1457\n",
      "finished scraping 2024-09-02: 1465\n",
      "finished scraping 2024-09-03: 1476\n",
      "finished scraping 2024-09-04: 1485\n",
      "finished scraping 2024-09-05: 1494\n",
      "finished scraping 2024-09-06: 1504\n",
      "finished scraping 2024-09-07: 1511\n",
      "finished scraping 2024-09-08: 1519\n",
      "finished scraping 2024-09-09: 1526\n",
      "finished scraping 2024-09-10: 1534\n",
      "finished scraping 2024-09-11: 1541\n",
      "finished scraping 2024-09-12: 1548\n",
      "finished scraping 2024-09-13: 1557\n",
      "finished scraping 2024-09-14: 1565\n",
      "finished scraping 2024-09-15: 1574\n",
      "finished scraping 2024-09-16: 1581\n",
      "finished scraping 2024-09-17: 1589\n",
      "finished scraping 2024-09-18: 1596\n",
      "finished scraping 2024-09-19: 1603\n",
      "finished scraping 2024-09-20: 1611\n",
      "finished scraping 2024-09-21: 1618\n",
      "finished scraping 2024-09-22: 1627\n",
      "finished scraping 2024-09-23: 1634\n",
      "finished scraping 2024-09-24: 1641\n",
      "finished scraping 2024-09-25: 1648\n",
      "finished scraping 2024-09-26: 1655\n",
      "finished scraping 2024-09-27: 1663\n",
      "finished scraping 2024-09-28: 1672\n"
     ]
    }
   ],
   "source": [
    "event_dates = {'date':[],'link':[],'content':[]}\n",
    "\n",
    "all_splits = []\n",
    "events_docs = None\n",
    "for date in date_list:\n",
    "    event_dates['date'].append(date)\n",
    "    link = f\"https://sf.funcheap.com/{date.year}/{date.month}/{date.day}/\"\n",
    "    event_dates['link'].append(link)\n",
    "    loader = WebBaseLoader(link)\n",
    "    data = loader.load()\n",
    "    \n",
    "    # day_before = date - datetime.timedelta(days=1)\n",
    "    # day_after = date + datetime.timedelta(days=1)\n",
    "    # formatted_day_before = day_before.strftime(\"%A, %B %-d\")  # Saturday, May 4\n",
    "    # formatted_day_after = day_after.strftime(\"%A, %B %-d\")    # Monday, May 6\n",
    "    # formatted_given_date = date.strftime(\"%A, %B %-d\")  # Sunday, May 5\n",
    "    # formatted_date_tag = f\"< {formatted_day_before}\\n{formatted_day_after} >\\n\\n{formatted_given_date}\"\n",
    "\n",
    "    #events_text = data[0].page_content.split(formatted_date_tag)[-1].split(formatted_day_after)[0]\n",
    "    \n",
    "    events_text = data[0].page_content\\\n",
    "    .replace('-','')\\\n",
    "    .replace(' – ','')\\\n",
    "    .replace('-','')\\\n",
    "    .replace('Log in','')\\\n",
    "    .replace('Do Not Sell My Personal Information','')\\\n",
    "    .replace('Subscribe','')\\\n",
    "    .replace('Follow Us','')\\\n",
    "    .split('Search for:')[-1]\\\n",
    "    .strip().split('Proudly powered by WordPress')[0]\n",
    "    \n",
    "    splits = r_splitter.split_text(events_text)\n",
    "    event_dates['content'].append(splits)\n",
    "    all_splits.append(splits)\n",
    "    docs = r_splitter.create_documents(splits)\n",
    "    if events_docs is None:\n",
    "        events_docs = docs\n",
    "    else:\n",
    "        events_docs += docs\n",
    "    print(f'finished scraping {date}: {len(events_docs)}')\n"
   ]
  },
  {
   "cell_type": "code",
   "execution_count": 213,
   "metadata": {},
   "outputs": [
    {
     "data": {
      "text/html": [
       "<div>\n",
       "<style scoped>\n",
       "    .dataframe tbody tr th:only-of-type {\n",
       "        vertical-align: middle;\n",
       "    }\n",
       "\n",
       "    .dataframe tbody tr th {\n",
       "        vertical-align: top;\n",
       "    }\n",
       "\n",
       "    .dataframe thead th {\n",
       "        text-align: right;\n",
       "    }\n",
       "</style>\n",
       "<table border=\"1\" class=\"dataframe\">\n",
       "  <thead>\n",
       "    <tr style=\"text-align: right;\">\n",
       "      <th></th>\n",
       "      <th>date</th>\n",
       "      <th>link</th>\n",
       "      <th>content</th>\n",
       "      <th>id</th>\n",
       "    </tr>\n",
       "  </thead>\n",
       "  <tbody>\n",
       "    <tr>\n",
       "      <th>0</th>\n",
       "      <td>2024-05-01</td>\n",
       "      <td>https://sf.funcheap.com/2024/5/1/</td>\n",
       "      <td>Events for May 01, 2024  Funcheap\\n \\n\\n\\n\\n\\n...</td>\n",
       "      <td>59809655-7a4e-4ce2-ae12-a42cdc063b93</td>\n",
       "    </tr>\n",
       "    <tr>\n",
       "      <th>0</th>\n",
       "      <td>2024-05-01</td>\n",
       "      <td>https://sf.funcheap.com/2024/5/1/</td>\n",
       "      <td>Join the Funcheap email list\\r\\n\\tJoin the 140...</td>\n",
       "      <td>0a5cbe3e-cc96-4ca0-ac49-4ba262ef1461</td>\n",
       "    </tr>\n",
       "    <tr>\n",
       "      <th>0</th>\n",
       "      <td>2024-05-01</td>\n",
       "      <td>https://sf.funcheap.com/2024/5/1/</td>\n",
       "      <td>Most Popular Events\\nJapanese Tea Garden’s Fre...</td>\n",
       "      <td>690bc4ee-157a-4841-885a-2534cbb70ac3</td>\n",
       "    </tr>\n",
       "    <tr>\n",
       "      <th>0</th>\n",
       "      <td>2024-05-01</td>\n",
       "      <td>https://sf.funcheap.com/2024/5/1/</td>\n",
       "      <td>| Museum of Craft and Design \\nThere’s no bett...</td>\n",
       "      <td>1bb7f628-af2c-4cd2-8546-00f5bbdc7344</td>\n",
       "    </tr>\n",
       "    <tr>\n",
       "      <th>0</th>\n",
       "      <td>2024-05-01</td>\n",
       "      <td>https://sf.funcheap.com/2024/5/1/</td>\n",
       "      <td>| KitTea Cat Lounge \\nSan Francisco’s only Cat...</td>\n",
       "      <td>0e8dd8a4-854b-4173-9109-48041763bfff</td>\n",
       "    </tr>\n",
       "    <tr>\n",
       "      <th>...</th>\n",
       "      <td>...</td>\n",
       "      <td>...</td>\n",
       "      <td>...</td>\n",
       "      <td>...</td>\n",
       "    </tr>\n",
       "    <tr>\n",
       "      <th>150</th>\n",
       "      <td>2024-09-28</td>\n",
       "      <td>https://sf.funcheap.com/2024/9/28/</td>\n",
       "      <td>Most Popular Upcoming Events\\n\\n\\n\\n\\n\\n      ...</td>\n",
       "      <td>96711c7f-1787-48fd-89f2-181198a22089</td>\n",
       "    </tr>\n",
       "    <tr>\n",
       "      <th>150</th>\n",
       "      <td>2024-09-28</td>\n",
       "      <td>https://sf.funcheap.com/2024/9/28/</td>\n",
       "      <td>2024 Taiwanese American Cultural Festival (Uni...</td>\n",
       "      <td>5b14dded-23fb-4bf4-bfc0-31943bd09a90</td>\n",
       "    </tr>\n",
       "    <tr>\n",
       "      <th>150</th>\n",
       "      <td>2024-09-28</td>\n",
       "      <td>https://sf.funcheap.com/2024/9/28/</td>\n",
       "      <td>Most Popular City Guides\\n\\n\\n\\n\\n\\n          ...</td>\n",
       "      <td>59358757-c1e9-48a7-8a9b-f521cca485fb</td>\n",
       "    </tr>\n",
       "    <tr>\n",
       "      <th>150</th>\n",
       "      <td>2024-09-28</td>\n",
       "      <td>https://sf.funcheap.com/2024/9/28/</td>\n",
       "      <td>SF’s “Chinatown Night Market” Returns for 2024...</td>\n",
       "      <td>efe61bdf-7d05-43a8-b32b-8ca2a460a256</td>\n",
       "    </tr>\n",
       "    <tr>\n",
       "      <th>150</th>\n",
       "      <td>2024-09-28</td>\n",
       "      <td>https://sf.funcheap.com/2024/9/28/</td>\n",
       "      <td>Literature\\n\\nLive Music\\n\\nMovies\\n\\nShopping...</td>\n",
       "      <td>50fe3c3a-10b8-4b9a-b479-1c585ffbf671</td>\n",
       "    </tr>\n",
       "  </tbody>\n",
       "</table>\n",
       "<p>1672 rows × 4 columns</p>\n",
       "</div>"
      ],
      "text/plain": [
       "           date                                link  \\\n",
       "0    2024-05-01   https://sf.funcheap.com/2024/5/1/   \n",
       "0    2024-05-01   https://sf.funcheap.com/2024/5/1/   \n",
       "0    2024-05-01   https://sf.funcheap.com/2024/5/1/   \n",
       "0    2024-05-01   https://sf.funcheap.com/2024/5/1/   \n",
       "0    2024-05-01   https://sf.funcheap.com/2024/5/1/   \n",
       "..          ...                                 ...   \n",
       "150  2024-09-28  https://sf.funcheap.com/2024/9/28/   \n",
       "150  2024-09-28  https://sf.funcheap.com/2024/9/28/   \n",
       "150  2024-09-28  https://sf.funcheap.com/2024/9/28/   \n",
       "150  2024-09-28  https://sf.funcheap.com/2024/9/28/   \n",
       "150  2024-09-28  https://sf.funcheap.com/2024/9/28/   \n",
       "\n",
       "                                               content  \\\n",
       "0    Events for May 01, 2024  Funcheap\\n \\n\\n\\n\\n\\n...   \n",
       "0    Join the Funcheap email list\\r\\n\\tJoin the 140...   \n",
       "0    Most Popular Events\\nJapanese Tea Garden’s Fre...   \n",
       "0    | Museum of Craft and Design \\nThere’s no bett...   \n",
       "0    | KitTea Cat Lounge \\nSan Francisco’s only Cat...   \n",
       "..                                                 ...   \n",
       "150  Most Popular Upcoming Events\\n\\n\\n\\n\\n\\n      ...   \n",
       "150  2024 Taiwanese American Cultural Festival (Uni...   \n",
       "150  Most Popular City Guides\\n\\n\\n\\n\\n\\n          ...   \n",
       "150  SF’s “Chinatown Night Market” Returns for 2024...   \n",
       "150  Literature\\n\\nLive Music\\n\\nMovies\\n\\nShopping...   \n",
       "\n",
       "                                       id  \n",
       "0    59809655-7a4e-4ce2-ae12-a42cdc063b93  \n",
       "0    0a5cbe3e-cc96-4ca0-ac49-4ba262ef1461  \n",
       "0    690bc4ee-157a-4841-885a-2534cbb70ac3  \n",
       "0    1bb7f628-af2c-4cd2-8546-00f5bbdc7344  \n",
       "0    0e8dd8a4-854b-4173-9109-48041763bfff  \n",
       "..                                    ...  \n",
       "150  96711c7f-1787-48fd-89f2-181198a22089  \n",
       "150  5b14dded-23fb-4bf4-bfc0-31943bd09a90  \n",
       "150  59358757-c1e9-48a7-8a9b-f521cca485fb  \n",
       "150  efe61bdf-7d05-43a8-b32b-8ca2a460a256  \n",
       "150  50fe3c3a-10b8-4b9a-b479-1c585ffbf671  \n",
       "\n",
       "[1672 rows x 4 columns]"
      ]
     },
     "execution_count": 213,
     "metadata": {},
     "output_type": "execute_result"
    }
   ],
   "source": [
    "event_dates_df = pd.DataFrame(event_dates)\n",
    "event_dates_df = event_dates_df.explode('content')\n",
    "event_dates_df['id'] = [str(uuid.uuid4()) for i in range(event_dates_df.shape[0])]\n",
    "event_dates_df"
   ]
  },
  {
   "cell_type": "code",
   "execution_count": 214,
   "metadata": {},
   "outputs": [
    {
     "data": {
      "text/plain": [
       "1672"
      ]
     },
     "execution_count": 214,
     "metadata": {},
     "output_type": "execute_result"
    }
   ],
   "source": [
    "event_dates_df['id'].nunique()"
   ]
  },
  {
   "cell_type": "code",
   "execution_count": 178,
   "metadata": {},
   "outputs": [],
   "source": [
    "import itertools\n",
    "combined_splits = list(itertools.chain.from_iterable(all_splits))"
   ]
  },
  {
   "cell_type": "code",
   "execution_count": 179,
   "metadata": {},
   "outputs": [
    {
     "data": {
      "text/plain": [
       "(151, 1672)"
      ]
     },
     "execution_count": 179,
     "metadata": {},
     "output_type": "execute_result"
    }
   ],
   "source": [
    "len(all_splits),len(combined_splits)"
   ]
  },
  {
   "cell_type": "markdown",
   "metadata": {},
   "source": [
    "# FAISS"
   ]
  },
  {
   "cell_type": "code",
   "execution_count": 129,
   "metadata": {},
   "outputs": [],
   "source": [
    "db = FAISS.from_documents(events_docs, embeddings)\n",
    "db.save_local(f\"funcheap_{str(date_list[0])}_{str(date_list[0-1])}_db\")"
   ]
  },
  {
   "cell_type": "code",
   "execution_count": 226,
   "metadata": {},
   "outputs": [],
   "source": [
    "def load_embeddings():\n",
    "    return HuggingFaceEmbeddings(model_name='sentence-transformers/all-MiniLM-L6-v2', model_kwargs={'device': 'cpu'})\n",
    "\n",
    "def load_RAG_db():\n",
    "    vectordb = FAISS.load_local(\"../vector_db/funcheap_2024-04-26_2024-06-25_db\",\n",
    "                      load_embeddings())\n",
    "    return vectordb\n",
    "\n",
    "llm = Ollama(model='mistral')\n",
    "db = load_RAG_db()\n",
    "\n",
    "chain = ConversationalRetrievalChain.from_llm(llm=llm, retriever=db.as_retriever(),return_source_documents=True,\n",
    "                                              rephrase_question=True)"
   ]
  },
  {
   "cell_type": "code",
   "execution_count": 228,
   "metadata": {},
   "outputs": [],
   "source": [
    "# query=\"\"\"visiting the bay area in may with my family. we prefer sightseeing and would like to see the golden gate bridge. are there any events happening that are good for\n",
    "# children? My toddler is developing an interest for dinosaurs, perhaps a recommendation for museums?\"\"\"\n",
    "result = chain({\"question\": query,\"chat_history\": []})"
   ]
  },
  {
   "cell_type": "code",
   "execution_count": 229,
   "metadata": {},
   "outputs": [
    {
     "data": {
      "text/plain": [
       "{'question': 'when is the 2024 Taiwanese American Cultural Festival',\n",
       " 'chat_history': [],\n",
       " 'answer': ' The text provided does not mention a \"Taiwanese American Cultural Festival\" taking place on May 10, 2024. The text mentions various other events occurring on that date, but none of them are described as being specifically Taiwanese American in nature.',\n",
       " 'source_documents': [Document(page_content='| Cityview Event Hall (Treasure Island) \\nMark your calendars for May 10, 2024 as we come together to celebrate the 2024 Asian American and Pacific Islander Mental Health Day!\\nJoin us for engaging activities such as Drumming Circle, Siva4Wellness, Hula, Southeast Asian Dance, CommuniTEA, and more! Come discover RAMS’ 50 years of ...\\n\\nSF’s Friday Night Market “Bhangra & Beats” (2024)\\nFriday, May 10 – 5:00 pm  - Ends at 10:00 pm |'),\n",
       "  Document(page_content='Cost: FREE* \\n\\t\\t\\n\\n*Free for all ages\\n\\n | Japanese Cultural and Community Center of Northern California \\nGet the kids together and come out to our annual Children’s Day Festival on Saturday, May 4, 2024 from 11:00am-4:00pm at the Japanese Cultural and Community Center of Northern California in San Francisco’s Japantown neighborhood!\\nBring out the kids and friends to enjoy our annual festival ...\\n\\nSilicon Valley Open Studios 2024 (May 4-19)\\nSaturday, May 4 – 11:00 am  - Ends at 5:00 pm |'),\n",
       "  Document(page_content='Events for May 18, 2024 - Funcheap\\n \\n\\n\\n\\n\\n\\n\\n\\n\\n\\n\\n\\n\\n\\n\\n\\n\\n\\n\\n\\n\\n\\n\\n\\n\\n\\n\\n\\n\\n\\n\\n\\n\\n\\n\\n\\n\\n\\n\\n\\n\\n\\n\\n\\n\\n\\n\\n\\n\\n\\n\\n\\n\\n\\n\\n\\n\\n\\n\\n\\n\\n\\n\\n\\n\\n\\n\\n\\n\\n\\n\\n\\nMenu\\nAll Events\\n\\nTop Picks of the Week\\nSan Francisco Calendar\\nEast Bay Calendar\\nBay Area Calendar\\n– North Bay Events\\n– South Bay Events\\n– Peninsula Events\\n\\n\\nFree\\nToday\\nWeekend\\nWin Tix\\nNewsletter\\nFree Museum Days\\nAdd Event\\n\\nAdvertise\\n\\n\\n \\n\\n\\n\\n\\n  \\n\\nTop Categories\\n\\n*Top Pick*\\nComedy\\nArt & Museums\\nLive Music\\nEating & Drinking\\nKids & Families\\n.\\n\\n\\nFeatured City Guides\\n\\nSan Francisco’s Summer Festivals & Street Fairs (2023)\\nFree Monthly Museum Days\\nGolden Gate Park 100+ Free Concerts in 2023\\n\\n\\nLearn More\\n\\nAbout Funcheap\\nAdvertise\\nContact Us'),\n",
       "  Document(page_content='Events for May 20, 2024 - Funcheap\\n \\n\\n\\n\\n\\n\\n\\n\\n\\n\\n\\n\\n\\n\\n\\n\\n\\n\\n\\n\\n\\n\\n\\n\\n\\n\\n\\n\\n\\n\\n\\n\\n\\n\\n\\n\\n\\n\\n\\n\\n\\n\\n\\n\\n\\n\\n\\n\\n\\n\\n\\n\\n\\n\\n\\n\\n\\n\\n\\n\\n\\n\\n\\n\\n\\n\\n\\n\\n\\n\\n\\n\\nMenu\\nAll Events\\n\\nTop Picks of the Week\\nSan Francisco Calendar\\nEast Bay Calendar\\nBay Area Calendar\\n– North Bay Events\\n– South Bay Events\\n– Peninsula Events\\n\\n\\nFree\\nToday\\nWeekend\\nWin Tix\\nNewsletter\\nFree Museum Days\\nAdd Event\\n\\nAdvertise\\n\\n\\n \\n\\n\\n\\n\\n  \\n\\nTop Categories\\n\\n*Top Pick*\\nComedy\\nArt & Museums\\nLive Music\\nEating & Drinking\\nKids & Families\\n.\\n\\n\\nFeatured City Guides\\n\\nSan Francisco’s Summer Festivals & Street Fairs (2023)\\nFree Monthly Museum Days\\nGolden Gate Park 100+ Free Concerts in 2023\\n\\n\\nLearn More\\n\\nAbout Funcheap\\nAdvertise\\nContact Us')]}"
      ]
     },
     "execution_count": 229,
     "metadata": {},
     "output_type": "execute_result"
    }
   ],
   "source": [
    "result"
   ]
  },
  {
   "cell_type": "code",
   "execution_count": 44,
   "metadata": {},
   "outputs": [
    {
     "name": "stdout",
     "output_type": "stream",
     "text": [
      "From April 30th to May 15th, as a solo traveler who values quiet introspection and serene landscapes, can you suggest hidden coastal retreats or secluded hiking trails in the Bay Area where I can reconnect with nature and find inner peace?\n",
      " Based on the context provided, there isn't any specific mention of hidden coastal retreats or secluded hiking trails from April 30th to May 15th in the Bay Area. However, I can suggest some beautiful and serene places that you might find interesting for your solo travel:\n",
      "\n",
      "1. Point Reyes National Seashore - Located north of San Francisco, this park offers stunning coastal views, peaceful beaches, and various hiking trails with breathtaking scenery. It's an excellent place to reconnect with nature and find inner peace.\n",
      "2. Muir Woods National Monument - Another beautiful natural retreat located just north of San Francisco. Muir Woods is a redwood forest with lush greenery, peaceful streams, and quiet trails that are perfect for introspection and relaxation.\n",
      "3. Samuel P. Taylor State Park - Located in Marin County, this park offers various hiking trails through the woods and hills, as well as peaceful picnic areas and a lake for reflection. It's an excellent choice for solo travelers looking to get away from the city and reconnect with nature.\n",
      "4. Fitzgerald Marine Reserve - This marine reserve is located in Moss Landing and offers beautiful beaches, tide pools, and opportunities for kayaking or paddleboarding. It's a great place to unwind and enjoy the peaceful sounds of the ocean.\n",
      "5. Alamere Falls Trail at Point Reyes National Seashore - This hiking trail leads you to a breathtaking waterfall that flows directly onto the beach. The trail is relatively quiet, making it an excellent choice for solo travelers seeking peace and tranquility.\n",
      "6. Samuel Hammond State Park - This park offers various hiking trails through the woods and along the coast, as well as beautiful views of the ocean. It's a peaceful retreat from the hustle and bustle of the city and an excellent choice for those looking to find inner peace and reconnect with nature.\n",
      "\n",
      "I hope this information helps you plan your solo travel itinerary in the Bay Area during April 30th to May 15th!\n",
      "***************\n",
      "Between May 8th and June 10th, being a passionate epicurean with a weakness for artisanal delights and off-the-beaten-path culinary experiences, I'd love your recommendations for quaint family-owned eateries, tucked-away cafes, or vibrant food festivals where I can indulge in the authentic flavors of the Bay Area.\n",
      " Based on the information provided in the context, I would recommend checking out the following events and places for your culinary adventure in the Bay Area between May 8th and June 10th:\n",
      "\n",
      "1. Alameda Point Antique Faire (May 12, 2024): While not strictly a food festival, this event is known for its array of artisanal food vendors selling unique and delicious treats.\n",
      "\n",
      "2. La Boricua Latin Food Festival (May 19, 2024): This vibrant festival showcases the rich flavors of Puerto Rican and other Latin American cuisines.\n",
      "\n",
      "3. Ferry Plaza Farmers Market (Ongoing): Located in San Francisco's Ferry Building Marketplace, this farmers market offers a wide variety of fresh produce, artisanal cheeses, baked goods, and prepared foods from local vendors.\n",
      "\n",
      "4. The Butcher Shop & Creamery (Berkeley): This family-owned business is known for its artisanal meats and delicious ice cream. Be sure to try their unique flavor combinations.\n",
      "\n",
      "5. El Farolito (San Jose): A beloved local institution, this taqueria offers delicious Mexican cuisine in a cozy, family-friendly atmosphere. Don't miss out on their famous burritos.\n",
      "\n",
      "6. Angeline's Louisiana Kitchen (Alameda): This hidden gem serves up authentic Cajun and Creole dishes in a charming, casual setting. Be sure to try their gumbo or jambalaya.\n",
      "\n",
      "7. Bi-Rite Creamery (San Francisco): This popular ice cream shop offers unique flavors made with local, seasonal ingredients. Don't miss out on their signature Salted Caramel or Brown Butter.\n",
      "\n",
      "8. Tartine Bakery (San Francisco): A San Francisco institution, Tartine offers delicious pastries, sandwiches, and savory dishes using the freshest, locally-sourced ingredients.\n",
      "\n",
      "9. The Cook and Her Farms (San Jose): This farm-to-table restaurant offers a seasonal menu featuring fresh produce from their own farm and other local sources. Be sure to make reservations in advance.\n",
      "\n",
      "I hope this helps you discover some hidden culinary gems during your visit to the Bay Area!\n",
      "***************\n",
      "During the week of May 20th to May 27th, immersing myself in local culture and heritage is paramount to me. Could you share insider tips on lesser-known cultural festivals, neighborhood walking tours led by community storytellers, or underground art collectives that offer a glimpse into the soul of San Francisco?\n",
      " During the week of May 20th to May 27th, there are several lesser-known cultural events and activities in San Francisco that offer an authentic glimpse into the local culture and heritage. Here are some insider tips:\n",
      "\n",
      "1. Chinatown-North Beach Cultural Walking Tour: This self-guided tour takes you through the historic neighborhoods of Chinatown and North Beach, showcasing the unique history and cultural traditions of each area. You'll get to explore the beautiful murals, street art, and learn about the stories behind the various landmarks.\n",
      "\n",
      "2. Mission District Mural Tours: The Mission District is known for its vibrant murals that reflect the diversity and creativity of the community. Join a guided mural tour led by local artists and community members to gain a deeper understanding of the history and meaning behind these works of art.\n",
      "\n",
      "3. SOMArts Cultural Center: This art center is dedicated to showcasing contemporary arts and culture from underrepresented communities in the Bay Area. Check out their calendar for upcoming exhibitions, workshops, and events that offer a unique perspective on local culture.\n",
      "\n",
      "4. The Wave House Collective: This underground art collective is located in the Outer Sunset neighborhood and is dedicated to promoting community-driven arts and culture through music, visual arts, and performance. Check their website or social media for information on upcoming shows and events.\n",
      "\n",
      "5. Asian Art Museum Community Days: While not specifically during your requested week, this event is worth mentioning as it offers free admission to the museum and features special cultural performances, workshops, and activities that celebrate the diversity of Asian art and culture. Keep an eye out for their schedule and plan your visit accordingly.\n",
      "\n",
      "6. La Raza Galeria Posada: This community-run gallery in the Mission District showcases the work of Latino artists and offers workshops, classes, and events that promote cultural awareness and social justice. Check their website or social media for upcoming exhibitions and events.\n",
      "***************\n",
      "From June 5th to June 18th, as an adrenaline junkie constantly seeking the next thrill, I'm eager to discover adrenaline-pumping activities unique to the Bay Area. From adrenaline-fueled kayaking expeditions under the Golden Gate Bridge to daredevil cliff diving spots along the coast, what are some lesser-known adventures that will get my heart racing?\n",
      " Based on the context provided, here are some lesser-known adrenaline-pumping activities unique to the Bay Area that you might enjoy from June 5th to June 18th:\n",
      "\n",
      "1. Whitewater Rafting in American River: If you're looking for an adrenaline rush, whitewater rafting on the American River is a must-try adventure. With rapids ranging from Class III to Class V, this thrilling experience will get your heart racing.\n",
      "2. Hang Gliding at Mount Tamalpais: For those seeking a bird's eye view of the Bay Area, hang gliding at Mount Tamalpais is an unforgettable experience. With soaring heights and exhilarating speeds, this activity is sure to get your adrenaline pumping.\n",
      "3. Rock Climbing in Castle Rock State Park: Located just outside of San Jose, Castle Rock State Park offers some of the best rock climbing in the Bay Area. With over 60 routes available, you'll find challenges that suit every skill level and get your heart racing.\n",
      "4. Sea Kayaking at Point Reyes National Seashore: Explore the beautiful coastline of Point Reyes National Seashore by kayak. Keep an eye out for seals, sea lions, and even whales as you paddle through the waters. This adventure is both breathtakingly beautiful and adrenaline-pumping.\n",
      "5. Wingsuit Flying at Pinnacles National Park: For the ultimate adrenaline rush, try wingsuit flying at Pinnacles National Park. Soar through the air like a bird, taking in stunning views of the park's unique rock formations and feeling the wind rushing past you. Note that this activity requires specialized training and equipment.\n",
      "\n",
      "Please keep in mind that all activities come with risks, so make sure to take proper safety precautions and follow local guidelines. Have a safe and thrilling adventure!\n",
      "***************\n",
      "Between April 28th and June 25th, with a profound appreciation for the arts and a desire to uncover hidden artistic gems, I'm on the lookout for intimate gallery openings, eclectic street art alleys, or underground poetry slams where local creatives converge. Can you provide insider insights into the vibrant artistic subculture thriving within the Bay Area?\n",
      " Absolutely! The Bay Area is known for its rich and diverse arts scene. Here are some suggestions for events and locations that might fit your interests between April 28th and June 25th:\n",
      "\n",
      "1. Intimate Gallery Openings: The East Bay has a vibrant arts scene, with many small galleries hosting regular openings. Check out galleries in Jingletown (Oakland) or the Uptown District (Oakland). In San Francisco, consider visiting Mission District galleries or the Tenderloin neighborhood. Keep an eye on event listings on websites like Funcheap, Eventbrite, or the SF Arts Alliance.\n",
      "2. Eclectic Street Art: The Bay Area is famous for its street art. Head to the Mission District in San Francisco to explore the colorful murals, or check out the Graffiti Alley in Albany (East Bay) and the Warehouse 416 in West Oakland.\n",
      "3. Underground Poetry Slams: The Bay Area has a rich history of poetry slams. Check out the Beat Museum in North Beach, San Francisco, which often hosts poetry events. In the East Bay, consider visiting the La Peña Cultural Center in Berkeley or the Moe's Books in Telegraph Avenue (Berkeley).\n",
      "4. Fairs & Festivals: If you're looking for a more communal arts experience, consider attending one of the many fairs and festivals taking place during this time. The Bay Area Book Festival in Berkeley is a must-see for literature lovers. For visual arts, check out the Alameda Point Antiques Faire or the Jack London Square Art & Wine Festival.\n",
      "5. Lectures & Workshops: If you're looking to learn more about the arts, consider attending a lecture or workshop. The San Francisco Museum of Modern Art often hosts lectures on contemporary art, while the California Palace of the Legion of Honor offers lectures on European art history. In the East Bay, check out the Pacific Film Archive for film-related workshops and lectures.\n",
      "\n",
      "Remember to keep an eye on event listings on websites like Funcheap or Eventbrite for the most up-to-date information. Enjoy your artistic journey in the Bay Area!\n",
      "***************\n"
     ]
    }
   ],
   "source": [
    "sample_questions = [\"From April 30th to May 15th, as a solo traveler who values quiet introspection and serene landscapes, can you suggest hidden coastal retreats or secluded hiking trails in the Bay Area where I can reconnect with nature and find inner peace?\",\n",
    "\"Between May 8th and June 10th, being a passionate epicurean with a weakness for artisanal delights and off-the-beaten-path culinary experiences, I'd love your recommendations for quaint family-owned eateries, tucked-away cafes, or vibrant food festivals where I can indulge in the authentic flavors of the Bay Area.\",\n",
    "\"During the week of May 20th to May 27th, immersing myself in local culture and heritage is paramount to me. Could you share insider tips on lesser-known cultural festivals, neighborhood walking tours led by community storytellers, or underground art collectives that offer a glimpse into the soul of San Francisco?\",\n",
    "\"From June 5th to June 18th, as an adrenaline junkie constantly seeking the next thrill, I'm eager to discover adrenaline-pumping activities unique to the Bay Area. From adrenaline-fueled kayaking expeditions under the Golden Gate Bridge to daredevil cliff diving spots along the coast, what are some lesser-known adventures that will get my heart racing?\",\n",
    "\"Between April 28th and June 25th, with a profound appreciation for the arts and a desire to uncover hidden artistic gems, I'm on the lookout for intimate gallery openings, eclectic street art alleys, or underground poetry slams where local creatives converge. Can you provide insider insights into the vibrant artistic subculture thriving within the Bay Area?\"]\n",
    "\n",
    "for q in sample_questions:\n",
    "    print(q)\n",
    "    result = chain({\"question\": q,\"chat_history\": []})\n",
    "    print(result['answer'])\n",
    "    print(\"*\" * 15)\n",
    "    "
   ]
  },
  {
   "cell_type": "markdown",
   "metadata": {},
   "source": [
    "# Pinecone"
   ]
  },
  {
   "cell_type": "code",
   "execution_count": 34,
   "metadata": {},
   "outputs": [],
   "source": [
    "pc = Pinecone(api_key=os.getenv(\"PINECONE_API_KEY\") )"
   ]
  },
  {
   "cell_type": "code",
   "execution_count": 244,
   "metadata": {},
   "outputs": [],
   "source": [
    "from pinecone import ServerlessSpec\n",
    "\n",
    "spec = ServerlessSpec(\n",
    "    cloud=\"aws\", region=\"us-east-1\"\n",
    ")"
   ]
  },
  {
   "cell_type": "code",
   "execution_count": 218,
   "metadata": {},
   "outputs": [
    {
     "data": {
      "text/plain": [
       "{'dimension': 1536,\n",
       " 'index_fullness': 0.0,\n",
       " 'namespaces': {},\n",
       " 'total_vector_count': 0}"
      ]
     },
     "execution_count": 218,
     "metadata": {},
     "output_type": "execute_result"
    }
   ],
   "source": [
    "index_name = 'wanderchat-funcheap-rag'\n",
    "existing_indexes = [\n",
    "    index_info[\"name\"] for index_info in pc.list_indexes()\n",
    "]\n",
    "\n",
    "# check if index already exists (it shouldn't if this is first time)\n",
    "if index_name not in existing_indexes:\n",
    "    # if does not exist, create index\n",
    "    pc.create_index(\n",
    "        index_name,\n",
    "        dimension=1536,  # dimensionality of ada 002\n",
    "        metric='dotproduct',\n",
    "        spec=spec\n",
    "    )\n",
    "    # wait for index to be initialized\n",
    "    while not pc.describe_index(index_name).status['ready']:\n",
    "        time.sleep(1)\n",
    "\n",
    "# connect to index\n",
    "index = pc.Index(index_name)\n",
    "time.sleep(1)\n",
    "# view index stats\n",
    "index.describe_index_stats()"
   ]
  },
  {
   "cell_type": "code",
   "execution_count": 219,
   "metadata": {},
   "outputs": [
    {
     "name": "stderr",
     "output_type": "stream",
     "text": [
      "100%|██████████| 17/17 [01:17<00:00,  4.55s/it]\n"
     ]
    }
   ],
   "source": [
    "from tqdm.auto import tqdm  # for progress bar\n",
    "\n",
    "data = event_dates_df  # this makes it easier to iterate over the dataset\n",
    "\n",
    "batch_size = 100\n",
    "\n",
    "for i in tqdm(range(0, len(data), batch_size)):\n",
    "    i_end = min(len(data), i+batch_size)\n",
    "    # get batch of data\n",
    "    batch = data.iloc[i:i_end]\n",
    "    # generate unique ids for each chunk\n",
    "    ids = [f\"i-{x['id']}\" for i, x in batch.iterrows()]\n",
    "    # get text to embed\n",
    "    texts = [x['content'] for _, x in batch.iterrows()]\n",
    "    # embed text\n",
    "    embeds = OAI_embed_model.embed_documents(texts)\n",
    "    # get metadata to store in Pinecone\n",
    "    metadata = [\n",
    "        {\n",
    "         'text':x['content'],\n",
    "         'source': x['link'],\n",
    "         'date': x['date']} for i, x in batch.iterrows()\n",
    "    ]\n",
    "    # add to Pinecone\n",
    "    index.upsert(vectors=zip(ids, embeds, metadata))"
   ]
  },
  {
   "cell_type": "code",
   "execution_count": 220,
   "metadata": {},
   "outputs": [
    {
     "data": {
      "text/plain": [
       "{'dimension': 1536,\n",
       " 'index_fullness': 0.0,\n",
       " 'namespaces': {'': {'vector_count': 1672}},\n",
       " 'total_vector_count': 1672}"
      ]
     },
     "execution_count": 220,
     "metadata": {},
     "output_type": "execute_result"
    }
   ],
   "source": [
    "index.describe_index_stats()"
   ]
  },
  {
   "cell_type": "code",
   "execution_count": 240,
   "metadata": {},
   "outputs": [
    {
     "name": "stderr",
     "output_type": "stream",
     "text": [
      "/Users/christopherton/Documents/WanderChat_298b/venv/lib/python3.10/site-packages/langchain_community/vectorstores/pinecone.py:75: UserWarning: Passing in `embedding` as a Callable is deprecated. Please pass in an Embeddings object instead.\n",
      "  warnings.warn(\n"
     ]
    }
   ],
   "source": [
    "from langchain.vectorstores import Pinecone\n",
    "\n",
    "text_field = \"text\"  # the metadata field that contains our text\n",
    "\n",
    "# initialize the vector store object\n",
    "vectorstore = Pinecone(\n",
    "    index, OAI_embed_model.embed_query, text_field\n",
    ")"
   ]
  },
  {
   "cell_type": "code",
   "execution_count": 239,
   "metadata": {},
   "outputs": [
    {
     "data": {
      "text/plain": [
       "[Document(page_content='2024 Taiwanese American Cultural Festival (Union Square)                    \\n\\n\\n\\n                        2024 San Francisco Carnaval Grand Parade                    \\n\\n\\n\\n                        SF’s New Monthly Block Party “Downtown First Thursdays” KickOff                    \\n\\n\\n\\n                        San Francisco’s World Goth Day Festival 2024 on USS Hornet (Alameda)                    \\n\\n\\n\\nSign Up For Funcheap Emails \\n\\n\\n\\n\\nJoin the Funcheap SF Email List\\n\\n\\n\\n\\r\\nJoin the 140,000+ San Franciscans and get our picks for the best  Bay Area free & cheap events and deals each week.\\r\\n\\r\\n\\r\\n\\n\\nMost Popular City Guides', metadata={'date': '2024-05-18', 'source': 'https://sf.funcheap.com/2024/5/18/'}),\n",
       " Document(page_content='2024 Taiwanese American Cultural Festival (Union Square)                    \\n\\n\\n\\n                        2024 San Francisco Carnaval Grand Parade                    \\n\\n\\n\\n                        SF’s New Monthly Block Party “Downtown First Thursdays” KickOff                    \\n\\n\\n\\n                        San Francisco’s World Goth Day Festival 2024 on USS Hornet (Alameda)                    \\n\\n\\n\\nSign Up For Funcheap Emails \\n\\n\\n\\n\\nJoin the Funcheap SF Email List\\n\\n\\n\\n\\r\\nJoin the 140,000+ San Franciscans and get our picks for the best  Bay Area free & cheap events and deals each week.\\r\\n\\r\\n\\r\\n\\n\\nMost Popular City Guides', metadata={'date': '2024-09-28', 'source': 'https://sf.funcheap.com/2024/9/28/'}),\n",
       " Document(page_content='2024 Taiwanese American Cultural Festival (Union Square)                    \\n\\n\\n\\n                        2024 San Francisco Carnaval Grand Parade                    \\n\\n\\n\\n                        SF’s New Monthly Block Party “Downtown First Thursdays” KickOff                    \\n\\n\\n\\n                        San Francisco’s World Goth Day Festival 2024 on USS Hornet (Alameda)                    \\n\\n\\n\\nSign Up For Funcheap Emails \\n\\n\\n\\n\\nJoin the Funcheap SF Email List\\n\\n\\n\\n\\r\\nJoin the 140,000+ San Franciscans and get our picks for the best  Bay Area free & cheap events and deals each week.\\r\\n\\r\\n\\r\\n\\n\\nMost Popular City Guides', metadata={'date': '2024-07-28', 'source': 'https://sf.funcheap.com/2024/7/28/'})]"
      ]
     },
     "execution_count": 239,
     "metadata": {},
     "output_type": "execute_result"
    }
   ],
   "source": [
    "query = \"when is the 2024 Taiwanese American Cultural Festival\"\n",
    "\n",
    "vectorstore.similarity_search(query, k=3)"
   ]
  },
  {
   "cell_type": "code",
   "execution_count": 230,
   "metadata": {},
   "outputs": [],
   "source": [
    "def augment_prompt(query: str):\n",
    "    # get top 3 results from knowledge base\n",
    "    results = vectorstore.similarity_search(query, k=3)\n",
    "    # get the text from the results\n",
    "    source_knowledge = \"\\n\".join([x.page_content for x in results])\n",
    "    # feed into an augmented prompt\n",
    "    augmented_prompt = f\"\"\"Using the contexts below, answer the query.\n",
    "\n",
    "    Contexts:\n",
    "    {source_knowledge}\n",
    "\n",
    "    Query: {query}\"\"\"\n",
    "    #print(augmented_prompt)\n",
    "    return augmented_prompt"
   ]
  },
  {
   "cell_type": "code",
   "execution_count": 231,
   "metadata": {},
   "outputs": [
    {
     "data": {
      "text/plain": [
       "'Using the contexts below, answer the query.\\n\\n    Contexts:\\n    2024 Taiwanese American Cultural Festival (Union Square)                    \\n\\n\\n\\n                        2024 San Francisco Carnaval Grand Parade                    \\n\\n\\n\\n                        SF’s New Monthly Block Party “Downtown First Thursdays” KickOff                    \\n\\n\\n\\n                        San Francisco’s World Goth Day Festival 2024 on USS Hornet (Alameda)                    \\n\\n\\n\\nSign Up For Funcheap Emails \\n\\n\\n\\n\\nJoin the Funcheap SF Email List\\n\\n\\n\\n\\r\\nJoin the 140,000+ San Franciscans and get our picks for the best  Bay Area free & cheap events and deals each week.\\r\\n\\r\\n\\r\\n\\n\\nMost Popular City Guides\\n2024 Taiwanese American Cultural Festival (Union Square)                    \\n\\n\\n\\n                        2024 San Francisco Carnaval Grand Parade                    \\n\\n\\n\\n                        SF’s New Monthly Block Party “Downtown First Thursdays” KickOff                    \\n\\n\\n\\n                        San Francisco’s World Goth Day Festival 2024 on USS Hornet (Alameda)                    \\n\\n\\n\\nSign Up For Funcheap Emails \\n\\n\\n\\n\\nJoin the Funcheap SF Email List\\n\\n\\n\\n\\r\\nJoin the 140,000+ San Franciscans and get our picks for the best  Bay Area free & cheap events and deals each week.\\r\\n\\r\\n\\r\\n\\n\\nMost Popular City Guides\\n2024 Taiwanese American Cultural Festival (Union Square)                    \\n\\n\\n\\n                        2024 San Francisco Carnaval Grand Parade                    \\n\\n\\n\\n                        SF’s New Monthly Block Party “Downtown First Thursdays” KickOff                    \\n\\n\\n\\n                        San Francisco’s World Goth Day Festival 2024 on USS Hornet (Alameda)                    \\n\\n\\n\\nSign Up For Funcheap Emails \\n\\n\\n\\n\\nJoin the Funcheap SF Email List\\n\\n\\n\\n\\r\\nJoin the 140,000+ San Franciscans and get our picks for the best  Bay Area free & cheap events and deals each week.\\r\\n\\r\\n\\r\\n\\n\\nMost Popular City Guides\\n\\n    Query: when is the 2024 Taiwanese American Cultural Festival'"
      ]
     },
     "execution_count": 231,
     "metadata": {},
     "output_type": "execute_result"
    }
   ],
   "source": [
    "p = augment_prompt(query)\n",
    "p"
   ]
  },
  {
   "cell_type": "code",
   "execution_count": 225,
   "metadata": {},
   "outputs": [
    {
     "name": "stdout",
     "output_type": "stream",
     "text": [
      "Using the contexts below, answer the query.\n",
      "\n",
      "    Contexts:\n",
      "    2024 Taiwanese American Cultural Festival (Union Square)                    \n",
      "\n",
      "\n",
      "\n",
      "                        2024 San Francisco Carnaval Grand Parade                    \n",
      "\n",
      "\n",
      "\n",
      "                        SF’s New Monthly Block Party “Downtown First Thursdays” KickOff                    \n",
      "\n",
      "\n",
      "\n",
      "                        San Francisco’s World Goth Day Festival 2024 on USS Hornet (Alameda)                    \n",
      "\n",
      "\n",
      "\n",
      "Sign Up For Funcheap Emails \n",
      "\n",
      "\n",
      "\n",
      "\n",
      "Join the Funcheap SF Email List\n",
      "\n",
      "\n",
      "\n",
      "\n",
      "Join the 140,000+ San Franciscans and get our picks for the best  Bay Area free & cheap events and deals each week.\n",
      "\n",
      "\n",
      "\n",
      "\n",
      "Most Popular City Guides\n",
      "2024 Taiwanese American Cultural Festival (Union Square)                    \n",
      "\n",
      "\n",
      "\n",
      "                        2024 San Francisco Carnaval Grand Parade                    \n",
      "\n",
      "\n",
      "\n",
      "                        SF’s New Monthly Block Party “Downtown First Thursdays” KickOff                    \n",
      "\n",
      "\n",
      "\n",
      "                        San Francisco’s World Goth Day Festival 2024 on USS Hornet (Alameda)                    \n",
      "\n",
      "\n",
      "\n",
      "Sign Up For Funcheap Emails \n",
      "\n",
      "\n",
      "\n",
      "\n",
      "Join the Funcheap SF Email List\n",
      "\n",
      "\n",
      "\n",
      "\n",
      "Join the 140,000+ San Franciscans and get our picks for the best  Bay Area free & cheap events and deals each week.\n",
      "\n",
      "\n",
      "\n",
      "\n",
      "Most Popular City Guides\n",
      "2024 Taiwanese American Cultural Festival (Union Square)                    \n",
      "\n",
      "\n",
      "\n",
      "                        2024 San Francisco Carnaval Grand Parade                    \n",
      "\n",
      "\n",
      "\n",
      "                        SF’s New Monthly Block Party “Downtown First Thursdays” KickOff                    \n",
      "\n",
      "\n",
      "\n",
      "                        San Francisco’s World Goth Day Festival 2024 on USS Hornet (Alameda)                    \n",
      "\n",
      "\n",
      "\n",
      "Sign Up For Funcheap Emails \n",
      "\n",
      "\n",
      "\n",
      "\n",
      "Join the Funcheap SF Email List\n",
      "\n",
      "\n",
      "\n",
      "\n",
      "Join the 140,000+ San Franciscans and get our picks for the best  Bay Area free & cheap events and deals each week.\n",
      "\n",
      "\n",
      "\n",
      "\n",
      "Most Popular City Guides\n",
      "\n",
      "    Query: when is the 2024 Taiwanese American Cultural Festival\n"
     ]
    },
    {
     "data": {
      "text/plain": [
       "\" The 2024 Taiwanese American Cultural Festival is scheduled to take place in Union Square. Exact dates for the event have not been specified in the context provided. To get the most accurate and up-to-date information, it's recommended to sign up for Funcheap emails or check their website regularly for announcements regarding the festival date.\""
      ]
     },
     "execution_count": 225,
     "metadata": {},
     "output_type": "execute_result"
    }
   ],
   "source": [
    "llm.invoke(augment_prompt(query))"
   ]
  },
  {
   "cell_type": "code",
   "execution_count": 203,
   "metadata": {},
   "outputs": [
    {
     "data": {
      "text/plain": [
       "' Absolutely! Here are some hidden gems in the Bay Area that offer beautiful coastal scenery and quiet hiking trails for introspective solo travelers:\\n\\n1. Samuel P. Taylor State Park, Marin County: This park is located along the coast of Marin County and features a network of hiking trails through redwood forests and open grasslands. The park also has two secluded beaches where you can enjoy the peaceful sounds of the waves. The Rodeo Lagoon Trail and the Dipsea Trail are two popular hikes that offer scenic views and tranquility.\\n\\n2. Fitzgerald Marine Reserve, Moss Landing: This marine reserve is a hidden gem located in Monterey Bay. It offers a quiet and serene environment for solo travelers seeking introspection and connection with nature. The park has several hiking trails that lead to scenic viewpoints overlooking the bay and the ocean. You can also explore the tide pools at low tide for a closer look at marine life.\\n\\n3. Point Reyes National Seashore, Marin County: This secluded coastal area is known for its breathtaking views, quiet beaches, and hiking trails. The park offers numerous opportunities for introspection, including the Coastal Trail, which leads to spectacular views of the Pacific Ocean and the point where it meets the land. You can also explore the abandoned Point Reyes Lighthouse and enjoy a peaceful picnic at one of the secluded beaches.\\n\\n4. Wilder Ranch State Park, Santa Cruz: This park is located along the coast of Santa Cruz County and features beautiful views of Monterey Bay. The park offers several hiking trails through redwood forests, grasslands, and along the bluffs overlooking the ocean. You can also explore the historic ranch house and enjoy a peaceful picnic amidst the scenic surroundings.\\n\\n5. Alamere Falls, Point Reyes National Seashore: This hidden gem is a must-visit for solo travelers seeking tranquility and connection with nature. The hike to Alamere Falls is a moderate 8-mile roundtrip trek that leads to a stunning waterfall that flows directly into the ocean. The trail offers beautiful views of the coastline, secluded beaches, and a peaceful forested environment.\\n\\nI hope you find these suggestions helpful in planning your solo travel adventure to reconnect with nature and find inner peace in the Bay Area!'"
      ]
     },
     "execution_count": 203,
     "metadata": {},
     "output_type": "execute_result"
    }
   ],
   "source": [
    "llm.invoke(sample_questions[0])"
   ]
  },
  {
   "cell_type": "markdown",
   "metadata": {},
   "source": [
    "# Travel Advisory"
   ]
  },
  {
   "cell_type": "code",
   "execution_count": 241,
   "metadata": {},
   "outputs": [],
   "source": [
    "#https://travel.state.gov/content/travel/en/traveladvisories/traveladvisories/israel-west-bank-and-gaza-travel-advisory.html\n",
    "#https://travel.state.gov/content/travel/en/traveladvisories/traveladvisories.html/"
   ]
  },
  {
   "cell_type": "code",
   "execution_count": 274,
   "metadata": {},
   "outputs": [],
   "source": [
    "urls = [\n",
    "    'https://travel.state.gov/content/travel/en/traveladvisories/traveladvisories/israel-west-bank-and-gaza-travel-advisory.html',\n",
    "    'https://travel.state.gov/content/travel/en/traveladvisories/traveladvisories.html/'\n",
    "]\n",
    "\n",
    "docs = [WebBaseLoader(url).load() for url in urls]\n",
    "docs_list = [item for sublist in docs for item in sublist]\n",
    "\n",
    "text_splitter = RecursiveCharacterTextSplitter.from_tiktoken_encoder(\n",
    "    chunk_size=250, chunk_overlap=50\n",
    ")\n",
    "doc_splits = text_splitter.split_documents(docs_list)"
   ]
  },
  {
   "cell_type": "code",
   "execution_count": 283,
   "metadata": {},
   "outputs": [
    {
     "data": {
      "text/plain": [
       "{'source': 'https://travel.state.gov/content/travel/en/traveladvisories/traveladvisories.html/',\n",
       " 'title': 'Travel Advisories'}"
      ]
     },
     "execution_count": 283,
     "metadata": {},
     "output_type": "execute_result"
    }
   ],
   "source": [
    "doc_splits[30].metadata"
   ]
  },
  {
   "cell_type": "code",
   "execution_count": 292,
   "metadata": {},
   "outputs": [
    {
     "data": {
      "text/html": [
       "<div>\n",
       "<style scoped>\n",
       "    .dataframe tbody tr th:only-of-type {\n",
       "        vertical-align: middle;\n",
       "    }\n",
       "\n",
       "    .dataframe tbody tr th {\n",
       "        vertical-align: top;\n",
       "    }\n",
       "\n",
       "    .dataframe thead th {\n",
       "        text-align: right;\n",
       "    }\n",
       "</style>\n",
       "<table border=\"1\" class=\"dataframe\">\n",
       "  <thead>\n",
       "    <tr style=\"text-align: right;\">\n",
       "      <th></th>\n",
       "      <th>index</th>\n",
       "      <th>page_content</th>\n",
       "      <th>source</th>\n",
       "      <th>title</th>\n",
       "    </tr>\n",
       "  </thead>\n",
       "  <tbody>\n",
       "    <tr>\n",
       "      <th>0</th>\n",
       "      <td>0</td>\n",
       "      <td>Israel, the West Bank and Gaza Travel Advisory...</td>\n",
       "      <td>https://travel.state.gov/content/travel/en/tra...</td>\n",
       "      <td>Israel, the West Bank and Gaza Travel Advisory</td>\n",
       "    </tr>\n",
       "    <tr>\n",
       "      <th>1</th>\n",
       "      <td>1</td>\n",
       "      <td>Popular Links\\n\\nHome\\nTravel Advisories\\n New...</td>\n",
       "      <td>https://travel.state.gov/content/travel/en/tra...</td>\n",
       "      <td>Israel, the West Bank and Gaza Travel Advisory</td>\n",
       "    </tr>\n",
       "    <tr>\n",
       "      <th>2</th>\n",
       "      <td>2</td>\n",
       "      <td>International Parental Child Abduction\\n\\n\\n\\n...</td>\n",
       "      <td>https://travel.state.gov/content/travel/en/tra...</td>\n",
       "      <td>Israel, the West Bank and Gaza Travel Advisory</td>\n",
       "    </tr>\n",
       "    <tr>\n",
       "      <th>3</th>\n",
       "      <td>3</td>\n",
       "      <td>G\\nH\\nI\\nJ\\nK\\nL\\n\\n\\n\\n\\nM\\nN\\nO\\nP\\nQ\\nR\\n\\n...</td>\n",
       "      <td>https://travel.state.gov/content/travel/en/tra...</td>\n",
       "      <td>Israel, the West Bank and Gaza Travel Advisory</td>\n",
       "    </tr>\n",
       "    <tr>\n",
       "      <th>4</th>\n",
       "      <td>4</td>\n",
       "      <td>Gaza due to terrorism and armed conflict\\n\\nRe...</td>\n",
       "      <td>https://travel.state.gov/content/travel/en/tra...</td>\n",
       "      <td>Israel, the West Bank and Gaza Travel Advisory</td>\n",
       "    </tr>\n",
       "  </tbody>\n",
       "</table>\n",
       "</div>"
      ],
      "text/plain": [
       "   index                                       page_content  \\\n",
       "0      0  Israel, the West Bank and Gaza Travel Advisory...   \n",
       "1      1  Popular Links\\n\\nHome\\nTravel Advisories\\n New...   \n",
       "2      2  International Parental Child Abduction\\n\\n\\n\\n...   \n",
       "3      3  G\\nH\\nI\\nJ\\nK\\nL\\n\\n\\n\\n\\nM\\nN\\nO\\nP\\nQ\\nR\\n\\n...   \n",
       "4      4  Gaza due to terrorism and armed conflict\\n\\nRe...   \n",
       "\n",
       "                                              source  \\\n",
       "0  https://travel.state.gov/content/travel/en/tra...   \n",
       "1  https://travel.state.gov/content/travel/en/tra...   \n",
       "2  https://travel.state.gov/content/travel/en/tra...   \n",
       "3  https://travel.state.gov/content/travel/en/tra...   \n",
       "4  https://travel.state.gov/content/travel/en/tra...   \n",
       "\n",
       "                                             title  \n",
       "0  Israel, the West Bank and Gaza Travel Advisory   \n",
       "1  Israel, the West Bank and Gaza Travel Advisory   \n",
       "2  Israel, the West Bank and Gaza Travel Advisory   \n",
       "3  Israel, the West Bank and Gaza Travel Advisory   \n",
       "4  Israel, the West Bank and Gaza Travel Advisory   "
      ]
     },
     "execution_count": 292,
     "metadata": {},
     "output_type": "execute_result"
    }
   ],
   "source": [
    "travel_advisory_df = pd.DataFrame(columns=['page_content','source','title'])\n",
    "\n",
    "for d in range(len(doc_splits)):\n",
    "    travel_advisory_df.loc[d,'page_content'] = doc_splits[d].page_content\n",
    "    travel_advisory_df.loc[d,'source'] = doc_splits[d].metadata['source']\n",
    "    travel_advisory_df.loc[d,'title'] = doc_splits[d].metadata['title']\n",
    "\n",
    "travel_advisory_df = travel_advisory_df.reset_index()\n",
    "travel_advisory_df.head()"
   ]
  },
  {
   "cell_type": "code",
   "execution_count": 291,
   "metadata": {},
   "outputs": [
    {
     "data": {
      "text/html": [
       "<div>\n",
       "<style scoped>\n",
       "    .dataframe tbody tr th:only-of-type {\n",
       "        vertical-align: middle;\n",
       "    }\n",
       "\n",
       "    .dataframe tbody tr th {\n",
       "        vertical-align: top;\n",
       "    }\n",
       "\n",
       "    .dataframe thead th {\n",
       "        text-align: right;\n",
       "    }\n",
       "</style>\n",
       "<table border=\"1\" class=\"dataframe\">\n",
       "  <thead>\n",
       "    <tr style=\"text-align: right;\">\n",
       "      <th></th>\n",
       "      <th>level_0</th>\n",
       "      <th>index</th>\n",
       "      <th>page_content</th>\n",
       "      <th>source</th>\n",
       "      <th>title</th>\n",
       "    </tr>\n",
       "  </thead>\n",
       "  <tbody>\n",
       "    <tr>\n",
       "      <th>0</th>\n",
       "      <td>0</td>\n",
       "      <td>0</td>\n",
       "      <td>Israel, the West Bank and Gaza Travel Advisory...</td>\n",
       "      <td>https://travel.state.gov/content/travel/en/tra...</td>\n",
       "      <td>Israel, the West Bank and Gaza Travel Advisory</td>\n",
       "    </tr>\n",
       "    <tr>\n",
       "      <th>1</th>\n",
       "      <td>1</td>\n",
       "      <td>1</td>\n",
       "      <td>Popular Links\\n\\nHome\\nTravel Advisories\\n New...</td>\n",
       "      <td>https://travel.state.gov/content/travel/en/tra...</td>\n",
       "      <td>Israel, the West Bank and Gaza Travel Advisory</td>\n",
       "    </tr>\n",
       "    <tr>\n",
       "      <th>2</th>\n",
       "      <td>2</td>\n",
       "      <td>2</td>\n",
       "      <td>International Parental Child Abduction\\n\\n\\n\\n...</td>\n",
       "      <td>https://travel.state.gov/content/travel/en/tra...</td>\n",
       "      <td>Israel, the West Bank and Gaza Travel Advisory</td>\n",
       "    </tr>\n",
       "    <tr>\n",
       "      <th>3</th>\n",
       "      <td>3</td>\n",
       "      <td>3</td>\n",
       "      <td>G\\nH\\nI\\nJ\\nK\\nL\\n\\n\\n\\n\\nM\\nN\\nO\\nP\\nQ\\nR\\n\\n...</td>\n",
       "      <td>https://travel.state.gov/content/travel/en/tra...</td>\n",
       "      <td>Israel, the West Bank and Gaza Travel Advisory</td>\n",
       "    </tr>\n",
       "    <tr>\n",
       "      <th>4</th>\n",
       "      <td>4</td>\n",
       "      <td>4</td>\n",
       "      <td>Gaza due to terrorism and armed conflict\\n\\nRe...</td>\n",
       "      <td>https://travel.state.gov/content/travel/en/tra...</td>\n",
       "      <td>Israel, the West Bank and Gaza Travel Advisory</td>\n",
       "    </tr>\n",
       "  </tbody>\n",
       "</table>\n",
       "</div>"
      ],
      "text/plain": [
       "   level_0  index                                       page_content  \\\n",
       "0        0      0  Israel, the West Bank and Gaza Travel Advisory...   \n",
       "1        1      1  Popular Links\\n\\nHome\\nTravel Advisories\\n New...   \n",
       "2        2      2  International Parental Child Abduction\\n\\n\\n\\n...   \n",
       "3        3      3  G\\nH\\nI\\nJ\\nK\\nL\\n\\n\\n\\n\\nM\\nN\\nO\\nP\\nQ\\nR\\n\\n...   \n",
       "4        4      4  Gaza due to terrorism and armed conflict\\n\\nRe...   \n",
       "\n",
       "                                              source  \\\n",
       "0  https://travel.state.gov/content/travel/en/tra...   \n",
       "1  https://travel.state.gov/content/travel/en/tra...   \n",
       "2  https://travel.state.gov/content/travel/en/tra...   \n",
       "3  https://travel.state.gov/content/travel/en/tra...   \n",
       "4  https://travel.state.gov/content/travel/en/tra...   \n",
       "\n",
       "                                             title  \n",
       "0  Israel, the West Bank and Gaza Travel Advisory   \n",
       "1  Israel, the West Bank and Gaza Travel Advisory   \n",
       "2  Israel, the West Bank and Gaza Travel Advisory   \n",
       "3  Israel, the West Bank and Gaza Travel Advisory   \n",
       "4  Israel, the West Bank and Gaza Travel Advisory   "
      ]
     },
     "execution_count": 291,
     "metadata": {},
     "output_type": "execute_result"
    }
   ],
   "source": []
  },
  {
   "cell_type": "code",
   "execution_count": 331,
   "metadata": {},
   "outputs": [],
   "source": [
    "from langchain.embeddings import SentenceTransformerEmbeddings\n",
    "embeddings = SentenceTransformerEmbeddings(model_name=\"all-MiniLM-L6-v2\")"
   ]
  },
  {
   "cell_type": "code",
   "execution_count": 263,
   "metadata": {},
   "outputs": [
    {
     "data": {
      "text/plain": [
       "{'dimension': 1536,\n",
       " 'index_fullness': 0.0,\n",
       " 'namespaces': {},\n",
       " 'total_vector_count': 0}"
      ]
     },
     "execution_count": 263,
     "metadata": {},
     "output_type": "execute_result"
    }
   ],
   "source": [
    "index_name = 'wanderchat-travel-advisory-rag'\n",
    "existing_indexes = [\n",
    "    index_info[\"name\"] for index_info in pc.list_indexes()\n",
    "]\n",
    "\n",
    "# check if index already exists (it shouldn't if this is first time)\n",
    "if index_name not in existing_indexes:\n",
    "    # if does not exist, create index\n",
    "    pc.create_index(\n",
    "        index_name,\n",
    "        dimension=1536,  # dimensionality of ada 002\n",
    "        metric='cosine',\n",
    "        spec=spec\n",
    "    )\n",
    "    # wait for index to be initialized\n",
    "    while not pc.describe_index(index_name).status['ready']:\n",
    "        time.sleep(1)\n",
    "\n",
    "# connect to index\n",
    "index = pc.Index(index_name)\n",
    "time.sleep(1)\n",
    "# view index stats\n",
    "index.describe_index_stats()"
   ]
  },
  {
   "cell_type": "code",
   "execution_count": 35,
   "metadata": {},
   "outputs": [
    {
     "name": "stderr",
     "output_type": "stream",
     "text": [
      "/Users/christopherton/Documents/WanderChat_298b/venv/lib/python3.10/site-packages/langchain_core/_api/deprecation.py:117: LangChainDeprecationWarning: The class `langchain_community.embeddings.openai.OpenAIEmbeddings` was deprecated in langchain-community 0.1.0 and will be removed in 0.2.0. An updated version of the class exists in the langchain-openai package and should be used instead. To use it run `pip install -U langchain-openai` and import as `from langchain_openai import OpenAIEmbeddings`.\n",
      "  warn_deprecated(\n"
     ]
    }
   ],
   "source": [
    "embed_model = OpenAIEmbeddings(model=\"text-embedding-ada-002\")"
   ]
  },
  {
   "cell_type": "code",
   "execution_count": 295,
   "metadata": {},
   "outputs": [
    {
     "name": "stderr",
     "output_type": "stream",
     "text": [
      "100%|██████████| 1/1 [00:02<00:00,  2.62s/it]\n"
     ]
    }
   ],
   "source": [
    "from tqdm.auto import tqdm  # for progress bar\n",
    "\n",
    "data = travel_advisory_df  # this makes it easier to iterate over the dataset\n",
    "\n",
    "batch_size = 100\n",
    "\n",
    "for i in tqdm(range(0, len(data), batch_size)):\n",
    "    i_end = min(len(data), i+batch_size)\n",
    "    # get batch of data\n",
    "    batch = data.iloc[i:i_end]\n",
    "    # generate unique ids for each chunk\n",
    "    ids = [f\"{x['index']}\" for i, x in batch.iterrows()]\n",
    "    # get text to embed\n",
    "    texts = [x['page_content'] for _, x in batch.iterrows()]\n",
    "    # embed text\n",
    "    embeds = embed_model.embed_documents(texts)\n",
    "    # get metadata to store in Pinecone\n",
    "    metadata = [\n",
    "        {'text': x['page_content'],\n",
    "         'source': x['source'],\n",
    "         'title': x['title']} for i, x in batch.iterrows()\n",
    "    ]\n",
    "    # add to Pinecone\n",
    "    index.upsert(vectors=zip(ids, embeds, metadata))"
   ]
  },
  {
   "cell_type": "code",
   "execution_count": 296,
   "metadata": {},
   "outputs": [
    {
     "data": {
      "text/plain": [
       "{'dimension': 1536,\n",
       " 'index_fullness': 0.0,\n",
       " 'namespaces': {'': {'vector_count': 43}},\n",
       " 'total_vector_count': 43}"
      ]
     },
     "execution_count": 296,
     "metadata": {},
     "output_type": "execute_result"
    }
   ],
   "source": [
    "index.describe_index_stats()"
   ]
  },
  {
   "cell_type": "code",
   "execution_count": 297,
   "metadata": {},
   "outputs": [
    {
     "name": "stderr",
     "output_type": "stream",
     "text": [
      "/Users/christopherton/Documents/WanderChat_298b/venv/lib/python3.10/site-packages/langchain_community/vectorstores/pinecone.py:75: UserWarning: Passing in `embedding` as a Callable is deprecated. Please pass in an Embeddings object instead.\n",
      "  warnings.warn(\n"
     ]
    }
   ],
   "source": [
    "from langchain.vectorstores import Pinecone\n",
    "\n",
    "text_field = \"text\"  # the metadata field that contains our text\n",
    "\n",
    "# initialize the vector store object\n",
    "vectorstore = Pinecone(\n",
    "    index, embed_model.embed_query, text_field\n",
    ")"
   ]
  },
  {
   "cell_type": "code",
   "execution_count": 299,
   "metadata": {},
   "outputs": [
    {
     "data": {
      "text/plain": [
       "[Document(page_content='Gaza – Do Not Travel\\nDo not travel due to\\xa0terrorism and\\xa0armed conflict.\\nThe U.S. government is unable to provide routine or emergency consular services to U.S. citizens in Gaza as U.S. government employees are prohibited from traveling there. The Israel Defense Forces (IDF) are conducting large-scale military operations in Gaza against Hamas, a U.S. government-designated foreign terrorist organization, which was responsible for the October 7 attack on Israel. As a result of the armed conflict, the security environment within Gaza and on its borders is extremely dangerous and volatile. The pedestrian crossing between Gaza and Israel was damaged on October 7 and remains closed, and the pedestrian crossing between Egypt and Gaza may close without advance notice depending on the security situation. There are sporadic telecommunication and internet outages within Gaza further inhibiting the ability of residents to obtain information.\\xa0\\nVisit our website for\\xa0Travel to High Risk Areas.\\xa0\\xa0\\nIf you decide to travel to Gaza:', metadata={'source': 'https://travel.state.gov/content/travel/en/traveladvisories/traveladvisories/israel-west-bank-and-gaza-travel-advisory.html', 'title': 'Israel, the West Bank and Gaza Travel Advisory '}),\n",
       " Document(page_content='Please be sure to visit our website for How to Prepare for a Crisis for information that may be helpful.\\xa0\\nIsrael – Reconsider Travel\\nReconsider travel due to\\xa0terrorism and civil unrest.\\nThe security situation remains unpredictable, and U.S. citizens are reminded to remain vigilant and take appropriate steps to increase their security awareness as security incidents, including mortar and rocket fire, often take place without warning.\\nU.S. government employees in Israel under Chief of Mission security responsibility are currently restricted from personal travel to the following locations:\\n\\nWithin seven miles of the Gaza demarcation line, as well as the cities of Ashdod and Ashkelon;\\nWithin 2.5 miles of the Lebanese and Syrian borders; and\\nWithin 1.5 miles of the Israel-Egypt border.', metadata={'source': 'https://travel.state.gov/content/travel/en/traveladvisories/traveladvisories/israel-west-bank-and-gaza-travel-advisory.html', 'title': 'Israel, the West Bank and Gaza Travel Advisory '}),\n",
       " Document(page_content='Gaza due to\\xa0terrorism and\\xa0armed conflict\\n\\nReconsider Travel To:\\n\\nIsrael due to\\xa0terrorism\\xa0and\\xa0civil unrest\\nWest Bank due to\\xa0terrorism\\xa0and\\xa0civil unrest\\n\\nCountry Summary:\\xa0Terrorist groups, lone-actor terrorists and other violent extremists continue plotting possible attacks in Israel, the West Bank, and Gaza. Terrorists and violent extremists may attack with little or no warning, targeting tourist locations, transportation hubs, markets/shopping malls, and local government facilities. Violence can occur in Israel, the West Bank, and Gaza without warning.\\nSome areas have increased risk. Read the\\xa0country information page\\xa0for additional information on travel to Israel and the West Bank, and Gaza.\\xa0\\nVisit the CDC page for the latest\\xa0Travel Health Information\\xa0related to your travel.\\nIf you decide to travel to Israel, the West Bank, and Gaza.', metadata={'source': 'https://travel.state.gov/content/travel/en/traveladvisories/traveladvisories/israel-west-bank-and-gaza-travel-advisory.html', 'title': 'Israel, the West Bank and Gaza Travel Advisory '})]"
      ]
     },
     "execution_count": 299,
     "metadata": {},
     "output_type": "execute_result"
    }
   ],
   "source": [
    "query = \"Is it safe to travel to Gaza?\"\n",
    "\n",
    "vectorstore.similarity_search(query, k=3)"
   ]
  },
  {
   "cell_type": "code",
   "execution_count": 300,
   "metadata": {},
   "outputs": [],
   "source": [
    "def augment_prompt(query: str):\n",
    "    # get top 3 results from knowledge base\n",
    "    results = vectorstore.similarity_search(query, k=3)\n",
    "    # get the text from the results\n",
    "    source_knowledge = \"\\n\".join([x.page_content for x in results])\n",
    "    # feed into an augmented prompt\n",
    "    augmented_prompt = f\"\"\"Using the contexts below, answer the query.\n",
    "\n",
    "    Contexts:\n",
    "    {source_knowledge}\n",
    "\n",
    "    Query: {query}\"\"\"\n",
    "    return augmented_prompt"
   ]
  },
  {
   "cell_type": "code",
   "execution_count": 301,
   "metadata": {},
   "outputs": [
    {
     "name": "stdout",
     "output_type": "stream",
     "text": [
      "Using the contexts below, answer the query.\n",
      "\n",
      "    Contexts:\n",
      "    Gaza – Do Not Travel\n",
      "Do not travel due to terrorism and armed conflict.\n",
      "The U.S. government is unable to provide routine or emergency consular services to U.S. citizens in Gaza as U.S. government employees are prohibited from traveling there. The Israel Defense Forces (IDF) are conducting large-scale military operations in Gaza against Hamas, a U.S. government-designated foreign terrorist organization, which was responsible for the October 7 attack on Israel. As a result of the armed conflict, the security environment within Gaza and on its borders is extremely dangerous and volatile. The pedestrian crossing between Gaza and Israel was damaged on October 7 and remains closed, and the pedestrian crossing between Egypt and Gaza may close without advance notice depending on the security situation. There are sporadic telecommunication and internet outages within Gaza further inhibiting the ability of residents to obtain information. \n",
      "Visit our website for Travel to High Risk Areas.  \n",
      "If you decide to travel to Gaza:\n",
      "Please be sure to visit our website for How to Prepare for a Crisis for information that may be helpful. \n",
      "Israel – Reconsider Travel\n",
      "Reconsider travel due to terrorism and civil unrest.\n",
      "The security situation remains unpredictable, and U.S. citizens are reminded to remain vigilant and take appropriate steps to increase their security awareness as security incidents, including mortar and rocket fire, often take place without warning.\n",
      "U.S. government employees in Israel under Chief of Mission security responsibility are currently restricted from personal travel to the following locations:\n",
      "\n",
      "Within seven miles of the Gaza demarcation line, as well as the cities of Ashdod and Ashkelon;\n",
      "Within 2.5 miles of the Lebanese and Syrian borders; and\n",
      "Within 1.5 miles of the Israel-Egypt border.\n",
      "Gaza due to terrorism and armed conflict\n",
      "\n",
      "Reconsider Travel To:\n",
      "\n",
      "Israel due to terrorism and civil unrest\n",
      "West Bank due to terrorism and civil unrest\n",
      "\n",
      "Country Summary: Terrorist groups, lone-actor terrorists and other violent extremists continue plotting possible attacks in Israel, the West Bank, and Gaza. Terrorists and violent extremists may attack with little or no warning, targeting tourist locations, transportation hubs, markets/shopping malls, and local government facilities. Violence can occur in Israel, the West Bank, and Gaza without warning.\n",
      "Some areas have increased risk. Read the country information page for additional information on travel to Israel and the West Bank, and Gaza. \n",
      "Visit the CDC page for the latest Travel Health Information related to your travel.\n",
      "If you decide to travel to Israel, the West Bank, and Gaza.\n",
      "\n",
      "    Query: Is it safe to travel to Gaza?\n"
     ]
    }
   ],
   "source": [
    "print(augment_prompt(query))"
   ]
  },
  {
   "cell_type": "code",
   "execution_count": 4,
   "metadata": {},
   "outputs": [
    {
     "data": {
      "text/plain": [
       "(10677, 5)"
      ]
     },
     "execution_count": 4,
     "metadata": {},
     "output_type": "execute_result"
    }
   ],
   "source": [
    "reddit = pd.read_csv(\"reddit.csv\")\n",
    "\n",
    "reddit_pc = reddit[['title','selftext','url','creation_date','comments']].dropna()\n",
    "reddit_pc.shape"
   ]
  },
  {
   "cell_type": "code",
   "execution_count": 5,
   "metadata": {},
   "outputs": [],
   "source": [
    "reddit_pc['comments'] = reddit_pc['comments'].apply(lambda x:x.replace('[','').replace(']',''))"
   ]
  },
  {
   "cell_type": "code",
   "execution_count": 6,
   "metadata": {},
   "outputs": [],
   "source": [
    "reddit_pc = reddit_pc.reset_index()"
   ]
  },
  {
   "cell_type": "code",
   "execution_count": 7,
   "metadata": {},
   "outputs": [],
   "source": [
    "reddit_pc['token'] = reddit_pc['comments'].apply(lambda x:len(x.split(' ')))"
   ]
  },
  {
   "cell_type": "code",
   "execution_count": 8,
   "metadata": {},
   "outputs": [
    {
     "data": {
      "text/plain": [
       "(9450, 7)"
      ]
     },
     "execution_count": 8,
     "metadata": {},
     "output_type": "execute_result"
    }
   ],
   "source": [
    "reddit_pc = reddit_pc.loc[reddit_pc['token'] > 100]\n",
    "reddit_pc.shape"
   ]
  },
  {
   "cell_type": "code",
   "execution_count": 9,
   "metadata": {},
   "outputs": [],
   "source": [
    "from nltk.tokenize import sent_tokenize"
   ]
  },
  {
   "cell_type": "code",
   "execution_count": 10,
   "metadata": {},
   "outputs": [],
   "source": [
    "reddit_pc['split'] = reddit_pc['comments'].apply(lambda x: sent_tokenize(x))"
   ]
  },
  {
   "cell_type": "code",
   "execution_count": 11,
   "metadata": {},
   "outputs": [
    {
     "data": {
      "text/plain": [
       "9424"
      ]
     },
     "execution_count": 11,
     "metadata": {},
     "output_type": "execute_result"
    }
   ],
   "source": [
    "reddit_pc['selftext'].nunique()"
   ]
  },
  {
   "cell_type": "code",
   "execution_count": 12,
   "metadata": {},
   "outputs": [],
   "source": [
    "from sentence_transformers import SentenceTransformer, util\n",
    "\n",
    "rr_model = SentenceTransformer('sentence-transformers/multi-qa-MiniLM-L6-cos-v1')\n"
   ]
  },
  {
   "cell_type": "code",
   "execution_count": 13,
   "metadata": {},
   "outputs": [
    {
     "data": {
      "text/html": [
       "<div>\n",
       "<style scoped>\n",
       "    .dataframe tbody tr th:only-of-type {\n",
       "        vertical-align: middle;\n",
       "    }\n",
       "\n",
       "    .dataframe tbody tr th {\n",
       "        vertical-align: top;\n",
       "    }\n",
       "\n",
       "    .dataframe thead th {\n",
       "        text-align: right;\n",
       "    }\n",
       "</style>\n",
       "<table border=\"1\" class=\"dataframe\">\n",
       "  <thead>\n",
       "    <tr style=\"text-align: right;\">\n",
       "      <th></th>\n",
       "      <th>index</th>\n",
       "      <th>title</th>\n",
       "      <th>selftext</th>\n",
       "      <th>url</th>\n",
       "      <th>creation_date</th>\n",
       "      <th>comments</th>\n",
       "      <th>token</th>\n",
       "      <th>split</th>\n",
       "    </tr>\n",
       "  </thead>\n",
       "  <tbody>\n",
       "    <tr>\n",
       "      <th>0</th>\n",
       "      <td>0</td>\n",
       "      <td>Would I be banned by an airline for skiplagging?</td>\n",
       "      <td>My wife and I have a flight from Quito to Vanc...</td>\n",
       "      <td>https://www.reddit.com/r/travel/comments/17tnw...</td>\n",
       "      <td>2023-11-12 08:35:29</td>\n",
       "      <td>I live in Vancouver as well and booking a flig...</td>\n",
       "      <td>996</td>\n",
       "      <td>I live in Vancouver as well and booking a flig...</td>\n",
       "    </tr>\n",
       "    <tr>\n",
       "      <th>0</th>\n",
       "      <td>0</td>\n",
       "      <td>Would I be banned by an airline for skiplagging?</td>\n",
       "      <td>My wife and I have a flight from Quito to Vanc...</td>\n",
       "      <td>https://www.reddit.com/r/travel/comments/17tnw...</td>\n",
       "      <td>2023-11-12 08:35:29</td>\n",
       "      <td>I live in Vancouver as well and booking a flig...</td>\n",
       "      <td>996</td>\n",
       "      <td>Annoying., Are you checking bags?</td>\n",
       "    </tr>\n",
       "    <tr>\n",
       "      <th>0</th>\n",
       "      <td>0</td>\n",
       "      <td>Would I be banned by an airline for skiplagging?</td>\n",
       "      <td>My wife and I have a flight from Quito to Vanc...</td>\n",
       "      <td>https://www.reddit.com/r/travel/comments/17tnw...</td>\n",
       "      <td>2023-11-12 08:35:29</td>\n",
       "      <td>I live in Vancouver as well and booking a flig...</td>\n",
       "      <td>996</td>\n",
       "      <td>If so, don't do this.</td>\n",
       "    </tr>\n",
       "    <tr>\n",
       "      <th>0</th>\n",
       "      <td>0</td>\n",
       "      <td>Would I be banned by an airline for skiplagging?</td>\n",
       "      <td>My wife and I have a flight from Quito to Vanc...</td>\n",
       "      <td>https://www.reddit.com/r/travel/comments/17tnw...</td>\n",
       "      <td>2023-11-12 08:35:29</td>\n",
       "      <td>I live in Vancouver as well and booking a flig...</td>\n",
       "      <td>996</td>\n",
       "      <td>It'll cause all sorts of problems for you, the...</td>\n",
       "    </tr>\n",
       "    <tr>\n",
       "      <th>0</th>\n",
       "      <td>0</td>\n",
       "      <td>Would I be banned by an airline for skiplagging?</td>\n",
       "      <td>My wife and I have a flight from Quito to Vanc...</td>\n",
       "      <td>https://www.reddit.com/r/travel/comments/17tnw...</td>\n",
       "      <td>2023-11-12 08:35:29</td>\n",
       "      <td>I live in Vancouver as well and booking a flig...</td>\n",
       "      <td>996</td>\n",
       "      <td>They'll be happy to use your seat for standbye...</td>\n",
       "    </tr>\n",
       "    <tr>\n",
       "      <th>...</th>\n",
       "      <td>...</td>\n",
       "      <td>...</td>\n",
       "      <td>...</td>\n",
       "      <td>...</td>\n",
       "      <td>...</td>\n",
       "      <td>...</td>\n",
       "      <td>...</td>\n",
       "      <td>...</td>\n",
       "    </tr>\n",
       "    <tr>\n",
       "      <th>10676</th>\n",
       "      <td>16286</td>\n",
       "      <td>Walkabout ideas?</td>\n",
       "      <td>Recent life events have left me needing a soci...</td>\n",
       "      <td>https://www.reddit.com/r/adventures/comments/1...</td>\n",
       "      <td>2023-01-22 07:34:05</td>\n",
       "      <td>I'm 42 and enjoy solo backcountry hiking as we...</td>\n",
       "      <td>258</td>\n",
       "      <td>Carvers gap to 19E is around 20 miles and capt...</td>\n",
       "    </tr>\n",
       "    <tr>\n",
       "      <th>10676</th>\n",
       "      <td>16286</td>\n",
       "      <td>Walkabout ideas?</td>\n",
       "      <td>Recent life events have left me needing a soci...</td>\n",
       "      <td>https://www.reddit.com/r/adventures/comments/1...</td>\n",
       "      <td>2023-01-22 07:34:05</td>\n",
       "      <td>I'm 42 and enjoy solo backcountry hiking as we...</td>\n",
       "      <td>258</td>\n",
       "      <td>Then there's Grayson Highlands, specifically M...</td>\n",
       "    </tr>\n",
       "    <tr>\n",
       "      <th>10676</th>\n",
       "      <td>16286</td>\n",
       "      <td>Walkabout ideas?</td>\n",
       "      <td>Recent life events have left me needing a soci...</td>\n",
       "      <td>https://www.reddit.com/r/adventures/comments/1...</td>\n",
       "      <td>2023-01-22 07:34:05</td>\n",
       "      <td>I'm 42 and enjoy solo backcountry hiking as we...</td>\n",
       "      <td>258</td>\n",
       "      <td>It's also around 20 miles.</td>\n",
       "    </tr>\n",
       "    <tr>\n",
       "      <th>10676</th>\n",
       "      <td>16286</td>\n",
       "      <td>Walkabout ideas?</td>\n",
       "      <td>Recent life events have left me needing a soci...</td>\n",
       "      <td>https://www.reddit.com/r/adventures/comments/1...</td>\n",
       "      <td>2023-01-22 07:34:05</td>\n",
       "      <td>I'm 42 and enjoy solo backcountry hiking as we...</td>\n",
       "      <td>258</td>\n",
       "      <td>I've also hiked the smokies section of the AT ...</td>\n",
       "    </tr>\n",
       "    <tr>\n",
       "      <th>10676</th>\n",
       "      <td>16286</td>\n",
       "      <td>Walkabout ideas?</td>\n",
       "      <td>Recent life events have left me needing a soci...</td>\n",
       "      <td>https://www.reddit.com/r/adventures/comments/1...</td>\n",
       "      <td>2023-01-22 07:34:05</td>\n",
       "      <td>I'm 42 and enjoy solo backcountry hiking as we...</td>\n",
       "      <td>258</td>\n",
       "      <td>You have to stay in shelters but it was very f...</td>\n",
       "    </tr>\n",
       "  </tbody>\n",
       "</table>\n",
       "<p>396334 rows × 8 columns</p>\n",
       "</div>"
      ],
      "text/plain": [
       "       index                                             title  \\\n",
       "0          0  Would I be banned by an airline for skiplagging?   \n",
       "0          0  Would I be banned by an airline for skiplagging?   \n",
       "0          0  Would I be banned by an airline for skiplagging?   \n",
       "0          0  Would I be banned by an airline for skiplagging?   \n",
       "0          0  Would I be banned by an airline for skiplagging?   \n",
       "...      ...                                               ...   \n",
       "10676  16286                                  Walkabout ideas?   \n",
       "10676  16286                                  Walkabout ideas?   \n",
       "10676  16286                                  Walkabout ideas?   \n",
       "10676  16286                                  Walkabout ideas?   \n",
       "10676  16286                                  Walkabout ideas?   \n",
       "\n",
       "                                                selftext  \\\n",
       "0      My wife and I have a flight from Quito to Vanc...   \n",
       "0      My wife and I have a flight from Quito to Vanc...   \n",
       "0      My wife and I have a flight from Quito to Vanc...   \n",
       "0      My wife and I have a flight from Quito to Vanc...   \n",
       "0      My wife and I have a flight from Quito to Vanc...   \n",
       "...                                                  ...   \n",
       "10676  Recent life events have left me needing a soci...   \n",
       "10676  Recent life events have left me needing a soci...   \n",
       "10676  Recent life events have left me needing a soci...   \n",
       "10676  Recent life events have left me needing a soci...   \n",
       "10676  Recent life events have left me needing a soci...   \n",
       "\n",
       "                                                     url        creation_date  \\\n",
       "0      https://www.reddit.com/r/travel/comments/17tnw...  2023-11-12 08:35:29   \n",
       "0      https://www.reddit.com/r/travel/comments/17tnw...  2023-11-12 08:35:29   \n",
       "0      https://www.reddit.com/r/travel/comments/17tnw...  2023-11-12 08:35:29   \n",
       "0      https://www.reddit.com/r/travel/comments/17tnw...  2023-11-12 08:35:29   \n",
       "0      https://www.reddit.com/r/travel/comments/17tnw...  2023-11-12 08:35:29   \n",
       "...                                                  ...                  ...   \n",
       "10676  https://www.reddit.com/r/adventures/comments/1...  2023-01-22 07:34:05   \n",
       "10676  https://www.reddit.com/r/adventures/comments/1...  2023-01-22 07:34:05   \n",
       "10676  https://www.reddit.com/r/adventures/comments/1...  2023-01-22 07:34:05   \n",
       "10676  https://www.reddit.com/r/adventures/comments/1...  2023-01-22 07:34:05   \n",
       "10676  https://www.reddit.com/r/adventures/comments/1...  2023-01-22 07:34:05   \n",
       "\n",
       "                                                comments  token  \\\n",
       "0      I live in Vancouver as well and booking a flig...    996   \n",
       "0      I live in Vancouver as well and booking a flig...    996   \n",
       "0      I live in Vancouver as well and booking a flig...    996   \n",
       "0      I live in Vancouver as well and booking a flig...    996   \n",
       "0      I live in Vancouver as well and booking a flig...    996   \n",
       "...                                                  ...    ...   \n",
       "10676  I'm 42 and enjoy solo backcountry hiking as we...    258   \n",
       "10676  I'm 42 and enjoy solo backcountry hiking as we...    258   \n",
       "10676  I'm 42 and enjoy solo backcountry hiking as we...    258   \n",
       "10676  I'm 42 and enjoy solo backcountry hiking as we...    258   \n",
       "10676  I'm 42 and enjoy solo backcountry hiking as we...    258   \n",
       "\n",
       "                                                   split  \n",
       "0      I live in Vancouver as well and booking a flig...  \n",
       "0                      Annoying., Are you checking bags?  \n",
       "0                                  If so, don't do this.  \n",
       "0      It'll cause all sorts of problems for you, the...  \n",
       "0      They'll be happy to use your seat for standbye...  \n",
       "...                                                  ...  \n",
       "10676  Carvers gap to 19E is around 20 miles and capt...  \n",
       "10676  Then there's Grayson Highlands, specifically M...  \n",
       "10676                         It's also around 20 miles.  \n",
       "10676  I've also hiked the smokies section of the AT ...  \n",
       "10676  You have to stay in shelters but it was very f...  \n",
       "\n",
       "[396334 rows x 8 columns]"
      ]
     },
     "execution_count": 13,
     "metadata": {},
     "output_type": "execute_result"
    }
   ],
   "source": [
    "reddit_pc = reddit_pc.explode('split')\n",
    "reddit_pc "
   ]
  },
  {
   "cell_type": "code",
   "execution_count": 46,
   "metadata": {},
   "outputs": [
    {
     "name": "stderr",
     "output_type": "stream",
     "text": [
      "67it [00:04, 17.64it/s]"
     ]
    }
   ],
   "source": [
    "for i,r in tqdm(reddit_pc[58718:].iterrows()):\n",
    "    q_emb = rr_model.encode(r['title'] + ' ' + r['selftext'])\n",
    "    com_emb = rr_model.encode(r['split'])\n",
    "    question_split_scores = util.dot_score([q_emb],[com_emb])[0].cpu().tolist()\n",
    "    # print(question_dot_scores)\n",
    "    reddit_pc.loc[i,'dot'] = question_split_scores[0]\n",
    "    \n",
    "    "
   ]
  },
  {
   "cell_type": "code",
   "execution_count": 26,
   "metadata": {},
   "outputs": [
    {
     "data": {
      "text/plain": [
       "(58717, 9)"
      ]
     },
     "execution_count": 26,
     "metadata": {},
     "output_type": "execute_result"
    }
   ],
   "source": [
    "reddit_pc.dropna().shape"
   ]
  },
  {
   "cell_type": "code",
   "execution_count": 27,
   "metadata": {},
   "outputs": [],
   "source": [
    "def get_max_score(group):\n",
    "    return group.loc[group['dot'].idxmax()]"
   ]
  },
  {
   "cell_type": "code",
   "execution_count": 41,
   "metadata": {},
   "outputs": [],
   "source": [
    "reddit_pc_no_nulls = reddit_pc.dropna()\n",
    "reddit_pc_no_nulls_cleaned = reddit_pc_no_nulls.loc[reddit_pc_no_nulls['dot'] > 0.6]\n",
    "\n",
    "reddit_pc_no_nulls_cleaned_grouped = reddit_pc_no_nulls_cleaned.groupby('selftext').apply(get_max_score).drop_duplicates()\n",
    "# reddit_pc_no_nulls"
   ]
  },
  {
   "cell_type": "code",
   "execution_count": 42,
   "metadata": {},
   "outputs": [
    {
     "data": {
      "text/plain": [
       "(2095, 9)"
      ]
     },
     "execution_count": 42,
     "metadata": {},
     "output_type": "execute_result"
    }
   ],
   "source": [
    "reddit_pc_no_nulls_cleaned_grouped.shape"
   ]
  },
  {
   "cell_type": "code",
   "execution_count": 45,
   "metadata": {},
   "outputs": [
    {
     "data": {
      "text/plain": [
       "78"
      ]
     },
     "execution_count": 45,
     "metadata": {},
     "output_type": "execute_result"
    }
   ],
   "source": [
    "reddit_pc_no_nulls_cleaned_grouped['selftext'].nunique()"
   ]
  },
  {
   "cell_type": "code",
   "execution_count": 36,
   "metadata": {},
   "outputs": [
    {
     "data": {
      "text/plain": [
       "{'dimension': 1536,\n",
       " 'index_fullness': 0.0,\n",
       " 'namespaces': {},\n",
       " 'total_vector_count': 0}"
      ]
     },
     "execution_count": 36,
     "metadata": {},
     "output_type": "execute_result"
    }
   ],
   "source": [
    "index_name = 'wanderchat-reddit-rag'\n",
    "existing_indexes = [\n",
    "    index_info[\"name\"] for index_info in pc.list_indexes()\n",
    "]\n",
    "\n",
    "# check if index already exists (it shouldn't if this is first time)\n",
    "if index_name not in existing_indexes:\n",
    "    # if does not exist, create index\n",
    "    pc.create_index(\n",
    "        index_name,\n",
    "        dimension=1536,  # dimensionality of ada 002\n",
    "        metric='cosine',\n",
    "        spec=spec\n",
    "    )\n",
    "    # wait for index to be initialized\n",
    "    while not pc.describe_index(index_name).status['ready']:\n",
    "        time.sleep(1)\n",
    "\n",
    "# connect to index\n",
    "index = pc.Index(index_name)\n",
    "time.sleep(1)\n",
    "# view index stats\n",
    "index.describe_index_stats()"
   ]
  },
  {
   "cell_type": "code",
   "execution_count": 427,
   "metadata": {},
   "outputs": [
    {
     "name": "stderr",
     "output_type": "stream",
     "text": [
      "  0%|          | 7/3964 [00:41<6:34:49,  5.99s/it]"
     ]
    }
   ],
   "source": [
    "data = reddit_pc_no_nulls_cleaned_grouped  # this makes it easier to iterate over the dataset\n",
    "\n",
    "batch_size = 100\n",
    "\n",
    "for i in tqdm(range(0, len(data), batch_size)):\n",
    "    try:\n",
    "        i_end = min(len(data), i+batch_size)\n",
    "        # get batch of data\n",
    "        batch = data.iloc[i:i_end]\n",
    "        # generate unique ids for each chunk\n",
    "        ids = [f\"{x['index']}\" for i, x in batch.iterrows()]\n",
    "        # get text to embed\n",
    "        texts = [x['split'] for _, x in batch.iterrows()]\n",
    "        # embed text\n",
    "        embeds = embed_model.embed_documents(texts)\n",
    "        # get metadata to store in Pinecone\n",
    "        metadata = [\n",
    "            {'text': x['split'],\n",
    "            'source': x['url'],\n",
    "            'title': x['title'],\n",
    "            'question':x['selftext'],\n",
    "            'creation_date':x['creation_date']} for i, x in batch.iterrows()\n",
    "        ]\n",
    "        # add to Pinecone\n",
    "        index.upsert(vectors=zip(ids, embeds, metadata))\n",
    "    except:\n",
    "        pass"
   ]
  },
  {
   "cell_type": "code",
   "execution_count": null,
   "metadata": {},
   "outputs": [],
   "source": []
  }
 ],
 "metadata": {
  "kernelspec": {
   "display_name": "venv",
   "language": "python",
   "name": "python3"
  },
  "language_info": {
   "codemirror_mode": {
    "name": "ipython",
    "version": 3
   },
   "file_extension": ".py",
   "mimetype": "text/x-python",
   "name": "python",
   "nbconvert_exporter": "python",
   "pygments_lexer": "ipython3",
   "version": "3.10.11"
  }
 },
 "nbformat": 4,
 "nbformat_minor": 2
}
