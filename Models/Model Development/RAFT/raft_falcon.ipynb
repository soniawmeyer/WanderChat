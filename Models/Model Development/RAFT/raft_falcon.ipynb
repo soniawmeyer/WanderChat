{
 "cells": [
  {
   "cell_type": "markdown",
   "metadata": {},
   "source": [
    "https://towardsdatascience.com/12-rag-pain-points-and-proposed-solutions-43709939a28c\n",
    "\n",
    "https://www.mixedbread.ai/blog/mxbai-rerank-v1\n",
    "\n",
    "https://medium.com/@vinitgela/decoding-raft-and-raft-datasetpack-by-llamaindex-5be9d912f992\n",
    "\n",
    "https://arxiv.org/pdf/2403.10131.pdf\n",
    "\n",
    "https://github.com/ShishirPatil/gorilla/blob/main/raft/raft.py\n",
    "\n",
    "https://medium.com/@ud.chandra/instruction-fine-tuning-llama-2-with-pefts-qlora-method-d6a801ebb19"
   ]
  },
  {
   "cell_type": "code",
   "execution_count": 1,
   "metadata": {},
   "outputs": [],
   "source": [
    "import pandas as pd\n",
    "from typing import Literal, Any\n",
    "import argparse\n",
    "from openai import OpenAI\n",
    "\n",
    "from datasets import Dataset, load_dataset\n",
    "from transformers import AutoTokenizer\n",
    "import json\n",
    "import random\n",
    "from langchain_experimental.text_splitter import SemanticChunker\n",
    "from langchain.text_splitter import RecursiveCharacterTextSplitter\n",
    "from langchain.document_loaders import DataFrameLoader\n",
    "\n",
    "#from langchain.embeddings.sentence_transformer import SentenceTransformerEmbeddings\n",
    "from sentence_transformers import SentenceTransformer\n",
    "from langchain_openai.embeddings import OpenAIEmbeddings\n",
    "from langchain.llms import Ollama\n",
    "from tqdm import tqdm\n"
   ]
  },
  {
   "cell_type": "code",
   "execution_count": null,
   "metadata": {},
   "outputs": [],
   "source": [
    "#!pip install pandas datasets langchain sentence_transformers tqdm openai langchain_experimental langchain_openai"
   ]
  },
  {
   "cell_type": "code",
   "execution_count": 2,
   "metadata": {},
   "outputs": [
    {
     "name": "stderr",
     "output_type": "stream",
     "text": [
      "C:\\Users\\Bertha\\Anaconda3\\lib\\site-packages\\bitsandbytes\\cextension.py:34: UserWarning: The installed version of bitsandbytes was compiled without GPU support. 8-bit optimizers, 8-bit multiplication, and GPU quantization are unavailable.\n",
      "  warn(\"The installed version of bitsandbytes was compiled without GPU support. \"\n"
     ]
    },
    {
     "name": "stdout",
     "output_type": "stream",
     "text": [
      "'NoneType' object has no attribute 'cadam32bit_grad_fp32'\n"
     ]
    },
    {
     "data": {
      "text/plain": [
       "Ollama(model='mistral')"
      ]
     },
     "execution_count": 2,
     "metadata": {},
     "output_type": "execute_result"
    }
   ],
   "source": [
    "llm = Ollama(model='mistral')\n",
    "embeddings = SentenceTransformer(\"all-MiniLM-L6-v2\")\n",
    "llm"
   ]
  },
  {
   "cell_type": "code",
   "execution_count": 3,
   "metadata": {},
   "outputs": [
    {
     "data": {
      "text/plain": [
       "(10482, 11)"
      ]
     },
     "execution_count": 3,
     "metadata": {},
     "output_type": "execute_result"
    }
   ],
   "source": [
    "data = pd.read_csv(\"reddit_dot_scores_quality.csv\", index_col=\"Unnamed: 0\")\n",
    "data.shape"
   ]
  },
  {
   "cell_type": "code",
   "execution_count": 4,
   "metadata": {},
   "outputs": [
    {
     "data": {
      "text/plain": [
       "(73, 11)"
      ]
     },
     "execution_count": 4,
     "metadata": {},
     "output_type": "execute_result"
    }
   ],
   "source": [
    "data = data.loc[data['title_query_falcon_dot'] > 0.8]\n",
    "data.shape"
   ]
  },
  {
   "cell_type": "code",
   "execution_count": 5,
   "metadata": {},
   "outputs": [
    {
     "data": {
      "text/plain": [
       "22709"
      ]
     },
     "execution_count": 5,
     "metadata": {},
     "output_type": "execute_result"
    }
   ],
   "source": [
    "text = ''.join(data['falcon_summary'].values.tolist())\n",
    "len(text)"
   ]
  },
  {
   "cell_type": "code",
   "execution_count": 6,
   "metadata": {},
   "outputs": [],
   "source": [
    "question_loader = DataFrameLoader(data, page_content_column=\"falcon_summary\")\n",
    "question_data = question_loader.load()\n",
    "\n",
    "splitter = RecursiveCharacterTextSplitter(chunk_size=400,\n",
    "                                          chunk_overlap=20)\n",
    "chunks = splitter.split_documents(question_data)\n",
    "\n",
    "chunks = [chunk.page_content for chunk in chunks]"
   ]
  },
  {
   "cell_type": "code",
   "execution_count": 7,
   "metadata": {},
   "outputs": [
    {
     "data": {
      "text/plain": [
       "87"
      ]
     },
     "execution_count": 7,
     "metadata": {},
     "output_type": "execute_result"
    }
   ],
   "source": [
    "len(chunks)"
   ]
  },
  {
   "cell_type": "code",
   "execution_count": 8,
   "metadata": {},
   "outputs": [
    {
     "data": {
      "text/plain": [
       "44.353515625"
      ]
     },
     "execution_count": 8,
     "metadata": {},
     "output_type": "execute_result"
    }
   ],
   "source": [
    "chunk_size  = 512\n",
    "num_distract_docs = 4\n",
    "num_chunks = len(text) / chunk_size \n",
    "num_chunks"
   ]
  },
  {
   "cell_type": "code",
   "execution_count": 9,
   "metadata": {},
   "outputs": [],
   "source": [
    "text_splitter = SemanticChunker(OpenAIEmbeddings(openai_api_key='''input key here'''), number_of_chunks=num_chunks)\n",
    "chunks = text_splitter.create_documents([text])\n",
    "chunks = [chunk.page_content for chunk in chunks]"
   ]
  },
  {
   "cell_type": "code",
   "execution_count": 10,
   "metadata": {},
   "outputs": [],
   "source": [
    "def generate_instructions_gen(chunk: Any, x: int = 5) -> list[str]:\n",
    "    \"\"\"\n",
    "    Generates `x` questions / use cases for `chunk`. Used when the input document is of general types \n",
    "    `pdf`, `json`, or `txt`.\n",
    "    \"\"\"\n",
    "    \n",
    "    response = llm.invoke(f\"\"\"You are a synthetic question-answer pair generator. Given a chunk of context about some topic(s), \n",
    "    generate {x} example questions a user could ask and would be answered using information from the chunk. \n",
    "    For example, if the given context was a Wikipedia paragraph about the United States, \n",
    "    an example question could be 'How many states are in the United States?'\n",
    "    The questions should be able to be answered in a few words or less. Include only the questions in your response.\n",
    "                        \n",
    "    {str(chunk)}\"\"\")\n",
    "\n",
    "    queries = response\n",
    "    #queries = [strip_str(q) for q in queries]\n",
    "    #queries = [q for q in queries if any(c.isalpha() for c in q)]\n",
    "    queries = [q.split('.')[1].strip() for q in queries.split('\\n')]\n",
    "\n",
    "    return queries\n",
    "\n",
    "def encode_question_gen(question: str, chunk: Any) -> list[str]:\n",
    "    \"\"\"\n",
    "    Encode multiple prompt instructions into a single string for the general case.\n",
    "    \"\"\"\n",
    "    \n",
    "    #prompts = []\n",
    "        \n",
    "    prompt = \"\"\"\n",
    "        You are a helpful question answerer who can provide an answer given a question and relevant context.\n",
    "        Question: {question}\\nContext: {context}\\n\n",
    "        Answer this question using the information given in the context above. Here is things to pay attention to: \n",
    "        - First provide step-by-step reasoning on how to answer the question. \n",
    "        - In the reasoning, if you need to copy paste some sentences from the context, include them in ##begin_quote## and ##end_quote##. This would mean that things outside of ##begin_quote## and ##end_quote## are not directly copy paste from the context. \n",
    "        - End your response with final answer in the form <ANSWER>: $answer, the answer should be succint.\n",
    "    \"\"\".format(question=question, context=str(chunk))\n",
    "    return prompt\n",
    "\n",
    "def generate_label(question: str, context: Any): #-> str | None:\n",
    "    \"\"\"\n",
    "    Generates the label / answer to `question` using `context` and GPT-4.\n",
    "    \"\"\"\n",
    "    question = encode_question_gen(question, context)\n",
    "    response = llm(question)\n",
    "    return response\n",
    "\n",
    "def add_chunk_to_dataset(\n",
    "    chunks: list[str], \n",
    "    chunk: str, \n",
    "    x: int = 5, \n",
    "    num_distract: int = 3, \n",
    "    p: float = 1.0\n",
    ") -> None:\n",
    "    \"\"\"\n",
    "    Given a chunk, create {Q, A, D} triplets and add them to the dataset.\n",
    "    \"\"\"\n",
    "    global ds\n",
    "    i = chunks.index(chunk)\n",
    "    #print(\"Generating instructions...\")\n",
    "    qs = generate_instructions_gen(chunk, x)\n",
    "    for q in qs:\n",
    "        datapt = {\n",
    "            \"id\": None,\n",
    "            \"type\": None,\n",
    "            \"question\": None,\n",
    "            \"context\": None,\n",
    "            \"oracle_context\": None,\n",
    "            \"cot_answer\": None\n",
    "        }\n",
    "\n",
    "        datapt[\"id\"] = f\"seed_task_{0 if not ds else ds.num_rows}\"\n",
    "        datapt[\"type\"] =  \"general\"\n",
    "        datapt[\"question\"] = q\n",
    "\n",
    "        # add num_distract distractor docs\n",
    "        docs = [chunk]\n",
    "        indices = list(range(0, len(chunks)))\n",
    "        indices.remove(i)\n",
    "        for j in random.sample(indices, num_distract):\n",
    "            docs.append(chunks[j])\n",
    "        # decides whether to add oracle document\n",
    "        oracle = random.uniform(0, 1) < p\n",
    "        if not oracle:\n",
    "            docs[0] = chunks[random.sample(indices, 1)[0]]\n",
    "        random.shuffle(docs)\n",
    "\n",
    "        d = {\n",
    "            \"title\": [],\n",
    "            \"sentences\": []\n",
    "        }\n",
    "\n",
    "        d[\"title\"].append([\"placeholder_title\"]*(num_distract+1))\n",
    "        d[\"sentences\"].append(docs)\n",
    "        datapt[\"context\"] = d\n",
    "        datapt[\"oracle_context\"] = chunk\n",
    "\n",
    "        # add answer to q\n",
    "        datapt[\"cot_answer\"] = generate_label(q, chunk) \n",
    "\n",
    "        # construct model instruction \n",
    "        context = \"\"\n",
    "        for doc in docs:\n",
    "            context += \"<DOCUMENT>\" + str(doc) + \"</DOCUMENT>\\n\"\n",
    "        context += q\n",
    "        datapt[\"instruction\"] = context\n",
    "\n",
    "        # add to dataset\n",
    "        if not ds:\n",
    "            # init ds\n",
    "            datapt[\"id\"] = [datapt[\"id\"]]\n",
    "            datapt[\"type\"] = [datapt[\"type\"]]\n",
    "            datapt[\"question\"] = [datapt[\"question\"]]\n",
    "            datapt[\"context\"] = [datapt[\"context\"]]\n",
    "            datapt[\"oracle_context\"] = [datapt[\"oracle_context\"]]\n",
    "            datapt[\"cot_answer\"] = [datapt[\"cot_answer\"]]\n",
    "            datapt[\"instruction\"] = [datapt[\"instruction\"]]\n",
    "            print(datapt)\n",
    "            ds = Dataset.from_dict(datapt)\n",
    "        else:\n",
    "            ds = ds.add_item(datapt)"
   ]
  },
  {
   "cell_type": "markdown",
   "metadata": {},
   "source": [
    "## example of synthetic dataset"
   ]
  },
  {
   "cell_type": "code",
   "execution_count": 12,
   "metadata": {},
   "outputs": [
    {
     "name": "stdout",
     "output_type": "stream",
     "text": [
      "chunk example\n",
      "You can definitely go into Lisbon and enjoy a meal, walk around for a couple hours before your boarding time . The metro gets you into Lisbon from the airport in like minutes . If you have lots of time, i would definitely try to go to Lisbon and get something to eat and walk around a bit, better than spending six hours on the airport .Otherwise your extension will be automatically cancelled when HR cancel your work permit . Youll need to leave the country immediately you can get a day extension to deal with this, but need to apply for that in person at any immigration office . If youre still on the books, you should be able to renew it as usual .The idea of an Osaka Expo and the size of its budget have become too expensive, and countries are now withdrawing from the competition . This is a good article about Mexico also making a hard decision .You can just bring a cat directly through immigration in Amsterdam without any issue, but you will need to fly to Oslo first unless you happen to be relocating in the very far north . If you are traveling with a pet to Norway from a country outside the EUEEA, you can only arrive via Oslo Airport Gardermoen or via Storskog Kirkenes . Otherwise youll have to pay for the obligatory quarantine., Microchip, IDdocuments, rabies vaccination and someThe key to having a neighbourhood pub and being a regular is going often . You don't need to do anything other than going, buying a pint and sitting there read if you want or do whatever else . \n",
      "\n",
      "Generative questions\n",
      "['How long does it take to get from Lisbon airport to the city center by metro?', 'Which airports can I arrive at in Norway with a pet from outside the EEA?', 'What is required for traveling with a pet to Norway from outside the EEA?', 'Why are countries withdrawing from the Osaka Expo competition?', 'How can one extend their stay in Portugal when HR cancels their work permit?'] \n",
      "\n",
      "CoT answers\n"
     ]
    },
    {
     "name": "stderr",
     "output_type": "stream",
     "text": [
      "C:\\Users\\Bertha\\Anaconda3\\lib\\site-packages\\langchain_core\\_api\\deprecation.py:117: LangChainDeprecationWarning: The function `__call__` was deprecated in LangChain 0.1.7 and will be removed in 0.2.0. Use invoke instead.\n",
      "  warn_deprecated(\n"
     ]
    },
    {
     "name": "stdout",
     "output_type": "stream",
     "text": [
      " To answer the first question, \"How long does it take to get from Lisbon airport to the city center by metro?\", according to the context provided, the metro gets you into Lisbon from the airport in just a few minutes.\n",
      "##begin_quote## If you have lots of time, I would definitely try to go to Lisbon and get something to eat and walk around a bit, better than spending six hours on the airport. ##end_quote##\n",
      "\n",
      "Therefore, the answer is: <ANSWER>: It takes only a few minutes by metro to reach Lisbon city center from the airport. \n",
      "\n"
     ]
    }
   ],
   "source": [
    "print(\"chunk example\")\n",
    "print(chunks[0],\"\\n\")\n",
    "\n",
    "print(\"Generative questions\")\n",
    "q = generate_instructions_gen(chunks[0], 5)\n",
    "print(q,\"\\n\")\n",
    "\n",
    "print(\"CoT answers\")\n",
    "cot = generate_label(q, chunks[0])\n",
    "print(cot,\"\\n\")"
   ]
  },
  {
   "cell_type": "code",
   "execution_count": 13,
   "metadata": {},
   "outputs": [
    {
     "name": "stderr",
     "output_type": "stream",
     "text": [
      "\r\n",
      "  0%|          | 0/45 [00:00<?, ?it/s]"
     ]
    },
    {
     "name": "stdout",
     "output_type": "stream",
     "text": [
      "{'id': ['seed_task_0'], 'type': ['general'], 'question': ['How long does it take to get from Lisbon airport to the city center via metro?'], 'context': [{'title': [['placeholder_title', 'placeholder_title', 'placeholder_title', 'placeholder_title', 'placeholder_title']], 'sentences': [['Its not the best or biggest part of my trip, but like good food, it adds to it . For me its about spending time with myself, zero expectations of meeting others or making friends, thats how I am in real life too . The thing I see on this sub is that I can always meet up with them later or never .My biggest gripe with solo travel is that you have full control when you want to be among people. And you can nope out whenever you want. Welcome to the club!, I had a friend who complained about everything, left star reviews on Google, and constantly complained about his feet getting tired. I swear to god, this type of person is the most horrible to travel with.', 'Big nightclubs. Good access to boat tours.', 'The homeowner lives out of the country most of the year, so I am the guest contact . When they have responded enough times they will begin to crack down on them further and perhaps get code enforcement involved.Seoulo trip ahaha Have an awesome time and enjoy the sights and yummy food! Hey, Ill be in Seoul th timer from Sept Oct .I will be in Phuket Kamala around the rd of November .', 'Easiest but most expensive would be go to a foreigner clinic and see an English speaking doctor . I noticed there are different types of hospitals in Shanghai for getting an STD checkup .Haneda will be the cheapest by a bit on public transportation, but Narita will be easier . From Narita Airport to Kashiwa, it costs about , yen by train and transfer to ShinKamagaya Station .', \"You can definitely go into Lisbon and enjoy a meal, walk around for a couple hours before your boarding time . The metro gets you into Lisbon from the airport in like minutes . If you have lots of time, i would definitely try to go to Lisbon and get something to eat and walk around a bit, better than spending six hours on the airport .Otherwise your extension will be automatically cancelled when HR cancel your work permit . Youll need to leave the country immediately you can get a day extension to deal with this, but need to apply for that in person at any immigration office . If youre still on the books, you should be able to renew it as usual .The idea of an Osaka Expo and the size of its budget have become too expensive, and countries are now withdrawing from the competition . This is a good article about Mexico also making a hard decision .You can just bring a cat directly through immigration in Amsterdam without any issue, but you will need to fly to Oslo first unless you happen to be relocating in the very far north . If you are traveling with a pet to Norway from a country outside the EUEEA, you can only arrive via Oslo Airport Gardermoen or via Storskog Kirkenes . Otherwise youll have to pay for the obligatory quarantine., Microchip, IDdocuments, rabies vaccination and someThe key to having a neighbourhood pub and being a regular is going often . You don't need to do anything other than going, buying a pint and sitting there read if you want or do whatever else .\"]]}], 'oracle_context': [\"You can definitely go into Lisbon and enjoy a meal, walk around for a couple hours before your boarding time . The metro gets you into Lisbon from the airport in like minutes . If you have lots of time, i would definitely try to go to Lisbon and get something to eat and walk around a bit, better than spending six hours on the airport .Otherwise your extension will be automatically cancelled when HR cancel your work permit . Youll need to leave the country immediately you can get a day extension to deal with this, but need to apply for that in person at any immigration office . If youre still on the books, you should be able to renew it as usual .The idea of an Osaka Expo and the size of its budget have become too expensive, and countries are now withdrawing from the competition . This is a good article about Mexico also making a hard decision .You can just bring a cat directly through immigration in Amsterdam without any issue, but you will need to fly to Oslo first unless you happen to be relocating in the very far north . If you are traveling with a pet to Norway from a country outside the EUEEA, you can only arrive via Oslo Airport Gardermoen or via Storskog Kirkenes . Otherwise youll have to pay for the obligatory quarantine., Microchip, IDdocuments, rabies vaccination and someThe key to having a neighbourhood pub and being a regular is going often . You don't need to do anything other than going, buying a pint and sitting there read if you want or do whatever else .\"], 'cot_answer': [\" To answer the question of how long it takes to get from Lisbon airport to the city center via metro using the context provided, let's follow these steps:\\n1. The context mentions that going into Lisbon and enjoying some time there is recommended before heading back to the airport.\\n2. It also states that getting to Lisbon from the airport using the metro takes only a few minutes.\\n3. Therefore, based on the information given in the context, it can be inferred that it takes approximately a few minutes to get from Lisbon airport to the city center via metro.\\n<ANSWER>: It takes around 5-10 minutes to get from Lisbon airport to the city center via metro.\"], 'instruction': [\"<DOCUMENT>Its not the best or biggest part of my trip, but like good food, it adds to it . For me its about spending time with myself, zero expectations of meeting others or making friends, thats how I am in real life too . The thing I see on this sub is that I can always meet up with them later or never .My biggest gripe with solo travel is that you have full control when you want to be among people. And you can nope out whenever you want. Welcome to the club!, I had a friend who complained about everything, left star reviews on Google, and constantly complained about his feet getting tired. I swear to god, this type of person is the most horrible to travel with.</DOCUMENT>\\n<DOCUMENT>Big nightclubs. Good access to boat tours.</DOCUMENT>\\n<DOCUMENT>The homeowner lives out of the country most of the year, so I am the guest contact . When they have responded enough times they will begin to crack down on them further and perhaps get code enforcement involved.Seoulo trip ahaha Have an awesome time and enjoy the sights and yummy food! Hey, Ill be in Seoul th timer from Sept Oct .I will be in Phuket Kamala around the rd of November .</DOCUMENT>\\n<DOCUMENT>Easiest but most expensive would be go to a foreigner clinic and see an English speaking doctor . I noticed there are different types of hospitals in Shanghai for getting an STD checkup .Haneda will be the cheapest by a bit on public transportation, but Narita will be easier . From Narita Airport to Kashiwa, it costs about , yen by train and transfer to ShinKamagaya Station .</DOCUMENT>\\n<DOCUMENT>You can definitely go into Lisbon and enjoy a meal, walk around for a couple hours before your boarding time . The metro gets you into Lisbon from the airport in like minutes . If you have lots of time, i would definitely try to go to Lisbon and get something to eat and walk around a bit, better than spending six hours on the airport .Otherwise your extension will be automatically cancelled when HR cancel your work permit . Youll need to leave the country immediately you can get a day extension to deal with this, but need to apply for that in person at any immigration office . If youre still on the books, you should be able to renew it as usual .The idea of an Osaka Expo and the size of its budget have become too expensive, and countries are now withdrawing from the competition . This is a good article about Mexico also making a hard decision .You can just bring a cat directly through immigration in Amsterdam without any issue, but you will need to fly to Oslo first unless you happen to be relocating in the very far north . If you are traveling with a pet to Norway from a country outside the EUEEA, you can only arrive via Oslo Airport Gardermoen or via Storskog Kirkenes . Otherwise youll have to pay for the obligatory quarantine., Microchip, IDdocuments, rabies vaccination and someThe key to having a neighbourhood pub and being a regular is going often . You don't need to do anything other than going, buying a pint and sitting there read if you want or do whatever else .</DOCUMENT>\\nHow long does it take to get from Lisbon airport to the city center via metro?\"]}\n"
     ]
    },
    {
     "name": "stderr",
     "output_type": "stream",
     "text": [
      "100%|██████████| 45/45 [21:45:51<00:00, 1741.15s/it]   \n"
     ]
    }
   ],
   "source": [
    "ds = None\n",
    "for chunk in tqdm(chunks):\n",
    "    add_chunk_to_dataset(chunks, chunk, 5, num_distract_docs)"
   ]
  },
  {
   "cell_type": "markdown",
   "metadata": {},
   "source": [
    "* 12am: 29%\n",
    "* 7am: 64%\n",
    "    * Took 7 hours to complete 35%\n",
    "* 11:00am: 80%\n",
    "* 3pm: 96%\n",
    "* ~4pm completed 100%"
   ]
  },
  {
   "cell_type": "code",
   "execution_count": 27,
   "metadata": {},
   "outputs": [
    {
     "data": {
      "text/plain": [
       "Dataset({\n",
       "    features: ['id', 'type', 'question', 'context', 'oracle_context', 'cot_answer', 'instruction'],\n",
       "    num_rows: 226\n",
       "})"
      ]
     },
     "execution_count": 27,
     "metadata": {},
     "output_type": "execute_result"
    }
   ],
   "source": [
    "ds #226 rows only"
   ]
  },
  {
   "cell_type": "code",
   "execution_count": 15,
   "metadata": {},
   "outputs": [
    {
     "data": {
      "text/plain": [
       "{'id': 'seed_task_0',\n",
       " 'type': 'general',\n",
       " 'question': 'How long does it take to get from Lisbon airport to the city center via metro?',\n",
       " 'context': {'sentences': [['Its not the best or biggest part of my trip, but like good food, it adds to it . For me its about spending time with myself, zero expectations of meeting others or making friends, thats how I am in real life too . The thing I see on this sub is that I can always meet up with them later or never .My biggest gripe with solo travel is that you have full control when you want to be among people. And you can nope out whenever you want. Welcome to the club!, I had a friend who complained about everything, left star reviews on Google, and constantly complained about his feet getting tired. I swear to god, this type of person is the most horrible to travel with.',\n",
       "    'Big nightclubs. Good access to boat tours.',\n",
       "    'The homeowner lives out of the country most of the year, so I am the guest contact . When they have responded enough times they will begin to crack down on them further and perhaps get code enforcement involved.Seoulo trip ahaha Have an awesome time and enjoy the sights and yummy food! Hey, Ill be in Seoul th timer from Sept Oct .I will be in Phuket Kamala around the rd of November .',\n",
       "    'Easiest but most expensive would be go to a foreigner clinic and see an English speaking doctor . I noticed there are different types of hospitals in Shanghai for getting an STD checkup .Haneda will be the cheapest by a bit on public transportation, but Narita will be easier . From Narita Airport to Kashiwa, it costs about , yen by train and transfer to ShinKamagaya Station .',\n",
       "    \"You can definitely go into Lisbon and enjoy a meal, walk around for a couple hours before your boarding time . The metro gets you into Lisbon from the airport in like minutes . If you have lots of time, i would definitely try to go to Lisbon and get something to eat and walk around a bit, better than spending six hours on the airport .Otherwise your extension will be automatically cancelled when HR cancel your work permit . Youll need to leave the country immediately you can get a day extension to deal with this, but need to apply for that in person at any immigration office . If youre still on the books, you should be able to renew it as usual .The idea of an Osaka Expo and the size of its budget have become too expensive, and countries are now withdrawing from the competition . This is a good article about Mexico also making a hard decision .You can just bring a cat directly through immigration in Amsterdam without any issue, but you will need to fly to Oslo first unless you happen to be relocating in the very far north . If you are traveling with a pet to Norway from a country outside the EUEEA, you can only arrive via Oslo Airport Gardermoen or via Storskog Kirkenes . Otherwise youll have to pay for the obligatory quarantine., Microchip, IDdocuments, rabies vaccination and someThe key to having a neighbourhood pub and being a regular is going often . You don't need to do anything other than going, buying a pint and sitting there read if you want or do whatever else .\"]],\n",
       "  'title': [['placeholder_title',\n",
       "    'placeholder_title',\n",
       "    'placeholder_title',\n",
       "    'placeholder_title',\n",
       "    'placeholder_title']]},\n",
       " 'oracle_context': \"You can definitely go into Lisbon and enjoy a meal, walk around for a couple hours before your boarding time . The metro gets you into Lisbon from the airport in like minutes . If you have lots of time, i would definitely try to go to Lisbon and get something to eat and walk around a bit, better than spending six hours on the airport .Otherwise your extension will be automatically cancelled when HR cancel your work permit . Youll need to leave the country immediately you can get a day extension to deal with this, but need to apply for that in person at any immigration office . If youre still on the books, you should be able to renew it as usual .The idea of an Osaka Expo and the size of its budget have become too expensive, and countries are now withdrawing from the competition . This is a good article about Mexico also making a hard decision .You can just bring a cat directly through immigration in Amsterdam without any issue, but you will need to fly to Oslo first unless you happen to be relocating in the very far north . If you are traveling with a pet to Norway from a country outside the EUEEA, you can only arrive via Oslo Airport Gardermoen or via Storskog Kirkenes . Otherwise youll have to pay for the obligatory quarantine., Microchip, IDdocuments, rabies vaccination and someThe key to having a neighbourhood pub and being a regular is going often . You don't need to do anything other than going, buying a pint and sitting there read if you want or do whatever else .\",\n",
       " 'cot_answer': \" To answer the question of how long it takes to get from Lisbon airport to the city center via metro using the context provided, let's follow these steps:\\n1. The context mentions that going into Lisbon and enjoying some time there is recommended before heading back to the airport.\\n2. It also states that getting to Lisbon from the airport using the metro takes only a few minutes.\\n3. Therefore, based on the information given in the context, it can be inferred that it takes approximately a few minutes to get from Lisbon airport to the city center via metro.\\n<ANSWER>: It takes around 5-10 minutes to get from Lisbon airport to the city center via metro.\",\n",
       " 'instruction': \"<DOCUMENT>Its not the best or biggest part of my trip, but like good food, it adds to it . For me its about spending time with myself, zero expectations of meeting others or making friends, thats how I am in real life too . The thing I see on this sub is that I can always meet up with them later or never .My biggest gripe with solo travel is that you have full control when you want to be among people. And you can nope out whenever you want. Welcome to the club!, I had a friend who complained about everything, left star reviews on Google, and constantly complained about his feet getting tired. I swear to god, this type of person is the most horrible to travel with.</DOCUMENT>\\n<DOCUMENT>Big nightclubs. Good access to boat tours.</DOCUMENT>\\n<DOCUMENT>The homeowner lives out of the country most of the year, so I am the guest contact . When they have responded enough times they will begin to crack down on them further and perhaps get code enforcement involved.Seoulo trip ahaha Have an awesome time and enjoy the sights and yummy food! Hey, Ill be in Seoul th timer from Sept Oct .I will be in Phuket Kamala around the rd of November .</DOCUMENT>\\n<DOCUMENT>Easiest but most expensive would be go to a foreigner clinic and see an English speaking doctor . I noticed there are different types of hospitals in Shanghai for getting an STD checkup .Haneda will be the cheapest by a bit on public transportation, but Narita will be easier . From Narita Airport to Kashiwa, it costs about , yen by train and transfer to ShinKamagaya Station .</DOCUMENT>\\n<DOCUMENT>You can definitely go into Lisbon and enjoy a meal, walk around for a couple hours before your boarding time . The metro gets you into Lisbon from the airport in like minutes . If you have lots of time, i would definitely try to go to Lisbon and get something to eat and walk around a bit, better than spending six hours on the airport .Otherwise your extension will be automatically cancelled when HR cancel your work permit . Youll need to leave the country immediately you can get a day extension to deal with this, but need to apply for that in person at any immigration office . If youre still on the books, you should be able to renew it as usual .The idea of an Osaka Expo and the size of its budget have become too expensive, and countries are now withdrawing from the competition . This is a good article about Mexico also making a hard decision .You can just bring a cat directly through immigration in Amsterdam without any issue, but you will need to fly to Oslo first unless you happen to be relocating in the very far north . If you are traveling with a pet to Norway from a country outside the EUEEA, you can only arrive via Oslo Airport Gardermoen or via Storskog Kirkenes . Otherwise youll have to pay for the obligatory quarantine., Microchip, IDdocuments, rabies vaccination and someThe key to having a neighbourhood pub and being a regular is going often . You don't need to do anything other than going, buying a pint and sitting there read if you want or do whatever else .</DOCUMENT>\\nHow long does it take to get from Lisbon airport to the city center via metro?\"}"
      ]
     },
     "execution_count": 15,
     "metadata": {},
     "output_type": "execute_result"
    }
   ],
   "source": [
    "ds[0]"
   ]
  },
  {
   "cell_type": "code",
   "execution_count": 29,
   "metadata": {},
   "outputs": [
    {
     "data": {
      "application/vnd.jupyter.widget-view+json": {
       "model_id": "9206a87c4fc94acea2ec9870e2fc123c",
       "version_major": 2,
       "version_minor": 0
      },
      "text/plain": [
       "Creating json from Arrow format:   0%|          | 0/1 [00:00<?, ?ba/s]"
      ]
     },
     "metadata": {},
     "output_type": "display_data"
    },
    {
     "data": {
      "text/plain": [
       "1585574"
      ]
     },
     "execution_count": 29,
     "metadata": {},
     "output_type": "execute_result"
    }
   ],
   "source": [
    "ds.to_json('reddit_falcon_raft.json')"
   ]
  },
  {
   "cell_type": "markdown",
   "metadata": {},
   "source": [
    "https://shashi-vish.medium.com/how-to-upload-dataset-on-huggingface-7b6ce68f1ea0"
   ]
  },
  {
   "cell_type": "markdown",
   "metadata": {},
   "source": [
    "# DO NOT HIBERNATE - CLOSE LID "
   ]
  },
  {
   "cell_type": "code",
   "execution_count": null,
   "metadata": {},
   "outputs": [],
   "source": []
  },
  {
   "cell_type": "code",
   "execution_count": null,
   "metadata": {},
   "outputs": [],
   "source": []
  }
 ],
 "metadata": {
  "kernelspec": {
   "display_name": "Python 3 (ipykernel)",
   "language": "python",
   "name": "python3"
  },
  "language_info": {
   "codemirror_mode": {
    "name": "ipython",
    "version": 3
   },
   "file_extension": ".py",
   "mimetype": "text/x-python",
   "name": "python",
   "nbconvert_exporter": "python",
   "pygments_lexer": "ipython3",
   "version": "3.9.18"
  }
 },
 "nbformat": 4,
 "nbformat_minor": 4
}
